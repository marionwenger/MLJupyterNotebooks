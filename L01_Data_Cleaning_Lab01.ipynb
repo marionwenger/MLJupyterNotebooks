{
 "cells": [
  {
   "cell_type": "markdown",
   "metadata": {
    "id": "H8fDg0Zyh3D8"
   },
   "source": [
    "# Lab 01 Data Cleaning and Exploration"
   ]
  },
  {
   "cell_type": "markdown",
   "metadata": {
    "id": "Y20uIgmUh9D_"
   },
   "source": [
    "In this Lab, we will work with official COVID19 case data published by the Swiss government. The data can be found [here](https://github.com/openZH/covid_19/tree/master#swiss-cantons-and-principality-of-liechtenstein-unified-dataset).\n",
    "\n",
    "It has been partially adapted from [this](https://datagy.io/pandas-data-cleaning/) tutorial."
   ]
  },
  {
   "cell_type": "code",
   "execution_count": 1,
   "metadata": {},
   "outputs": [
    {
     "data": {
      "application/javascript": [
       "IPython.notebook.set_autosave_interval(5000)"
      ]
     },
     "metadata": {},
     "output_type": "display_data"
    },
    {
     "name": "stdout",
     "output_type": "stream",
     "text": [
      "Autosaving every 5 seconds\n"
     ]
    }
   ],
   "source": [
    "%autosave 5\n",
    "\n",
    "%matplotlib inline"
   ]
  },
  {
   "cell_type": "code",
   "execution_count": 2,
   "metadata": {},
   "outputs": [
    {
     "data": {
      "application/javascript": [
       "// Disable scrolling; otherwise some DataFrames are shown partially and need scrolling. \n",
       "IPython.OutputArea.prototype._should_scroll = function(lines) {\n",
       "return false; \n",
       "}\n"
      ],
      "text/plain": [
       "<IPython.core.display.Javascript object>"
      ]
     },
     "metadata": {},
     "output_type": "display_data"
    }
   ],
   "source": [
    "%%javascript\n",
    "// Disable scrolling; otherwise some DataFrames are shown partially and need scrolling. \n",
    "IPython.OutputArea.prototype._should_scroll = function(lines) {\n",
    "return false; \n",
    "}"
   ]
  },
  {
   "cell_type": "markdown",
   "metadata": {
    "id": "70M0L7qqdFpX"
   },
   "source": [
    "**Note:** We will mark your tasks with 🚨 emoji. In this lab the first such task will appear relatively late."
   ]
  },
  {
   "cell_type": "markdown",
   "metadata": {
    "id": "su744hkOjT_q"
   },
   "source": [
    "## Fetching the Raw Data"
   ]
  },
  {
   "cell_type": "markdown",
   "metadata": {
    "id": "rmHEwCJWiS1p"
   },
   "source": [
    "First, we will load the raw data. The data should be saved as `swiss_covid_data.csv` in your current working directory. "
   ]
  },
  {
   "cell_type": "markdown",
   "metadata": {
    "id": "laWhb0nSinz-"
   },
   "source": [
    "Next, we try to inspect the downloaded data to get an understanding of its format. The command below will display the first 6 lines of the downloaded file.\n",
    "\n",
    "Even though `.csv` stands for \"comma separated values\", often times people distribute `.csv` files with different separator characters. In this case, everything seems to be in order."
   ]
  },
  {
   "cell_type": "code",
   "execution_count": 3,
   "metadata": {
    "id": "fl5ISREjhhCG"
   },
   "outputs": [
    {
     "name": "stdout",
     "output_type": "stream",
     "text": [
      "date,time,abbreviation_canton_and_fl,ncumul_tested,ncumul_conf,new_hosp,current_hosp,current_icu,current_vent,ncumul_released,ncumul_deceased,source,current_isolated,current_quarantined,current_quarantined_riskareatravel,current_quarantined_total\r\n",
      "2020-02-01,00:00,GE,109,0,,,,,,0,https://infocovid.smc.unige.ch/,1,0,0\r\n",
      "2020-02-02,00:00,GE,115,0,,,,,,0,https://infocovid.smc.unige.ch/,1,0,0\r\n",
      "2020-02-03,00:00,GE,136,0,,,,,,0,https://infocovid.smc.unige.ch/,1,0,0\r\n",
      "2020-02-04,00:00,GE,156,0,,,,,,0,https://infocovid.smc.unige.ch/,1,0,0\r\n",
      "2020-02-05,00:00,GE,169,0,,,,,,0,https://infocovid.smc.unige.ch/,1,0,0\r\n"
     ]
    }
   ],
   "source": [
    "!head -n 6 swiss_covid_data.csv"
   ]
  },
  {
   "cell_type": "markdown",
   "metadata": {
    "id": "o_qtzlLwjbHB"
   },
   "source": [
    "In this lab, we will use the `pandas` library to analyze and clean this dataset. This library is particularly well suited to work with tabular data."
   ]
  },
  {
   "cell_type": "code",
   "execution_count": 4,
   "metadata": {
    "id": "5rhts6vUjvr-"
   },
   "outputs": [],
   "source": [
    "import pandas as pd  # we import the library with the short-name `pd`, a convention you will find everywhere online"
   ]
  },
  {
   "cell_type": "markdown",
   "metadata": {
    "id": "ZF8FUL2ykCVw"
   },
   "source": [
    "Next, we will read the dataset:"
   ]
  },
  {
   "cell_type": "code",
   "execution_count": 5,
   "metadata": {
    "id": "outDL0D6j8a-"
   },
   "outputs": [],
   "source": [
    "covid_data = pd.read_csv('swiss_covid_data.csv')\n",
    "covid_original = covid_data # backup"
   ]
  },
  {
   "cell_type": "markdown",
   "metadata": {
    "id": "6Fa2BO75kiSD"
   },
   "source": [
    "Note that if you ever work with a `.csv` that does not include the column names in the first line, or has a different separating character, you can specify these in `pd.read_csv` with the `sep` and `header` keyword arguments. For more options, you can refer to the [documentation](https://pandas.pydata.org/pandas-docs/stable/reference/api/pandas.read_csv.html)."
   ]
  },
  {
   "cell_type": "markdown",
   "metadata": {
    "id": "woOoUG7ClWCp"
   },
   "source": [
    "The data is loaded as a `pd.Dataframe` which exposes many useful methods for this lab."
   ]
  },
  {
   "cell_type": "markdown",
   "metadata": {
    "id": "UNTIWnXclj2K"
   },
   "source": [
    "## Inspecting the Data"
   ]
  },
  {
   "cell_type": "markdown",
   "metadata": {
    "id": "SxN_DAo0loVg"
   },
   "source": [
    "We can use the `.head()` method to get a quick idea of the kind of data we are dealing with. It will return the first `n=5` rows of the dataframe."
   ]
  },
  {
   "cell_type": "code",
   "execution_count": 6,
   "metadata": {
    "id": "fjO63aUolo8v"
   },
   "outputs": [
    {
     "data": {
      "text/html": [
       "<div>\n",
       "<style scoped>\n",
       "    .dataframe tbody tr th:only-of-type {\n",
       "        vertical-align: middle;\n",
       "    }\n",
       "\n",
       "    .dataframe tbody tr th {\n",
       "        vertical-align: top;\n",
       "    }\n",
       "\n",
       "    .dataframe thead th {\n",
       "        text-align: right;\n",
       "    }\n",
       "</style>\n",
       "<table border=\"1\" class=\"dataframe\">\n",
       "  <thead>\n",
       "    <tr style=\"text-align: right;\">\n",
       "      <th></th>\n",
       "      <th>date</th>\n",
       "      <th>time</th>\n",
       "      <th>abbreviation_canton_and_fl</th>\n",
       "      <th>ncumul_tested</th>\n",
       "      <th>ncumul_conf</th>\n",
       "      <th>new_hosp</th>\n",
       "      <th>current_hosp</th>\n",
       "      <th>current_icu</th>\n",
       "      <th>current_vent</th>\n",
       "      <th>ncumul_released</th>\n",
       "      <th>ncumul_deceased</th>\n",
       "      <th>source</th>\n",
       "      <th>current_isolated</th>\n",
       "      <th>current_quarantined</th>\n",
       "      <th>current_quarantined_riskareatravel</th>\n",
       "      <th>current_quarantined_total</th>\n",
       "    </tr>\n",
       "  </thead>\n",
       "  <tbody>\n",
       "    <tr>\n",
       "      <th>0</th>\n",
       "      <td>2020-02-01</td>\n",
       "      <td>00:00</td>\n",
       "      <td>GE</td>\n",
       "      <td>109.0</td>\n",
       "      <td>0.0</td>\n",
       "      <td>NaN</td>\n",
       "      <td>NaN</td>\n",
       "      <td>NaN</td>\n",
       "      <td>NaN</td>\n",
       "      <td>NaN</td>\n",
       "      <td>0.0</td>\n",
       "      <td>https://infocovid.smc.unige.ch/</td>\n",
       "      <td>1.0</td>\n",
       "      <td>0.0</td>\n",
       "      <td>0.0</td>\n",
       "      <td>NaN</td>\n",
       "    </tr>\n",
       "    <tr>\n",
       "      <th>1</th>\n",
       "      <td>2020-02-02</td>\n",
       "      <td>00:00</td>\n",
       "      <td>GE</td>\n",
       "      <td>115.0</td>\n",
       "      <td>0.0</td>\n",
       "      <td>NaN</td>\n",
       "      <td>NaN</td>\n",
       "      <td>NaN</td>\n",
       "      <td>NaN</td>\n",
       "      <td>NaN</td>\n",
       "      <td>0.0</td>\n",
       "      <td>https://infocovid.smc.unige.ch/</td>\n",
       "      <td>1.0</td>\n",
       "      <td>0.0</td>\n",
       "      <td>0.0</td>\n",
       "      <td>NaN</td>\n",
       "    </tr>\n",
       "    <tr>\n",
       "      <th>2</th>\n",
       "      <td>2020-02-03</td>\n",
       "      <td>00:00</td>\n",
       "      <td>GE</td>\n",
       "      <td>136.0</td>\n",
       "      <td>0.0</td>\n",
       "      <td>NaN</td>\n",
       "      <td>NaN</td>\n",
       "      <td>NaN</td>\n",
       "      <td>NaN</td>\n",
       "      <td>NaN</td>\n",
       "      <td>0.0</td>\n",
       "      <td>https://infocovid.smc.unige.ch/</td>\n",
       "      <td>1.0</td>\n",
       "      <td>0.0</td>\n",
       "      <td>0.0</td>\n",
       "      <td>NaN</td>\n",
       "    </tr>\n",
       "    <tr>\n",
       "      <th>3</th>\n",
       "      <td>2020-02-04</td>\n",
       "      <td>00:00</td>\n",
       "      <td>GE</td>\n",
       "      <td>156.0</td>\n",
       "      <td>0.0</td>\n",
       "      <td>NaN</td>\n",
       "      <td>NaN</td>\n",
       "      <td>NaN</td>\n",
       "      <td>NaN</td>\n",
       "      <td>NaN</td>\n",
       "      <td>0.0</td>\n",
       "      <td>https://infocovid.smc.unige.ch/</td>\n",
       "      <td>1.0</td>\n",
       "      <td>0.0</td>\n",
       "      <td>0.0</td>\n",
       "      <td>NaN</td>\n",
       "    </tr>\n",
       "    <tr>\n",
       "      <th>4</th>\n",
       "      <td>2020-02-05</td>\n",
       "      <td>00:00</td>\n",
       "      <td>GE</td>\n",
       "      <td>169.0</td>\n",
       "      <td>0.0</td>\n",
       "      <td>NaN</td>\n",
       "      <td>NaN</td>\n",
       "      <td>NaN</td>\n",
       "      <td>NaN</td>\n",
       "      <td>NaN</td>\n",
       "      <td>0.0</td>\n",
       "      <td>https://infocovid.smc.unige.ch/</td>\n",
       "      <td>1.0</td>\n",
       "      <td>0.0</td>\n",
       "      <td>0.0</td>\n",
       "      <td>NaN</td>\n",
       "    </tr>\n",
       "  </tbody>\n",
       "</table>\n",
       "</div>"
      ],
      "text/plain": [
       "         date   time abbreviation_canton_and_fl  ncumul_tested  ncumul_conf  \\\n",
       "0  2020-02-01  00:00                         GE          109.0          0.0   \n",
       "1  2020-02-02  00:00                         GE          115.0          0.0   \n",
       "2  2020-02-03  00:00                         GE          136.0          0.0   \n",
       "3  2020-02-04  00:00                         GE          156.0          0.0   \n",
       "4  2020-02-05  00:00                         GE          169.0          0.0   \n",
       "\n",
       "   new_hosp  current_hosp  current_icu  current_vent  ncumul_released  \\\n",
       "0       NaN           NaN          NaN           NaN              NaN   \n",
       "1       NaN           NaN          NaN           NaN              NaN   \n",
       "2       NaN           NaN          NaN           NaN              NaN   \n",
       "3       NaN           NaN          NaN           NaN              NaN   \n",
       "4       NaN           NaN          NaN           NaN              NaN   \n",
       "\n",
       "   ncumul_deceased                           source  current_isolated  \\\n",
       "0              0.0  https://infocovid.smc.unige.ch/               1.0   \n",
       "1              0.0  https://infocovid.smc.unige.ch/               1.0   \n",
       "2              0.0  https://infocovid.smc.unige.ch/               1.0   \n",
       "3              0.0  https://infocovid.smc.unige.ch/               1.0   \n",
       "4              0.0  https://infocovid.smc.unige.ch/               1.0   \n",
       "\n",
       "   current_quarantined  current_quarantined_riskareatravel  \\\n",
       "0                  0.0                                 0.0   \n",
       "1                  0.0                                 0.0   \n",
       "2                  0.0                                 0.0   \n",
       "3                  0.0                                 0.0   \n",
       "4                  0.0                                 0.0   \n",
       "\n",
       "   current_quarantined_total  \n",
       "0                        NaN  \n",
       "1                        NaN  \n",
       "2                        NaN  \n",
       "3                        NaN  \n",
       "4                        NaN  "
      ]
     },
     "execution_count": 6,
     "metadata": {},
     "output_type": "execute_result"
    }
   ],
   "source": [
    "covid_data.head()"
   ]
  },
  {
   "cell_type": "markdown",
   "metadata": {
    "id": "p-oFMdinsYxw"
   },
   "source": [
    "Next, it is important to get a good sense what the different columns represent. Some of them have intuitive names, such as `date` and `time`, but names like `ncumul_conf` can be inscrutable."
   ]
  },
  {
   "cell_type": "markdown",
   "metadata": {
    "id": "izSwTMH0tAaZ"
   },
   "source": [
    "For convenience, we copied the [data description](https://github.com/openZH/covid_19/blob/master/README.md#swiss-cantons-and-principality-of-liechtenstein-unified-dataset) below.\n",
    "Be sure to study it carefully. Understanding the meaning of the data you are working with is crucial when deciding how to deal with missing values and other aspect of data cleanup!"
   ]
  },
  {
   "cell_type": "markdown",
   "metadata": {
    "id": "spjSOwUWsng4"
   },
   "source": [
    "\n",
    "**Metadata**\n",
    "\n",
    "| Field Name          | Description                                | Format     | Note |\n",
    "|---------------------|--------------------------------------------|------------|------|\n",
    "| __date__              | Date of notification                       | YYYY-MM-DD | |\n",
    "| __time__                 | Time of notification                       | HH:MM      | |\n",
    "| __abbreviation_canton_and_fl__  | Abbreviation of the reporting canton       | Text       | |\n",
    "| __ncumul_tested__      | Reported number of tests performed as of date| Number     | Irrespective of canton of residence |\n",
    "| __ncumul_conf__          | Reported number of confirmed cases as of date| Number     | Only cases that reside in the current canton |\n",
    "| __new_hosp__        | new hospitalisations since last date | Number     | Irrespective of canton of residence |\n",
    "| __current_hosp__       | Reported number of hospitalised patients on date | Number     | Irrespective of canton of residence |\n",
    "| __current_icu__       | Reported number of hospitalised patients in ICUs on date| Number     | Irrespective of canton of residence |\n",
    "| __current_vent__        | Reported number of patients requiring invasive ventilation on date | Number     | Irrespective of canton of residence |\n",
    "| __ncumul_released__     |Reported number of patients released from hospitals or reported recovered as of date| Number     | Irrespective of canton of residence |\n",
    "| __ncumul_deceased__     |Reported number of deceased as of date| Number     | Only cases that reside in the current canton |\n",
    "| __source__              | Source of the information                  | href       | |\n",
    "| __current_isolated__       | Reported number of isolated persons on date          | Number       | Infected persons, who are not hospitalised |\n",
    "| __current_quarantined__    | Reported number of quarantined persons on date       | Number       | Persons, who were in 'close contact' with an infected person, while that person was infectious, and are not hospitalised themselves |\n",
    "| __current_quarantined_riskareatravel__    | Reported number of quarantined persons on date       | Number       | People arriving in Switzerland from [certain countries and areas](https://www.bag.admin.ch/bag/en/home/krankheiten/ausbrueche-epidemien-pandemien/aktuelle-ausbrueche-epidemien/novel-cov/empfehlungen-fuer-reisende/quarantaene-einreisende.html), who are required to go into quarantine.  |"
   ]
  },
  {
   "cell_type": "markdown",
   "metadata": {
    "id": "CUNui20Vs2_7"
   },
   "source": [
    "Another useful method to get a quick feel for the data at hand is `.describe()` which produces a table of statistics about the different columns. By default it will only include numeric columns, but you can set `include='all'` to get an overview of all columns. Note that when computing statistics such as the mean, `NaN` values will be ignored."
   ]
  },
  {
   "cell_type": "code",
   "execution_count": 7,
   "metadata": {
    "id": "sYWGO9TflzcD"
   },
   "outputs": [
    {
     "data": {
      "text/html": [
       "<div>\n",
       "<style scoped>\n",
       "    .dataframe tbody tr th:only-of-type {\n",
       "        vertical-align: middle;\n",
       "    }\n",
       "\n",
       "    .dataframe tbody tr th {\n",
       "        vertical-align: top;\n",
       "    }\n",
       "\n",
       "    .dataframe thead th {\n",
       "        text-align: right;\n",
       "    }\n",
       "</style>\n",
       "<table border=\"1\" class=\"dataframe\">\n",
       "  <thead>\n",
       "    <tr style=\"text-align: right;\">\n",
       "      <th></th>\n",
       "      <th>ncumul_tested</th>\n",
       "      <th>ncumul_conf</th>\n",
       "      <th>new_hosp</th>\n",
       "      <th>current_hosp</th>\n",
       "      <th>current_icu</th>\n",
       "      <th>current_vent</th>\n",
       "      <th>ncumul_released</th>\n",
       "      <th>ncumul_deceased</th>\n",
       "      <th>current_isolated</th>\n",
       "      <th>current_quarantined</th>\n",
       "      <th>current_quarantined_riskareatravel</th>\n",
       "      <th>current_quarantined_total</th>\n",
       "    </tr>\n",
       "  </thead>\n",
       "  <tbody>\n",
       "    <tr>\n",
       "      <th>count</th>\n",
       "      <td>263.000000</td>\n",
       "      <td>23494.000000</td>\n",
       "      <td>1394.000000</td>\n",
       "      <td>20905.000000</td>\n",
       "      <td>17943.000000</td>\n",
       "      <td>7337.000000</td>\n",
       "      <td>7370.000000</td>\n",
       "      <td>21754.000000</td>\n",
       "      <td>9304.000000</td>\n",
       "      <td>8926.000000</td>\n",
       "      <td>5130.000000</td>\n",
       "      <td>0.0</td>\n",
       "    </tr>\n",
       "    <tr>\n",
       "      <th>mean</th>\n",
       "      <td>87064.946768</td>\n",
       "      <td>59454.099047</td>\n",
       "      <td>3.806313</td>\n",
       "      <td>47.185889</td>\n",
       "      <td>7.081202</td>\n",
       "      <td>7.768570</td>\n",
       "      <td>11700.714247</td>\n",
       "      <td>346.803852</td>\n",
       "      <td>960.948087</td>\n",
       "      <td>886.834528</td>\n",
       "      <td>172.386355</td>\n",
       "      <td>NaN</td>\n",
       "    </tr>\n",
       "    <tr>\n",
       "      <th>std</th>\n",
       "      <td>169095.208224</td>\n",
       "      <td>114625.610981</td>\n",
       "      <td>5.597001</td>\n",
       "      <td>80.293774</td>\n",
       "      <td>12.497653</td>\n",
       "      <td>12.047893</td>\n",
       "      <td>23160.148621</td>\n",
       "      <td>414.444033</td>\n",
       "      <td>2338.229884</td>\n",
       "      <td>3864.375585</td>\n",
       "      <td>400.062536</td>\n",
       "      <td>NaN</td>\n",
       "    </tr>\n",
       "    <tr>\n",
       "      <th>min</th>\n",
       "      <td>1.000000</td>\n",
       "      <td>0.000000</td>\n",
       "      <td>0.000000</td>\n",
       "      <td>0.000000</td>\n",
       "      <td>0.000000</td>\n",
       "      <td>0.000000</td>\n",
       "      <td>0.000000</td>\n",
       "      <td>0.000000</td>\n",
       "      <td>0.000000</td>\n",
       "      <td>0.000000</td>\n",
       "      <td>0.000000</td>\n",
       "      <td>NaN</td>\n",
       "    </tr>\n",
       "    <tr>\n",
       "      <th>25%</th>\n",
       "      <td>4465.000000</td>\n",
       "      <td>2309.250000</td>\n",
       "      <td>0.000000</td>\n",
       "      <td>4.000000</td>\n",
       "      <td>1.000000</td>\n",
       "      <td>0.000000</td>\n",
       "      <td>690.000000</td>\n",
       "      <td>47.000000</td>\n",
       "      <td>41.000000</td>\n",
       "      <td>28.000000</td>\n",
       "      <td>0.000000</td>\n",
       "      <td>NaN</td>\n",
       "    </tr>\n",
       "    <tr>\n",
       "      <th>50%</th>\n",
       "      <td>24257.000000</td>\n",
       "      <td>17392.500000</td>\n",
       "      <td>2.000000</td>\n",
       "      <td>17.000000</td>\n",
       "      <td>3.000000</td>\n",
       "      <td>3.000000</td>\n",
       "      <td>2166.500000</td>\n",
       "      <td>178.000000</td>\n",
       "      <td>201.000000</td>\n",
       "      <td>128.500000</td>\n",
       "      <td>13.000000</td>\n",
       "      <td>NaN</td>\n",
       "    </tr>\n",
       "    <tr>\n",
       "      <th>75%</th>\n",
       "      <td>47067.500000</td>\n",
       "      <td>68330.500000</td>\n",
       "      <td>5.000000</td>\n",
       "      <td>51.000000</td>\n",
       "      <td>7.000000</td>\n",
       "      <td>9.000000</td>\n",
       "      <td>11854.000000</td>\n",
       "      <td>495.000000</td>\n",
       "      <td>843.250000</td>\n",
       "      <td>542.000000</td>\n",
       "      <td>158.000000</td>\n",
       "      <td>NaN</td>\n",
       "    </tr>\n",
       "    <tr>\n",
       "      <th>max</th>\n",
       "      <td>782102.000000</td>\n",
       "      <td>803198.000000</td>\n",
       "      <td>53.000000</td>\n",
       "      <td>669.000000</td>\n",
       "      <td>107.000000</td>\n",
       "      <td>79.000000</td>\n",
       "      <td>183600.000000</td>\n",
       "      <td>1890.000000</td>\n",
       "      <td>29023.000000</td>\n",
       "      <td>100577.000000</td>\n",
       "      <td>5980.000000</td>\n",
       "      <td>NaN</td>\n",
       "    </tr>\n",
       "  </tbody>\n",
       "</table>\n",
       "</div>"
      ],
      "text/plain": [
       "       ncumul_tested    ncumul_conf     new_hosp  current_hosp   current_icu  \\\n",
       "count     263.000000   23494.000000  1394.000000  20905.000000  17943.000000   \n",
       "mean    87064.946768   59454.099047     3.806313     47.185889      7.081202   \n",
       "std    169095.208224  114625.610981     5.597001     80.293774     12.497653   \n",
       "min         1.000000       0.000000     0.000000      0.000000      0.000000   \n",
       "25%      4465.000000    2309.250000     0.000000      4.000000      1.000000   \n",
       "50%     24257.000000   17392.500000     2.000000     17.000000      3.000000   \n",
       "75%     47067.500000   68330.500000     5.000000     51.000000      7.000000   \n",
       "max    782102.000000  803198.000000    53.000000    669.000000    107.000000   \n",
       "\n",
       "       current_vent  ncumul_released  ncumul_deceased  current_isolated  \\\n",
       "count   7337.000000      7370.000000     21754.000000       9304.000000   \n",
       "mean       7.768570     11700.714247       346.803852        960.948087   \n",
       "std       12.047893     23160.148621       414.444033       2338.229884   \n",
       "min        0.000000         0.000000         0.000000          0.000000   \n",
       "25%        0.000000       690.000000        47.000000         41.000000   \n",
       "50%        3.000000      2166.500000       178.000000        201.000000   \n",
       "75%        9.000000     11854.000000       495.000000        843.250000   \n",
       "max       79.000000    183600.000000      1890.000000      29023.000000   \n",
       "\n",
       "       current_quarantined  current_quarantined_riskareatravel  \\\n",
       "count          8926.000000                         5130.000000   \n",
       "mean            886.834528                          172.386355   \n",
       "std            3864.375585                          400.062536   \n",
       "min               0.000000                            0.000000   \n",
       "25%              28.000000                            0.000000   \n",
       "50%             128.500000                           13.000000   \n",
       "75%             542.000000                          158.000000   \n",
       "max          100577.000000                         5980.000000   \n",
       "\n",
       "       current_quarantined_total  \n",
       "count                        0.0  \n",
       "mean                         NaN  \n",
       "std                          NaN  \n",
       "min                          NaN  \n",
       "25%                          NaN  \n",
       "50%                          NaN  \n",
       "75%                          NaN  \n",
       "max                          NaN  "
      ]
     },
     "execution_count": 7,
     "metadata": {},
     "output_type": "execute_result"
    }
   ],
   "source": [
    "covid_data.describe()\n",
    "# try setting `include='all'`"
   ]
  },
  {
   "cell_type": "code",
   "execution_count": 8,
   "metadata": {},
   "outputs": [
    {
     "data": {
      "text/html": [
       "<div>\n",
       "<style scoped>\n",
       "    .dataframe tbody tr th:only-of-type {\n",
       "        vertical-align: middle;\n",
       "    }\n",
       "\n",
       "    .dataframe tbody tr th {\n",
       "        vertical-align: top;\n",
       "    }\n",
       "\n",
       "    .dataframe thead th {\n",
       "        text-align: right;\n",
       "    }\n",
       "</style>\n",
       "<table border=\"1\" class=\"dataframe\">\n",
       "  <thead>\n",
       "    <tr style=\"text-align: right;\">\n",
       "      <th></th>\n",
       "      <th>date</th>\n",
       "      <th>time</th>\n",
       "      <th>abbreviation_canton_and_fl</th>\n",
       "      <th>ncumul_tested</th>\n",
       "      <th>ncumul_conf</th>\n",
       "      <th>new_hosp</th>\n",
       "      <th>current_hosp</th>\n",
       "      <th>current_icu</th>\n",
       "      <th>current_vent</th>\n",
       "      <th>ncumul_released</th>\n",
       "      <th>ncumul_deceased</th>\n",
       "      <th>source</th>\n",
       "      <th>current_isolated</th>\n",
       "      <th>current_quarantined</th>\n",
       "      <th>current_quarantined_riskareatravel</th>\n",
       "      <th>current_quarantined_total</th>\n",
       "    </tr>\n",
       "  </thead>\n",
       "  <tbody>\n",
       "    <tr>\n",
       "      <th>count</th>\n",
       "      <td>24041</td>\n",
       "      <td>11507</td>\n",
       "      <td>24041</td>\n",
       "      <td>263.000000</td>\n",
       "      <td>23494.000000</td>\n",
       "      <td>1394.000000</td>\n",
       "      <td>20905.000000</td>\n",
       "      <td>17943.000000</td>\n",
       "      <td>7337.000000</td>\n",
       "      <td>7370.000000</td>\n",
       "      <td>21754.000000</td>\n",
       "      <td>24039</td>\n",
       "      <td>9304.000000</td>\n",
       "      <td>8926.000000</td>\n",
       "      <td>5130.000000</td>\n",
       "      <td>0.0</td>\n",
       "    </tr>\n",
       "    <tr>\n",
       "      <th>unique</th>\n",
       "      <td>1320</td>\n",
       "      <td>114</td>\n",
       "      <td>27</td>\n",
       "      <td>NaN</td>\n",
       "      <td>NaN</td>\n",
       "      <td>NaN</td>\n",
       "      <td>NaN</td>\n",
       "      <td>NaN</td>\n",
       "      <td>NaN</td>\n",
       "      <td>NaN</td>\n",
       "      <td>NaN</td>\n",
       "      <td>339</td>\n",
       "      <td>NaN</td>\n",
       "      <td>NaN</td>\n",
       "      <td>NaN</td>\n",
       "      <td>NaN</td>\n",
       "    </tr>\n",
       "    <tr>\n",
       "      <th>top</th>\n",
       "      <td>2020-07-29</td>\n",
       "      <td>00:00</td>\n",
       "      <td>GE</td>\n",
       "      <td>NaN</td>\n",
       "      <td>NaN</td>\n",
       "      <td>NaN</td>\n",
       "      <td>NaN</td>\n",
       "      <td>NaN</td>\n",
       "      <td>NaN</td>\n",
       "      <td>NaN</td>\n",
       "      <td>NaN</td>\n",
       "      <td>https://infocovid.smc.unige.ch/</td>\n",
       "      <td>NaN</td>\n",
       "      <td>NaN</td>\n",
       "      <td>NaN</td>\n",
       "      <td>NaN</td>\n",
       "    </tr>\n",
       "    <tr>\n",
       "      <th>freq</th>\n",
       "      <td>27</td>\n",
       "      <td>3622</td>\n",
       "      <td>1320</td>\n",
       "      <td>NaN</td>\n",
       "      <td>NaN</td>\n",
       "      <td>NaN</td>\n",
       "      <td>NaN</td>\n",
       "      <td>NaN</td>\n",
       "      <td>NaN</td>\n",
       "      <td>NaN</td>\n",
       "      <td>NaN</td>\n",
       "      <td>1320</td>\n",
       "      <td>NaN</td>\n",
       "      <td>NaN</td>\n",
       "      <td>NaN</td>\n",
       "      <td>NaN</td>\n",
       "    </tr>\n",
       "    <tr>\n",
       "      <th>mean</th>\n",
       "      <td>NaN</td>\n",
       "      <td>NaN</td>\n",
       "      <td>NaN</td>\n",
       "      <td>87064.946768</td>\n",
       "      <td>59454.099047</td>\n",
       "      <td>3.806313</td>\n",
       "      <td>47.185889</td>\n",
       "      <td>7.081202</td>\n",
       "      <td>7.768570</td>\n",
       "      <td>11700.714247</td>\n",
       "      <td>346.803852</td>\n",
       "      <td>NaN</td>\n",
       "      <td>960.948087</td>\n",
       "      <td>886.834528</td>\n",
       "      <td>172.386355</td>\n",
       "      <td>NaN</td>\n",
       "    </tr>\n",
       "    <tr>\n",
       "      <th>std</th>\n",
       "      <td>NaN</td>\n",
       "      <td>NaN</td>\n",
       "      <td>NaN</td>\n",
       "      <td>169095.208224</td>\n",
       "      <td>114625.610981</td>\n",
       "      <td>5.597001</td>\n",
       "      <td>80.293774</td>\n",
       "      <td>12.497653</td>\n",
       "      <td>12.047893</td>\n",
       "      <td>23160.148621</td>\n",
       "      <td>414.444033</td>\n",
       "      <td>NaN</td>\n",
       "      <td>2338.229884</td>\n",
       "      <td>3864.375585</td>\n",
       "      <td>400.062536</td>\n",
       "      <td>NaN</td>\n",
       "    </tr>\n",
       "    <tr>\n",
       "      <th>min</th>\n",
       "      <td>NaN</td>\n",
       "      <td>NaN</td>\n",
       "      <td>NaN</td>\n",
       "      <td>1.000000</td>\n",
       "      <td>0.000000</td>\n",
       "      <td>0.000000</td>\n",
       "      <td>0.000000</td>\n",
       "      <td>0.000000</td>\n",
       "      <td>0.000000</td>\n",
       "      <td>0.000000</td>\n",
       "      <td>0.000000</td>\n",
       "      <td>NaN</td>\n",
       "      <td>0.000000</td>\n",
       "      <td>0.000000</td>\n",
       "      <td>0.000000</td>\n",
       "      <td>NaN</td>\n",
       "    </tr>\n",
       "    <tr>\n",
       "      <th>25%</th>\n",
       "      <td>NaN</td>\n",
       "      <td>NaN</td>\n",
       "      <td>NaN</td>\n",
       "      <td>4465.000000</td>\n",
       "      <td>2309.250000</td>\n",
       "      <td>0.000000</td>\n",
       "      <td>4.000000</td>\n",
       "      <td>1.000000</td>\n",
       "      <td>0.000000</td>\n",
       "      <td>690.000000</td>\n",
       "      <td>47.000000</td>\n",
       "      <td>NaN</td>\n",
       "      <td>41.000000</td>\n",
       "      <td>28.000000</td>\n",
       "      <td>0.000000</td>\n",
       "      <td>NaN</td>\n",
       "    </tr>\n",
       "    <tr>\n",
       "      <th>50%</th>\n",
       "      <td>NaN</td>\n",
       "      <td>NaN</td>\n",
       "      <td>NaN</td>\n",
       "      <td>24257.000000</td>\n",
       "      <td>17392.500000</td>\n",
       "      <td>2.000000</td>\n",
       "      <td>17.000000</td>\n",
       "      <td>3.000000</td>\n",
       "      <td>3.000000</td>\n",
       "      <td>2166.500000</td>\n",
       "      <td>178.000000</td>\n",
       "      <td>NaN</td>\n",
       "      <td>201.000000</td>\n",
       "      <td>128.500000</td>\n",
       "      <td>13.000000</td>\n",
       "      <td>NaN</td>\n",
       "    </tr>\n",
       "    <tr>\n",
       "      <th>75%</th>\n",
       "      <td>NaN</td>\n",
       "      <td>NaN</td>\n",
       "      <td>NaN</td>\n",
       "      <td>47067.500000</td>\n",
       "      <td>68330.500000</td>\n",
       "      <td>5.000000</td>\n",
       "      <td>51.000000</td>\n",
       "      <td>7.000000</td>\n",
       "      <td>9.000000</td>\n",
       "      <td>11854.000000</td>\n",
       "      <td>495.000000</td>\n",
       "      <td>NaN</td>\n",
       "      <td>843.250000</td>\n",
       "      <td>542.000000</td>\n",
       "      <td>158.000000</td>\n",
       "      <td>NaN</td>\n",
       "    </tr>\n",
       "    <tr>\n",
       "      <th>max</th>\n",
       "      <td>NaN</td>\n",
       "      <td>NaN</td>\n",
       "      <td>NaN</td>\n",
       "      <td>782102.000000</td>\n",
       "      <td>803198.000000</td>\n",
       "      <td>53.000000</td>\n",
       "      <td>669.000000</td>\n",
       "      <td>107.000000</td>\n",
       "      <td>79.000000</td>\n",
       "      <td>183600.000000</td>\n",
       "      <td>1890.000000</td>\n",
       "      <td>NaN</td>\n",
       "      <td>29023.000000</td>\n",
       "      <td>100577.000000</td>\n",
       "      <td>5980.000000</td>\n",
       "      <td>NaN</td>\n",
       "    </tr>\n",
       "  </tbody>\n",
       "</table>\n",
       "</div>"
      ],
      "text/plain": [
       "              date   time abbreviation_canton_and_fl  ncumul_tested  \\\n",
       "count        24041  11507                      24041     263.000000   \n",
       "unique        1320    114                         27            NaN   \n",
       "top     2020-07-29  00:00                         GE            NaN   \n",
       "freq            27   3622                       1320            NaN   \n",
       "mean           NaN    NaN                        NaN   87064.946768   \n",
       "std            NaN    NaN                        NaN  169095.208224   \n",
       "min            NaN    NaN                        NaN       1.000000   \n",
       "25%            NaN    NaN                        NaN    4465.000000   \n",
       "50%            NaN    NaN                        NaN   24257.000000   \n",
       "75%            NaN    NaN                        NaN   47067.500000   \n",
       "max            NaN    NaN                        NaN  782102.000000   \n",
       "\n",
       "          ncumul_conf     new_hosp  current_hosp   current_icu  current_vent  \\\n",
       "count    23494.000000  1394.000000  20905.000000  17943.000000   7337.000000   \n",
       "unique            NaN          NaN           NaN           NaN           NaN   \n",
       "top               NaN          NaN           NaN           NaN           NaN   \n",
       "freq              NaN          NaN           NaN           NaN           NaN   \n",
       "mean     59454.099047     3.806313     47.185889      7.081202      7.768570   \n",
       "std     114625.610981     5.597001     80.293774     12.497653     12.047893   \n",
       "min          0.000000     0.000000      0.000000      0.000000      0.000000   \n",
       "25%       2309.250000     0.000000      4.000000      1.000000      0.000000   \n",
       "50%      17392.500000     2.000000     17.000000      3.000000      3.000000   \n",
       "75%      68330.500000     5.000000     51.000000      7.000000      9.000000   \n",
       "max     803198.000000    53.000000    669.000000    107.000000     79.000000   \n",
       "\n",
       "        ncumul_released  ncumul_deceased                           source  \\\n",
       "count       7370.000000     21754.000000                            24039   \n",
       "unique              NaN              NaN                              339   \n",
       "top                 NaN              NaN  https://infocovid.smc.unige.ch/   \n",
       "freq                NaN              NaN                             1320   \n",
       "mean       11700.714247       346.803852                              NaN   \n",
       "std        23160.148621       414.444033                              NaN   \n",
       "min            0.000000         0.000000                              NaN   \n",
       "25%          690.000000        47.000000                              NaN   \n",
       "50%         2166.500000       178.000000                              NaN   \n",
       "75%        11854.000000       495.000000                              NaN   \n",
       "max       183600.000000      1890.000000                              NaN   \n",
       "\n",
       "        current_isolated  current_quarantined  \\\n",
       "count        9304.000000          8926.000000   \n",
       "unique               NaN                  NaN   \n",
       "top                  NaN                  NaN   \n",
       "freq                 NaN                  NaN   \n",
       "mean          960.948087           886.834528   \n",
       "std          2338.229884          3864.375585   \n",
       "min             0.000000             0.000000   \n",
       "25%            41.000000            28.000000   \n",
       "50%           201.000000           128.500000   \n",
       "75%           843.250000           542.000000   \n",
       "max         29023.000000        100577.000000   \n",
       "\n",
       "        current_quarantined_riskareatravel  current_quarantined_total  \n",
       "count                          5130.000000                        0.0  \n",
       "unique                                 NaN                        NaN  \n",
       "top                                    NaN                        NaN  \n",
       "freq                                   NaN                        NaN  \n",
       "mean                            172.386355                        NaN  \n",
       "std                             400.062536                        NaN  \n",
       "min                               0.000000                        NaN  \n",
       "25%                               0.000000                        NaN  \n",
       "50%                              13.000000                        NaN  \n",
       "75%                             158.000000                        NaN  \n",
       "max                            5980.000000                        NaN  "
      ]
     },
     "execution_count": 8,
     "metadata": {},
     "output_type": "execute_result"
    }
   ],
   "source": [
    "covid_data.describe(include='all')"
   ]
  },
  {
   "cell_type": "markdown",
   "metadata": {
    "id": "o67juEu03jwS"
   },
   "source": [
    "## Dealing with Missing Values"
   ]
  },
  {
   "cell_type": "markdown",
   "metadata": {
    "id": "BXARtRbm6ZUr"
   },
   "source": [
    "When reading the original `swiss_covid_data.csv` every cell that did not have a value was assigned the value `NaN` (not a number).\n",
    "\n",
    "When we apply the `.isna()` method to our data, every cell of the result will contain a boolean value indicating whether that cell had a `Nan` (or `None` or similar false-y value) in it."
   ]
  },
  {
   "cell_type": "code",
   "execution_count": 9,
   "metadata": {
    "id": "R47RwO2N3muM"
   },
   "outputs": [
    {
     "data": {
      "text/html": [
       "<div>\n",
       "<style scoped>\n",
       "    .dataframe tbody tr th:only-of-type {\n",
       "        vertical-align: middle;\n",
       "    }\n",
       "\n",
       "    .dataframe tbody tr th {\n",
       "        vertical-align: top;\n",
       "    }\n",
       "\n",
       "    .dataframe thead th {\n",
       "        text-align: right;\n",
       "    }\n",
       "</style>\n",
       "<table border=\"1\" class=\"dataframe\">\n",
       "  <thead>\n",
       "    <tr style=\"text-align: right;\">\n",
       "      <th></th>\n",
       "      <th>date</th>\n",
       "      <th>time</th>\n",
       "      <th>abbreviation_canton_and_fl</th>\n",
       "      <th>ncumul_tested</th>\n",
       "      <th>ncumul_conf</th>\n",
       "      <th>new_hosp</th>\n",
       "      <th>current_hosp</th>\n",
       "      <th>current_icu</th>\n",
       "      <th>current_vent</th>\n",
       "      <th>ncumul_released</th>\n",
       "      <th>ncumul_deceased</th>\n",
       "      <th>source</th>\n",
       "      <th>current_isolated</th>\n",
       "      <th>current_quarantined</th>\n",
       "      <th>current_quarantined_riskareatravel</th>\n",
       "      <th>current_quarantined_total</th>\n",
       "    </tr>\n",
       "  </thead>\n",
       "  <tbody>\n",
       "    <tr>\n",
       "      <th>0</th>\n",
       "      <td>False</td>\n",
       "      <td>False</td>\n",
       "      <td>False</td>\n",
       "      <td>False</td>\n",
       "      <td>False</td>\n",
       "      <td>True</td>\n",
       "      <td>True</td>\n",
       "      <td>True</td>\n",
       "      <td>True</td>\n",
       "      <td>True</td>\n",
       "      <td>False</td>\n",
       "      <td>False</td>\n",
       "      <td>False</td>\n",
       "      <td>False</td>\n",
       "      <td>False</td>\n",
       "      <td>True</td>\n",
       "    </tr>\n",
       "    <tr>\n",
       "      <th>1</th>\n",
       "      <td>False</td>\n",
       "      <td>False</td>\n",
       "      <td>False</td>\n",
       "      <td>False</td>\n",
       "      <td>False</td>\n",
       "      <td>True</td>\n",
       "      <td>True</td>\n",
       "      <td>True</td>\n",
       "      <td>True</td>\n",
       "      <td>True</td>\n",
       "      <td>False</td>\n",
       "      <td>False</td>\n",
       "      <td>False</td>\n",
       "      <td>False</td>\n",
       "      <td>False</td>\n",
       "      <td>True</td>\n",
       "    </tr>\n",
       "    <tr>\n",
       "      <th>2</th>\n",
       "      <td>False</td>\n",
       "      <td>False</td>\n",
       "      <td>False</td>\n",
       "      <td>False</td>\n",
       "      <td>False</td>\n",
       "      <td>True</td>\n",
       "      <td>True</td>\n",
       "      <td>True</td>\n",
       "      <td>True</td>\n",
       "      <td>True</td>\n",
       "      <td>False</td>\n",
       "      <td>False</td>\n",
       "      <td>False</td>\n",
       "      <td>False</td>\n",
       "      <td>False</td>\n",
       "      <td>True</td>\n",
       "    </tr>\n",
       "    <tr>\n",
       "      <th>3</th>\n",
       "      <td>False</td>\n",
       "      <td>False</td>\n",
       "      <td>False</td>\n",
       "      <td>False</td>\n",
       "      <td>False</td>\n",
       "      <td>True</td>\n",
       "      <td>True</td>\n",
       "      <td>True</td>\n",
       "      <td>True</td>\n",
       "      <td>True</td>\n",
       "      <td>False</td>\n",
       "      <td>False</td>\n",
       "      <td>False</td>\n",
       "      <td>False</td>\n",
       "      <td>False</td>\n",
       "      <td>True</td>\n",
       "    </tr>\n",
       "    <tr>\n",
       "      <th>4</th>\n",
       "      <td>False</td>\n",
       "      <td>False</td>\n",
       "      <td>False</td>\n",
       "      <td>False</td>\n",
       "      <td>False</td>\n",
       "      <td>True</td>\n",
       "      <td>True</td>\n",
       "      <td>True</td>\n",
       "      <td>True</td>\n",
       "      <td>True</td>\n",
       "      <td>False</td>\n",
       "      <td>False</td>\n",
       "      <td>False</td>\n",
       "      <td>False</td>\n",
       "      <td>False</td>\n",
       "      <td>True</td>\n",
       "    </tr>\n",
       "    <tr>\n",
       "      <th>...</th>\n",
       "      <td>...</td>\n",
       "      <td>...</td>\n",
       "      <td>...</td>\n",
       "      <td>...</td>\n",
       "      <td>...</td>\n",
       "      <td>...</td>\n",
       "      <td>...</td>\n",
       "      <td>...</td>\n",
       "      <td>...</td>\n",
       "      <td>...</td>\n",
       "      <td>...</td>\n",
       "      <td>...</td>\n",
       "      <td>...</td>\n",
       "      <td>...</td>\n",
       "      <td>...</td>\n",
       "      <td>...</td>\n",
       "    </tr>\n",
       "    <tr>\n",
       "      <th>24036</th>\n",
       "      <td>False</td>\n",
       "      <td>True</td>\n",
       "      <td>False</td>\n",
       "      <td>True</td>\n",
       "      <td>False</td>\n",
       "      <td>True</td>\n",
       "      <td>False</td>\n",
       "      <td>True</td>\n",
       "      <td>True</td>\n",
       "      <td>True</td>\n",
       "      <td>False</td>\n",
       "      <td>False</td>\n",
       "      <td>True</td>\n",
       "      <td>True</td>\n",
       "      <td>True</td>\n",
       "      <td>True</td>\n",
       "    </tr>\n",
       "    <tr>\n",
       "      <th>24037</th>\n",
       "      <td>False</td>\n",
       "      <td>False</td>\n",
       "      <td>False</td>\n",
       "      <td>True</td>\n",
       "      <td>False</td>\n",
       "      <td>True</td>\n",
       "      <td>False</td>\n",
       "      <td>False</td>\n",
       "      <td>True</td>\n",
       "      <td>True</td>\n",
       "      <td>False</td>\n",
       "      <td>False</td>\n",
       "      <td>True</td>\n",
       "      <td>True</td>\n",
       "      <td>True</td>\n",
       "      <td>True</td>\n",
       "    </tr>\n",
       "    <tr>\n",
       "      <th>24038</th>\n",
       "      <td>False</td>\n",
       "      <td>True</td>\n",
       "      <td>False</td>\n",
       "      <td>True</td>\n",
       "      <td>False</td>\n",
       "      <td>True</td>\n",
       "      <td>False</td>\n",
       "      <td>True</td>\n",
       "      <td>True</td>\n",
       "      <td>True</td>\n",
       "      <td>False</td>\n",
       "      <td>False</td>\n",
       "      <td>True</td>\n",
       "      <td>True</td>\n",
       "      <td>True</td>\n",
       "      <td>True</td>\n",
       "    </tr>\n",
       "    <tr>\n",
       "      <th>24039</th>\n",
       "      <td>False</td>\n",
       "      <td>False</td>\n",
       "      <td>False</td>\n",
       "      <td>True</td>\n",
       "      <td>False</td>\n",
       "      <td>True</td>\n",
       "      <td>False</td>\n",
       "      <td>False</td>\n",
       "      <td>True</td>\n",
       "      <td>True</td>\n",
       "      <td>False</td>\n",
       "      <td>False</td>\n",
       "      <td>True</td>\n",
       "      <td>True</td>\n",
       "      <td>True</td>\n",
       "      <td>True</td>\n",
       "    </tr>\n",
       "    <tr>\n",
       "      <th>24040</th>\n",
       "      <td>False</td>\n",
       "      <td>False</td>\n",
       "      <td>False</td>\n",
       "      <td>True</td>\n",
       "      <td>False</td>\n",
       "      <td>True</td>\n",
       "      <td>False</td>\n",
       "      <td>False</td>\n",
       "      <td>True</td>\n",
       "      <td>True</td>\n",
       "      <td>False</td>\n",
       "      <td>False</td>\n",
       "      <td>True</td>\n",
       "      <td>True</td>\n",
       "      <td>True</td>\n",
       "      <td>True</td>\n",
       "    </tr>\n",
       "  </tbody>\n",
       "</table>\n",
       "<p>24041 rows × 16 columns</p>\n",
       "</div>"
      ],
      "text/plain": [
       "        date   time  abbreviation_canton_and_fl  ncumul_tested  ncumul_conf  \\\n",
       "0      False  False                       False          False        False   \n",
       "1      False  False                       False          False        False   \n",
       "2      False  False                       False          False        False   \n",
       "3      False  False                       False          False        False   \n",
       "4      False  False                       False          False        False   \n",
       "...      ...    ...                         ...            ...          ...   \n",
       "24036  False   True                       False           True        False   \n",
       "24037  False  False                       False           True        False   \n",
       "24038  False   True                       False           True        False   \n",
       "24039  False  False                       False           True        False   \n",
       "24040  False  False                       False           True        False   \n",
       "\n",
       "       new_hosp  current_hosp  current_icu  current_vent  ncumul_released  \\\n",
       "0          True          True         True          True             True   \n",
       "1          True          True         True          True             True   \n",
       "2          True          True         True          True             True   \n",
       "3          True          True         True          True             True   \n",
       "4          True          True         True          True             True   \n",
       "...         ...           ...          ...           ...              ...   \n",
       "24036      True         False         True          True             True   \n",
       "24037      True         False        False          True             True   \n",
       "24038      True         False         True          True             True   \n",
       "24039      True         False        False          True             True   \n",
       "24040      True         False        False          True             True   \n",
       "\n",
       "       ncumul_deceased  source  current_isolated  current_quarantined  \\\n",
       "0                False   False             False                False   \n",
       "1                False   False             False                False   \n",
       "2                False   False             False                False   \n",
       "3                False   False             False                False   \n",
       "4                False   False             False                False   \n",
       "...                ...     ...               ...                  ...   \n",
       "24036            False   False              True                 True   \n",
       "24037            False   False              True                 True   \n",
       "24038            False   False              True                 True   \n",
       "24039            False   False              True                 True   \n",
       "24040            False   False              True                 True   \n",
       "\n",
       "       current_quarantined_riskareatravel  current_quarantined_total  \n",
       "0                                   False                       True  \n",
       "1                                   False                       True  \n",
       "2                                   False                       True  \n",
       "3                                   False                       True  \n",
       "4                                   False                       True  \n",
       "...                                   ...                        ...  \n",
       "24036                                True                       True  \n",
       "24037                                True                       True  \n",
       "24038                                True                       True  \n",
       "24039                                True                       True  \n",
       "24040                                True                       True  \n",
       "\n",
       "[24041 rows x 16 columns]"
      ]
     },
     "execution_count": 9,
     "metadata": {},
     "output_type": "execute_result"
    }
   ],
   "source": [
    "covid_data.isna()"
   ]
  },
  {
   "cell_type": "markdown",
   "metadata": {
    "id": "54PQWJn07gV7"
   },
   "source": [
    "We can count the number of missing values in each column by summing over all rows:"
   ]
  },
  {
   "cell_type": "code",
   "execution_count": 10,
   "metadata": {
    "id": "FYGocGKa7rpe"
   },
   "outputs": [
    {
     "data": {
      "text/plain": [
       "date                                      0\n",
       "time                                  12534\n",
       "abbreviation_canton_and_fl                0\n",
       "ncumul_tested                         23778\n",
       "ncumul_conf                             547\n",
       "new_hosp                              22647\n",
       "current_hosp                           3136\n",
       "current_icu                            6098\n",
       "current_vent                          16704\n",
       "ncumul_released                       16671\n",
       "ncumul_deceased                        2287\n",
       "source                                    2\n",
       "current_isolated                      14737\n",
       "current_quarantined                   15115\n",
       "current_quarantined_riskareatravel    18911\n",
       "current_quarantined_total             24041\n",
       "dtype: int64"
      ]
     },
     "execution_count": 10,
     "metadata": {},
     "output_type": "execute_result"
    }
   ],
   "source": [
    "covid_data.isna().sum()"
   ]
  },
  {
   "cell_type": "markdown",
   "metadata": {
    "id": "5lp1UXoq8Okf"
   },
   "source": [
    "*Note*: You can specify `.sum(axis=1)` to sum over columns instead."
   ]
  },
  {
   "cell_type": "code",
   "execution_count": 11,
   "metadata": {},
   "outputs": [
    {
     "data": {
      "text/plain": [
       "0         6\n",
       "1         6\n",
       "2         6\n",
       "3         6\n",
       "4         6\n",
       "         ..\n",
       "24036    10\n",
       "24037     8\n",
       "24038    10\n",
       "24039     8\n",
       "24040     8\n",
       "Length: 24041, dtype: int64"
      ]
     },
     "execution_count": 11,
     "metadata": {},
     "output_type": "execute_result"
    }
   ],
   "source": [
    "covid_data.isna().sum(axis=1)"
   ]
  },
  {
   "cell_type": "code",
   "execution_count": 12,
   "metadata": {},
   "outputs": [
    {
     "data": {
      "text/plain": [
       "count    24041.000000\n",
       "mean         7.371074\n",
       "std          1.885807\n",
       "min          1.000000\n",
       "25%          6.000000\n",
       "50%          8.000000\n",
       "75%          9.000000\n",
       "max         13.000000\n",
       "dtype: float64"
      ]
     },
     "execution_count": 12,
     "metadata": {},
     "output_type": "execute_result"
    }
   ],
   "source": [
    "covid_data.isna().sum(axis=1).describe()"
   ]
  },
  {
   "cell_type": "markdown",
   "metadata": {
    "id": "xdwsqvMR8hd6"
   },
   "source": [
    "We notice that the `current_quarantined_total` has 24040 missing values, which corresponds to the total number of entries in the dataframe.\n",
    "\n",
    "We can re-verify this by inspecting the unique values:"
   ]
  },
  {
   "cell_type": "code",
   "execution_count": 13,
   "metadata": {
    "id": "e6PROJI88_09"
   },
   "outputs": [
    {
     "data": {
      "text/plain": [
       "array([nan])"
      ]
     },
     "execution_count": 13,
     "metadata": {},
     "output_type": "execute_result"
    }
   ],
   "source": [
    "covid_data['current_quarantined_total'].unique()"
   ]
  },
  {
   "cell_type": "code",
   "execution_count": 14,
   "metadata": {},
   "outputs": [
    {
     "data": {
      "text/plain": [
       "array(['2020-02-01', '2020-02-02', '2020-02-03', ..., '2023-09-10',\n",
       "       '2023-09-11', '2023-09-12'], dtype=object)"
      ]
     },
     "execution_count": 14,
     "metadata": {},
     "output_type": "execute_result"
    }
   ],
   "source": [
    "covid_data['date'].unique()"
   ]
  },
  {
   "cell_type": "markdown",
   "metadata": {
    "id": "q4qOB_7q9GI6"
   },
   "source": [
    "We therefore suggest to drop this column from the data entirely.\n",
    "\n",
    "This can be achieved by the `.drop()` method, as follows:"
   ]
  },
  {
   "cell_type": "code",
   "execution_count": 15,
   "metadata": {
    "id": "a0WuyV5Q9Q2G"
   },
   "outputs": [
    {
     "data": {
      "text/html": [
       "<div>\n",
       "<style scoped>\n",
       "    .dataframe tbody tr th:only-of-type {\n",
       "        vertical-align: middle;\n",
       "    }\n",
       "\n",
       "    .dataframe tbody tr th {\n",
       "        vertical-align: top;\n",
       "    }\n",
       "\n",
       "    .dataframe thead th {\n",
       "        text-align: right;\n",
       "    }\n",
       "</style>\n",
       "<table border=\"1\" class=\"dataframe\">\n",
       "  <thead>\n",
       "    <tr style=\"text-align: right;\">\n",
       "      <th></th>\n",
       "      <th>date</th>\n",
       "      <th>time</th>\n",
       "      <th>abbreviation_canton_and_fl</th>\n",
       "      <th>ncumul_tested</th>\n",
       "      <th>ncumul_conf</th>\n",
       "      <th>new_hosp</th>\n",
       "      <th>current_hosp</th>\n",
       "      <th>current_icu</th>\n",
       "      <th>current_vent</th>\n",
       "      <th>ncumul_released</th>\n",
       "      <th>ncumul_deceased</th>\n",
       "      <th>source</th>\n",
       "      <th>current_isolated</th>\n",
       "      <th>current_quarantined</th>\n",
       "      <th>current_quarantined_riskareatravel</th>\n",
       "    </tr>\n",
       "  </thead>\n",
       "  <tbody>\n",
       "    <tr>\n",
       "      <th>0</th>\n",
       "      <td>2020-02-01</td>\n",
       "      <td>00:00</td>\n",
       "      <td>GE</td>\n",
       "      <td>109.0</td>\n",
       "      <td>0.0</td>\n",
       "      <td>NaN</td>\n",
       "      <td>NaN</td>\n",
       "      <td>NaN</td>\n",
       "      <td>NaN</td>\n",
       "      <td>NaN</td>\n",
       "      <td>0.0</td>\n",
       "      <td>https://infocovid.smc.unige.ch/</td>\n",
       "      <td>1.0</td>\n",
       "      <td>0.0</td>\n",
       "      <td>0.0</td>\n",
       "    </tr>\n",
       "    <tr>\n",
       "      <th>1</th>\n",
       "      <td>2020-02-02</td>\n",
       "      <td>00:00</td>\n",
       "      <td>GE</td>\n",
       "      <td>115.0</td>\n",
       "      <td>0.0</td>\n",
       "      <td>NaN</td>\n",
       "      <td>NaN</td>\n",
       "      <td>NaN</td>\n",
       "      <td>NaN</td>\n",
       "      <td>NaN</td>\n",
       "      <td>0.0</td>\n",
       "      <td>https://infocovid.smc.unige.ch/</td>\n",
       "      <td>1.0</td>\n",
       "      <td>0.0</td>\n",
       "      <td>0.0</td>\n",
       "    </tr>\n",
       "    <tr>\n",
       "      <th>2</th>\n",
       "      <td>2020-02-03</td>\n",
       "      <td>00:00</td>\n",
       "      <td>GE</td>\n",
       "      <td>136.0</td>\n",
       "      <td>0.0</td>\n",
       "      <td>NaN</td>\n",
       "      <td>NaN</td>\n",
       "      <td>NaN</td>\n",
       "      <td>NaN</td>\n",
       "      <td>NaN</td>\n",
       "      <td>0.0</td>\n",
       "      <td>https://infocovid.smc.unige.ch/</td>\n",
       "      <td>1.0</td>\n",
       "      <td>0.0</td>\n",
       "      <td>0.0</td>\n",
       "    </tr>\n",
       "    <tr>\n",
       "      <th>3</th>\n",
       "      <td>2020-02-04</td>\n",
       "      <td>00:00</td>\n",
       "      <td>GE</td>\n",
       "      <td>156.0</td>\n",
       "      <td>0.0</td>\n",
       "      <td>NaN</td>\n",
       "      <td>NaN</td>\n",
       "      <td>NaN</td>\n",
       "      <td>NaN</td>\n",
       "      <td>NaN</td>\n",
       "      <td>0.0</td>\n",
       "      <td>https://infocovid.smc.unige.ch/</td>\n",
       "      <td>1.0</td>\n",
       "      <td>0.0</td>\n",
       "      <td>0.0</td>\n",
       "    </tr>\n",
       "    <tr>\n",
       "      <th>4</th>\n",
       "      <td>2020-02-05</td>\n",
       "      <td>00:00</td>\n",
       "      <td>GE</td>\n",
       "      <td>169.0</td>\n",
       "      <td>0.0</td>\n",
       "      <td>NaN</td>\n",
       "      <td>NaN</td>\n",
       "      <td>NaN</td>\n",
       "      <td>NaN</td>\n",
       "      <td>NaN</td>\n",
       "      <td>0.0</td>\n",
       "      <td>https://infocovid.smc.unige.ch/</td>\n",
       "      <td>1.0</td>\n",
       "      <td>0.0</td>\n",
       "      <td>0.0</td>\n",
       "    </tr>\n",
       "  </tbody>\n",
       "</table>\n",
       "</div>"
      ],
      "text/plain": [
       "         date   time abbreviation_canton_and_fl  ncumul_tested  ncumul_conf  \\\n",
       "0  2020-02-01  00:00                         GE          109.0          0.0   \n",
       "1  2020-02-02  00:00                         GE          115.0          0.0   \n",
       "2  2020-02-03  00:00                         GE          136.0          0.0   \n",
       "3  2020-02-04  00:00                         GE          156.0          0.0   \n",
       "4  2020-02-05  00:00                         GE          169.0          0.0   \n",
       "\n",
       "   new_hosp  current_hosp  current_icu  current_vent  ncumul_released  \\\n",
       "0       NaN           NaN          NaN           NaN              NaN   \n",
       "1       NaN           NaN          NaN           NaN              NaN   \n",
       "2       NaN           NaN          NaN           NaN              NaN   \n",
       "3       NaN           NaN          NaN           NaN              NaN   \n",
       "4       NaN           NaN          NaN           NaN              NaN   \n",
       "\n",
       "   ncumul_deceased                           source  current_isolated  \\\n",
       "0              0.0  https://infocovid.smc.unige.ch/               1.0   \n",
       "1              0.0  https://infocovid.smc.unige.ch/               1.0   \n",
       "2              0.0  https://infocovid.smc.unige.ch/               1.0   \n",
       "3              0.0  https://infocovid.smc.unige.ch/               1.0   \n",
       "4              0.0  https://infocovid.smc.unige.ch/               1.0   \n",
       "\n",
       "   current_quarantined  current_quarantined_riskareatravel  \n",
       "0                  0.0                                 0.0  \n",
       "1                  0.0                                 0.0  \n",
       "2                  0.0                                 0.0  \n",
       "3                  0.0                                 0.0  \n",
       "4                  0.0                                 0.0  "
      ]
     },
     "execution_count": 15,
     "metadata": {},
     "output_type": "execute_result"
    }
   ],
   "source": [
    "covid_data = covid_data.drop(columns=['current_quarantined_total'])\n",
    "covid_trimmed = covid_data # Zwischenschritt\n",
    "covid_data.head()"
   ]
  },
  {
   "cell_type": "markdown",
   "metadata": {
    "id": "8iE4NlCHASww"
   },
   "source": [
    "Generally, there are two approaches to deal with missing values. We can either ignore them, for example by throwing out rows that contain them, or we can try to impute a \"reasonable\" value.\n",
    "\n",
    "Of course, what is \"reasonable\" heavily depends on the data at hand!"
   ]
  },
  {
   "cell_type": "markdown",
   "metadata": {
    "id": "fFFtNXsgAodu"
   },
   "source": [
    "Let us first consider the easier approach: dropping rows that have missing entries. This can be achieved using the `.dropna()` method.\n",
    "\n",
    "By default it will remove all rows that have at least one missing value:"
   ]
  },
  {
   "cell_type": "code",
   "execution_count": 16,
   "metadata": {
    "id": "VYRpPYtr9lap"
   },
   "outputs": [
    {
     "data": {
      "text/html": [
       "<div>\n",
       "<style scoped>\n",
       "    .dataframe tbody tr th:only-of-type {\n",
       "        vertical-align: middle;\n",
       "    }\n",
       "\n",
       "    .dataframe tbody tr th {\n",
       "        vertical-align: top;\n",
       "    }\n",
       "\n",
       "    .dataframe thead th {\n",
       "        text-align: right;\n",
       "    }\n",
       "</style>\n",
       "<table border=\"1\" class=\"dataframe\">\n",
       "  <thead>\n",
       "    <tr style=\"text-align: right;\">\n",
       "      <th></th>\n",
       "      <th>date</th>\n",
       "      <th>time</th>\n",
       "      <th>abbreviation_canton_and_fl</th>\n",
       "      <th>ncumul_tested</th>\n",
       "      <th>ncumul_conf</th>\n",
       "      <th>new_hosp</th>\n",
       "      <th>current_hosp</th>\n",
       "      <th>current_icu</th>\n",
       "      <th>current_vent</th>\n",
       "      <th>ncumul_released</th>\n",
       "      <th>ncumul_deceased</th>\n",
       "      <th>source</th>\n",
       "      <th>current_isolated</th>\n",
       "      <th>current_quarantined</th>\n",
       "      <th>current_quarantined_riskareatravel</th>\n",
       "    </tr>\n",
       "  </thead>\n",
       "  <tbody>\n",
       "    <tr>\n",
       "      <th>562</th>\n",
       "      <td>2020-03-24</td>\n",
       "      <td>00:00</td>\n",
       "      <td>GE</td>\n",
       "      <td>8554.0</td>\n",
       "      <td>8555.0</td>\n",
       "      <td>36.0</td>\n",
       "      <td>230.0</td>\n",
       "      <td>41.0</td>\n",
       "      <td>41.0</td>\n",
       "      <td>103.0</td>\n",
       "      <td>33.0</td>\n",
       "      <td>https://infocovid.smc.unige.ch/</td>\n",
       "      <td>1768.0</td>\n",
       "      <td>1.0</td>\n",
       "      <td>0.0</td>\n",
       "    </tr>\n",
       "    <tr>\n",
       "      <th>589</th>\n",
       "      <td>2020-03-25</td>\n",
       "      <td>00:00</td>\n",
       "      <td>GE</td>\n",
       "      <td>9000.0</td>\n",
       "      <td>9339.0</td>\n",
       "      <td>37.0</td>\n",
       "      <td>232.0</td>\n",
       "      <td>47.0</td>\n",
       "      <td>48.0</td>\n",
       "      <td>122.0</td>\n",
       "      <td>45.0</td>\n",
       "      <td>https://infocovid.smc.unige.ch/</td>\n",
       "      <td>1778.0</td>\n",
       "      <td>1.0</td>\n",
       "      <td>0.0</td>\n",
       "    </tr>\n",
       "    <tr>\n",
       "      <th>616</th>\n",
       "      <td>2020-03-26</td>\n",
       "      <td>00:00</td>\n",
       "      <td>GE</td>\n",
       "      <td>9520.0</td>\n",
       "      <td>10336.0</td>\n",
       "      <td>43.0</td>\n",
       "      <td>254.0</td>\n",
       "      <td>50.0</td>\n",
       "      <td>48.0</td>\n",
       "      <td>144.0</td>\n",
       "      <td>50.0</td>\n",
       "      <td>https://infocovid.smc.unige.ch/</td>\n",
       "      <td>1827.0</td>\n",
       "      <td>1.0</td>\n",
       "      <td>0.0</td>\n",
       "    </tr>\n",
       "    <tr>\n",
       "      <th>643</th>\n",
       "      <td>2020-03-27</td>\n",
       "      <td>00:00</td>\n",
       "      <td>GE</td>\n",
       "      <td>9971.0</td>\n",
       "      <td>10949.0</td>\n",
       "      <td>43.0</td>\n",
       "      <td>285.0</td>\n",
       "      <td>54.0</td>\n",
       "      <td>54.0</td>\n",
       "      <td>153.0</td>\n",
       "      <td>63.0</td>\n",
       "      <td>https://infocovid.smc.unige.ch/</td>\n",
       "      <td>1859.0</td>\n",
       "      <td>1.0</td>\n",
       "      <td>0.0</td>\n",
       "    </tr>\n",
       "    <tr>\n",
       "      <th>670</th>\n",
       "      <td>2020-03-28</td>\n",
       "      <td>00:00</td>\n",
       "      <td>GE</td>\n",
       "      <td>10533.0</td>\n",
       "      <td>11749.0</td>\n",
       "      <td>53.0</td>\n",
       "      <td>309.0</td>\n",
       "      <td>53.0</td>\n",
       "      <td>54.0</td>\n",
       "      <td>175.0</td>\n",
       "      <td>77.0</td>\n",
       "      <td>https://infocovid.smc.unige.ch/</td>\n",
       "      <td>1892.0</td>\n",
       "      <td>1.0</td>\n",
       "      <td>0.0</td>\n",
       "    </tr>\n",
       "    <tr>\n",
       "      <th>...</th>\n",
       "      <td>...</td>\n",
       "      <td>...</td>\n",
       "      <td>...</td>\n",
       "      <td>...</td>\n",
       "      <td>...</td>\n",
       "      <td>...</td>\n",
       "      <td>...</td>\n",
       "      <td>...</td>\n",
       "      <td>...</td>\n",
       "      <td>...</td>\n",
       "      <td>...</td>\n",
       "      <td>...</td>\n",
       "      <td>...</td>\n",
       "      <td>...</td>\n",
       "      <td>...</td>\n",
       "    </tr>\n",
       "    <tr>\n",
       "      <th>2230</th>\n",
       "      <td>2020-05-27</td>\n",
       "      <td>00:00</td>\n",
       "      <td>GE</td>\n",
       "      <td>35777.0</td>\n",
       "      <td>23756.0</td>\n",
       "      <td>3.0</td>\n",
       "      <td>6.0</td>\n",
       "      <td>0.0</td>\n",
       "      <td>0.0</td>\n",
       "      <td>788.0</td>\n",
       "      <td>374.0</td>\n",
       "      <td>https://infocovid.smc.unige.ch/</td>\n",
       "      <td>22.0</td>\n",
       "      <td>14.0</td>\n",
       "      <td>0.0</td>\n",
       "    </tr>\n",
       "    <tr>\n",
       "      <th>2257</th>\n",
       "      <td>2020-05-28</td>\n",
       "      <td>00:00</td>\n",
       "      <td>GE</td>\n",
       "      <td>36026.0</td>\n",
       "      <td>23761.0</td>\n",
       "      <td>3.0</td>\n",
       "      <td>7.0</td>\n",
       "      <td>0.0</td>\n",
       "      <td>0.0</td>\n",
       "      <td>792.0</td>\n",
       "      <td>374.0</td>\n",
       "      <td>https://infocovid.smc.unige.ch/</td>\n",
       "      <td>22.0</td>\n",
       "      <td>22.0</td>\n",
       "      <td>0.0</td>\n",
       "    </tr>\n",
       "    <tr>\n",
       "      <th>2283</th>\n",
       "      <td>2020-05-29</td>\n",
       "      <td>00:00</td>\n",
       "      <td>GE</td>\n",
       "      <td>36302.0</td>\n",
       "      <td>23781.0</td>\n",
       "      <td>7.0</td>\n",
       "      <td>5.0</td>\n",
       "      <td>0.0</td>\n",
       "      <td>0.0</td>\n",
       "      <td>797.0</td>\n",
       "      <td>374.0</td>\n",
       "      <td>https://infocovid.smc.unige.ch/</td>\n",
       "      <td>19.0</td>\n",
       "      <td>22.0</td>\n",
       "      <td>0.0</td>\n",
       "    </tr>\n",
       "    <tr>\n",
       "      <th>2375</th>\n",
       "      <td>2020-06-02</td>\n",
       "      <td>00:00</td>\n",
       "      <td>GE</td>\n",
       "      <td>36769.0</td>\n",
       "      <td>23830.0</td>\n",
       "      <td>1.0</td>\n",
       "      <td>7.0</td>\n",
       "      <td>1.0</td>\n",
       "      <td>0.0</td>\n",
       "      <td>807.0</td>\n",
       "      <td>374.0</td>\n",
       "      <td>https://infocovid.smc.unige.ch/</td>\n",
       "      <td>19.0</td>\n",
       "      <td>15.0</td>\n",
       "      <td>0.0</td>\n",
       "    </tr>\n",
       "    <tr>\n",
       "      <th>2401</th>\n",
       "      <td>2020-06-03</td>\n",
       "      <td>00:00</td>\n",
       "      <td>GE</td>\n",
       "      <td>37233.0</td>\n",
       "      <td>23837.0</td>\n",
       "      <td>1.0</td>\n",
       "      <td>6.0</td>\n",
       "      <td>1.0</td>\n",
       "      <td>1.0</td>\n",
       "      <td>811.0</td>\n",
       "      <td>374.0</td>\n",
       "      <td>https://infocovid.smc.unige.ch/</td>\n",
       "      <td>19.0</td>\n",
       "      <td>15.0</td>\n",
       "      <td>0.0</td>\n",
       "    </tr>\n",
       "  </tbody>\n",
       "</table>\n",
       "<p>68 rows × 15 columns</p>\n",
       "</div>"
      ],
      "text/plain": [
       "            date   time abbreviation_canton_and_fl  ncumul_tested  \\\n",
       "562   2020-03-24  00:00                         GE         8554.0   \n",
       "589   2020-03-25  00:00                         GE         9000.0   \n",
       "616   2020-03-26  00:00                         GE         9520.0   \n",
       "643   2020-03-27  00:00                         GE         9971.0   \n",
       "670   2020-03-28  00:00                         GE        10533.0   \n",
       "...          ...    ...                        ...            ...   \n",
       "2230  2020-05-27  00:00                         GE        35777.0   \n",
       "2257  2020-05-28  00:00                         GE        36026.0   \n",
       "2283  2020-05-29  00:00                         GE        36302.0   \n",
       "2375  2020-06-02  00:00                         GE        36769.0   \n",
       "2401  2020-06-03  00:00                         GE        37233.0   \n",
       "\n",
       "      ncumul_conf  new_hosp  current_hosp  current_icu  current_vent  \\\n",
       "562        8555.0      36.0         230.0         41.0          41.0   \n",
       "589        9339.0      37.0         232.0         47.0          48.0   \n",
       "616       10336.0      43.0         254.0         50.0          48.0   \n",
       "643       10949.0      43.0         285.0         54.0          54.0   \n",
       "670       11749.0      53.0         309.0         53.0          54.0   \n",
       "...           ...       ...           ...          ...           ...   \n",
       "2230      23756.0       3.0           6.0          0.0           0.0   \n",
       "2257      23761.0       3.0           7.0          0.0           0.0   \n",
       "2283      23781.0       7.0           5.0          0.0           0.0   \n",
       "2375      23830.0       1.0           7.0          1.0           0.0   \n",
       "2401      23837.0       1.0           6.0          1.0           1.0   \n",
       "\n",
       "      ncumul_released  ncumul_deceased                           source  \\\n",
       "562             103.0             33.0  https://infocovid.smc.unige.ch/   \n",
       "589             122.0             45.0  https://infocovid.smc.unige.ch/   \n",
       "616             144.0             50.0  https://infocovid.smc.unige.ch/   \n",
       "643             153.0             63.0  https://infocovid.smc.unige.ch/   \n",
       "670             175.0             77.0  https://infocovid.smc.unige.ch/   \n",
       "...               ...              ...                              ...   \n",
       "2230            788.0            374.0  https://infocovid.smc.unige.ch/   \n",
       "2257            792.0            374.0  https://infocovid.smc.unige.ch/   \n",
       "2283            797.0            374.0  https://infocovid.smc.unige.ch/   \n",
       "2375            807.0            374.0  https://infocovid.smc.unige.ch/   \n",
       "2401            811.0            374.0  https://infocovid.smc.unige.ch/   \n",
       "\n",
       "      current_isolated  current_quarantined  \\\n",
       "562             1768.0                  1.0   \n",
       "589             1778.0                  1.0   \n",
       "616             1827.0                  1.0   \n",
       "643             1859.0                  1.0   \n",
       "670             1892.0                  1.0   \n",
       "...                ...                  ...   \n",
       "2230              22.0                 14.0   \n",
       "2257              22.0                 22.0   \n",
       "2283              19.0                 22.0   \n",
       "2375              19.0                 15.0   \n",
       "2401              19.0                 15.0   \n",
       "\n",
       "      current_quarantined_riskareatravel  \n",
       "562                                  0.0  \n",
       "589                                  0.0  \n",
       "616                                  0.0  \n",
       "643                                  0.0  \n",
       "670                                  0.0  \n",
       "...                                  ...  \n",
       "2230                                 0.0  \n",
       "2257                                 0.0  \n",
       "2283                                 0.0  \n",
       "2375                                 0.0  \n",
       "2401                                 0.0  \n",
       "\n",
       "[68 rows x 15 columns]"
      ]
     },
     "execution_count": 16,
     "metadata": {},
     "output_type": "execute_result"
    }
   ],
   "source": [
    "covid_data.dropna()"
   ]
  },
  {
   "cell_type": "markdown",
   "metadata": {
    "id": "ejYXNdoBBe9A"
   },
   "source": [
    "We can see that this is too aggressive as it leaves us with only 68 out our original 24032 rows!\n",
    "\n",
    "We can be more lax about dropping rows by either setting `how='all'`, which will only drop rows that consist entirely of missing values, or `thresh=3` (or any other integer value) which will drop rows with fewer than 3 non-missing values."
   ]
  },
  {
   "cell_type": "code",
   "execution_count": 17,
   "metadata": {
    "id": "jZClmLq5CFoX"
   },
   "outputs": [
    {
     "data": {
      "text/html": [
       "<div>\n",
       "<style scoped>\n",
       "    .dataframe tbody tr th:only-of-type {\n",
       "        vertical-align: middle;\n",
       "    }\n",
       "\n",
       "    .dataframe tbody tr th {\n",
       "        vertical-align: top;\n",
       "    }\n",
       "\n",
       "    .dataframe thead th {\n",
       "        text-align: right;\n",
       "    }\n",
       "</style>\n",
       "<table border=\"1\" class=\"dataframe\">\n",
       "  <thead>\n",
       "    <tr style=\"text-align: right;\">\n",
       "      <th></th>\n",
       "      <th>date</th>\n",
       "      <th>time</th>\n",
       "      <th>abbreviation_canton_and_fl</th>\n",
       "      <th>ncumul_tested</th>\n",
       "      <th>ncumul_conf</th>\n",
       "      <th>new_hosp</th>\n",
       "      <th>current_hosp</th>\n",
       "      <th>current_icu</th>\n",
       "      <th>current_vent</th>\n",
       "      <th>ncumul_released</th>\n",
       "      <th>ncumul_deceased</th>\n",
       "      <th>source</th>\n",
       "      <th>current_isolated</th>\n",
       "      <th>current_quarantined</th>\n",
       "      <th>current_quarantined_riskareatravel</th>\n",
       "    </tr>\n",
       "  </thead>\n",
       "  <tbody>\n",
       "    <tr>\n",
       "      <th>0</th>\n",
       "      <td>2020-02-01</td>\n",
       "      <td>00:00</td>\n",
       "      <td>GE</td>\n",
       "      <td>109.0</td>\n",
       "      <td>0.0</td>\n",
       "      <td>NaN</td>\n",
       "      <td>NaN</td>\n",
       "      <td>NaN</td>\n",
       "      <td>NaN</td>\n",
       "      <td>NaN</td>\n",
       "      <td>0.0</td>\n",
       "      <td>https://infocovid.smc.unige.ch/</td>\n",
       "      <td>1.0</td>\n",
       "      <td>0.0</td>\n",
       "      <td>0.0</td>\n",
       "    </tr>\n",
       "    <tr>\n",
       "      <th>1</th>\n",
       "      <td>2020-02-02</td>\n",
       "      <td>00:00</td>\n",
       "      <td>GE</td>\n",
       "      <td>115.0</td>\n",
       "      <td>0.0</td>\n",
       "      <td>NaN</td>\n",
       "      <td>NaN</td>\n",
       "      <td>NaN</td>\n",
       "      <td>NaN</td>\n",
       "      <td>NaN</td>\n",
       "      <td>0.0</td>\n",
       "      <td>https://infocovid.smc.unige.ch/</td>\n",
       "      <td>1.0</td>\n",
       "      <td>0.0</td>\n",
       "      <td>0.0</td>\n",
       "    </tr>\n",
       "    <tr>\n",
       "      <th>2</th>\n",
       "      <td>2020-02-03</td>\n",
       "      <td>00:00</td>\n",
       "      <td>GE</td>\n",
       "      <td>136.0</td>\n",
       "      <td>0.0</td>\n",
       "      <td>NaN</td>\n",
       "      <td>NaN</td>\n",
       "      <td>NaN</td>\n",
       "      <td>NaN</td>\n",
       "      <td>NaN</td>\n",
       "      <td>0.0</td>\n",
       "      <td>https://infocovid.smc.unige.ch/</td>\n",
       "      <td>1.0</td>\n",
       "      <td>0.0</td>\n",
       "      <td>0.0</td>\n",
       "    </tr>\n",
       "    <tr>\n",
       "      <th>3</th>\n",
       "      <td>2020-02-04</td>\n",
       "      <td>00:00</td>\n",
       "      <td>GE</td>\n",
       "      <td>156.0</td>\n",
       "      <td>0.0</td>\n",
       "      <td>NaN</td>\n",
       "      <td>NaN</td>\n",
       "      <td>NaN</td>\n",
       "      <td>NaN</td>\n",
       "      <td>NaN</td>\n",
       "      <td>0.0</td>\n",
       "      <td>https://infocovid.smc.unige.ch/</td>\n",
       "      <td>1.0</td>\n",
       "      <td>0.0</td>\n",
       "      <td>0.0</td>\n",
       "    </tr>\n",
       "    <tr>\n",
       "      <th>4</th>\n",
       "      <td>2020-02-05</td>\n",
       "      <td>00:00</td>\n",
       "      <td>GE</td>\n",
       "      <td>169.0</td>\n",
       "      <td>0.0</td>\n",
       "      <td>NaN</td>\n",
       "      <td>NaN</td>\n",
       "      <td>NaN</td>\n",
       "      <td>NaN</td>\n",
       "      <td>NaN</td>\n",
       "      <td>0.0</td>\n",
       "      <td>https://infocovid.smc.unige.ch/</td>\n",
       "      <td>1.0</td>\n",
       "      <td>0.0</td>\n",
       "      <td>0.0</td>\n",
       "    </tr>\n",
       "    <tr>\n",
       "      <th>...</th>\n",
       "      <td>...</td>\n",
       "      <td>...</td>\n",
       "      <td>...</td>\n",
       "      <td>...</td>\n",
       "      <td>...</td>\n",
       "      <td>...</td>\n",
       "      <td>...</td>\n",
       "      <td>...</td>\n",
       "      <td>...</td>\n",
       "      <td>...</td>\n",
       "      <td>...</td>\n",
       "      <td>...</td>\n",
       "      <td>...</td>\n",
       "      <td>...</td>\n",
       "      <td>...</td>\n",
       "    </tr>\n",
       "    <tr>\n",
       "      <th>24036</th>\n",
       "      <td>2023-09-10</td>\n",
       "      <td>NaN</td>\n",
       "      <td>NE</td>\n",
       "      <td>NaN</td>\n",
       "      <td>92697.0</td>\n",
       "      <td>NaN</td>\n",
       "      <td>4.0</td>\n",
       "      <td>NaN</td>\n",
       "      <td>NaN</td>\n",
       "      <td>NaN</td>\n",
       "      <td>496.0</td>\n",
       "      <td>https://www.ne.ch/autorites/DFS/SCSP/medecin-c...</td>\n",
       "      <td>NaN</td>\n",
       "      <td>NaN</td>\n",
       "      <td>NaN</td>\n",
       "    </tr>\n",
       "    <tr>\n",
       "      <th>24037</th>\n",
       "      <td>2023-09-10</td>\n",
       "      <td>00:00</td>\n",
       "      <td>GE</td>\n",
       "      <td>NaN</td>\n",
       "      <td>251154.0</td>\n",
       "      <td>NaN</td>\n",
       "      <td>60.0</td>\n",
       "      <td>1.0</td>\n",
       "      <td>NaN</td>\n",
       "      <td>NaN</td>\n",
       "      <td>959.0</td>\n",
       "      <td>https://infocovid.smc.unige.ch/</td>\n",
       "      <td>NaN</td>\n",
       "      <td>NaN</td>\n",
       "      <td>NaN</td>\n",
       "    </tr>\n",
       "    <tr>\n",
       "      <th>24038</th>\n",
       "      <td>2023-09-11</td>\n",
       "      <td>NaN</td>\n",
       "      <td>NE</td>\n",
       "      <td>NaN</td>\n",
       "      <td>92700.0</td>\n",
       "      <td>NaN</td>\n",
       "      <td>9.0</td>\n",
       "      <td>NaN</td>\n",
       "      <td>NaN</td>\n",
       "      <td>NaN</td>\n",
       "      <td>496.0</td>\n",
       "      <td>https://www.ne.ch/autorites/DFS/SCSP/medecin-c...</td>\n",
       "      <td>NaN</td>\n",
       "      <td>NaN</td>\n",
       "      <td>NaN</td>\n",
       "    </tr>\n",
       "    <tr>\n",
       "      <th>24039</th>\n",
       "      <td>2023-09-11</td>\n",
       "      <td>00:00</td>\n",
       "      <td>GE</td>\n",
       "      <td>NaN</td>\n",
       "      <td>251162.0</td>\n",
       "      <td>NaN</td>\n",
       "      <td>66.0</td>\n",
       "      <td>1.0</td>\n",
       "      <td>NaN</td>\n",
       "      <td>NaN</td>\n",
       "      <td>959.0</td>\n",
       "      <td>https://infocovid.smc.unige.ch/</td>\n",
       "      <td>NaN</td>\n",
       "      <td>NaN</td>\n",
       "      <td>NaN</td>\n",
       "    </tr>\n",
       "    <tr>\n",
       "      <th>24040</th>\n",
       "      <td>2023-09-12</td>\n",
       "      <td>00:00</td>\n",
       "      <td>GE</td>\n",
       "      <td>NaN</td>\n",
       "      <td>251178.0</td>\n",
       "      <td>NaN</td>\n",
       "      <td>60.0</td>\n",
       "      <td>1.0</td>\n",
       "      <td>NaN</td>\n",
       "      <td>NaN</td>\n",
       "      <td>959.0</td>\n",
       "      <td>https://infocovid.smc.unige.ch/</td>\n",
       "      <td>NaN</td>\n",
       "      <td>NaN</td>\n",
       "      <td>NaN</td>\n",
       "    </tr>\n",
       "  </tbody>\n",
       "</table>\n",
       "<p>24041 rows × 15 columns</p>\n",
       "</div>"
      ],
      "text/plain": [
       "             date   time abbreviation_canton_and_fl  ncumul_tested  \\\n",
       "0      2020-02-01  00:00                         GE          109.0   \n",
       "1      2020-02-02  00:00                         GE          115.0   \n",
       "2      2020-02-03  00:00                         GE          136.0   \n",
       "3      2020-02-04  00:00                         GE          156.0   \n",
       "4      2020-02-05  00:00                         GE          169.0   \n",
       "...           ...    ...                        ...            ...   \n",
       "24036  2023-09-10    NaN                         NE            NaN   \n",
       "24037  2023-09-10  00:00                         GE            NaN   \n",
       "24038  2023-09-11    NaN                         NE            NaN   \n",
       "24039  2023-09-11  00:00                         GE            NaN   \n",
       "24040  2023-09-12  00:00                         GE            NaN   \n",
       "\n",
       "       ncumul_conf  new_hosp  current_hosp  current_icu  current_vent  \\\n",
       "0              0.0       NaN           NaN          NaN           NaN   \n",
       "1              0.0       NaN           NaN          NaN           NaN   \n",
       "2              0.0       NaN           NaN          NaN           NaN   \n",
       "3              0.0       NaN           NaN          NaN           NaN   \n",
       "4              0.0       NaN           NaN          NaN           NaN   \n",
       "...            ...       ...           ...          ...           ...   \n",
       "24036      92697.0       NaN           4.0          NaN           NaN   \n",
       "24037     251154.0       NaN          60.0          1.0           NaN   \n",
       "24038      92700.0       NaN           9.0          NaN           NaN   \n",
       "24039     251162.0       NaN          66.0          1.0           NaN   \n",
       "24040     251178.0       NaN          60.0          1.0           NaN   \n",
       "\n",
       "       ncumul_released  ncumul_deceased  \\\n",
       "0                  NaN              0.0   \n",
       "1                  NaN              0.0   \n",
       "2                  NaN              0.0   \n",
       "3                  NaN              0.0   \n",
       "4                  NaN              0.0   \n",
       "...                ...              ...   \n",
       "24036              NaN            496.0   \n",
       "24037              NaN            959.0   \n",
       "24038              NaN            496.0   \n",
       "24039              NaN            959.0   \n",
       "24040              NaN            959.0   \n",
       "\n",
       "                                                  source  current_isolated  \\\n",
       "0                        https://infocovid.smc.unige.ch/               1.0   \n",
       "1                        https://infocovid.smc.unige.ch/               1.0   \n",
       "2                        https://infocovid.smc.unige.ch/               1.0   \n",
       "3                        https://infocovid.smc.unige.ch/               1.0   \n",
       "4                        https://infocovid.smc.unige.ch/               1.0   \n",
       "...                                                  ...               ...   \n",
       "24036  https://www.ne.ch/autorites/DFS/SCSP/medecin-c...               NaN   \n",
       "24037                    https://infocovid.smc.unige.ch/               NaN   \n",
       "24038  https://www.ne.ch/autorites/DFS/SCSP/medecin-c...               NaN   \n",
       "24039                    https://infocovid.smc.unige.ch/               NaN   \n",
       "24040                    https://infocovid.smc.unige.ch/               NaN   \n",
       "\n",
       "       current_quarantined  current_quarantined_riskareatravel  \n",
       "0                      0.0                                 0.0  \n",
       "1                      0.0                                 0.0  \n",
       "2                      0.0                                 0.0  \n",
       "3                      0.0                                 0.0  \n",
       "4                      0.0                                 0.0  \n",
       "...                    ...                                 ...  \n",
       "24036                  NaN                                 NaN  \n",
       "24037                  NaN                                 NaN  \n",
       "24038                  NaN                                 NaN  \n",
       "24039                  NaN                                 NaN  \n",
       "24040                  NaN                                 NaN  \n",
       "\n",
       "[24041 rows x 15 columns]"
      ]
     },
     "execution_count": 17,
     "metadata": {},
     "output_type": "execute_result"
    }
   ],
   "source": [
    "covid_data.dropna(thresh=3)"
   ]
  },
  {
   "cell_type": "markdown",
   "metadata": {
    "id": "hBddUuNBxPP-"
   },
   "source": [
    "### Replacing Missing Values"
   ]
  },
  {
   "cell_type": "markdown",
   "metadata": {
    "id": "DoIwwfzgDoRy"
   },
   "source": [
    "We will now focus on imputing missing values.\n",
    "\n",
    "Our data contains broadly speaking 3 types of values:\n",
    "* direct and cumulative counts of populations (numerical)\n",
    "* `date` and `time`\n",
    "* categorical `abbreviation_canton_and_fl` and `source`\n",
    "\n",
    "We already know that `abbreviation_canton_and_fl` and `date` do not have any missing values.\n",
    "\n",
    "`source` has only 2 missing values, which we will ignore for now."
   ]
  },
  {
   "cell_type": "markdown",
   "metadata": {
    "id": "NiR4qeRjFAnG"
   },
   "source": [
    "We will first focus on the `time` column. Looking at the dataframe console printouts, we can already guess that many rows have the value `\"00:00\"` as their time.\n",
    "\n",
    "We can confirm this by counting how many times each unique `time` value appears:"
   ]
  },
  {
   "cell_type": "code",
   "execution_count": 18,
   "metadata": {
    "id": "wZoxuQnaFcBb"
   },
   "outputs": [
    {
     "data": {
      "text/plain": [
       "time\n",
       "00:00    3622\n",
       "08:00    2495\n",
       "10:00    1175\n",
       "14:30    1162\n",
       "09:00     738\n",
       "         ... \n",
       "10:25       1\n",
       "07:40       1\n",
       "08:40       1\n",
       "15:15       1\n",
       "16:40       1\n",
       "Name: count, Length: 114, dtype: int64"
      ]
     },
     "execution_count": 18,
     "metadata": {},
     "output_type": "execute_result"
    }
   ],
   "source": [
    "covid_data['time'].value_counts()"
   ]
  },
  {
   "cell_type": "markdown",
   "metadata": {
    "id": "njQA3zUOGRJU"
   },
   "source": [
    "We will therefore decide to fill the missing `time` values with\n",
    "`\"00:00\"`. This can be achieved by the `.fillna()` method:"
   ]
  },
  {
   "cell_type": "code",
   "execution_count": 19,
   "metadata": {
    "id": "wk0tyeVzGQJ4"
   },
   "outputs": [
    {
     "data": {
      "text/plain": [
       "date                                      0\n",
       "time                                      0\n",
       "abbreviation_canton_and_fl                0\n",
       "ncumul_tested                         23778\n",
       "ncumul_conf                             547\n",
       "new_hosp                              22647\n",
       "current_hosp                           3136\n",
       "current_icu                            6098\n",
       "current_vent                          16704\n",
       "ncumul_released                       16671\n",
       "ncumul_deceased                        2287\n",
       "source                                    2\n",
       "current_isolated                      14737\n",
       "current_quarantined                   15115\n",
       "current_quarantined_riskareatravel    18911\n",
       "dtype: int64"
      ]
     },
     "execution_count": 19,
     "metadata": {},
     "output_type": "execute_result"
    }
   ],
   "source": [
    "covid_data['time'] = covid_data['time'].fillna(\"00:00\")\n",
    "covid_clean_time = covid_data # Zwischenschritt\n",
    "covid_data.isna().sum()"
   ]
  },
  {
   "cell_type": "markdown",
   "metadata": {
    "id": "_4KXhmoMG8lb"
   },
   "source": [
    "Note that we specifically update the `time` column with a version where the missing values have been replaced. If we instead wrote `covid_data.fillna(\"00:00\")` then every missing value in the entire dataframe would be replaced by `\"00:00\"`!"
   ]
  },
  {
   "cell_type": "markdown",
   "metadata": {
    "id": "945Jgvt_Dwz8"
   },
   "source": [
    "**(Side Note)**: If we inspect the data more closely, we can see that each canton seems to have a specific time that they usually submit the data, so filling in \"00:00\" agnostically might not be the perfect solution but we will consider it good enough for this lab."
   ]
  },
  {
   "cell_type": "markdown",
   "metadata": {
    "id": "KxYq0v93EI7S"
   },
   "source": [
    "Next, we will fill in current counts, such as `current_hosp`. In the lecture you have seen different approaches to determine a good value to impute. Intuitively, if we do not know how many people are currently in the hospital, a simple estimate would be to use the number of people hospitalised the day before, or the last known value in general."
   ]
  },
  {
   "cell_type": "markdown",
   "metadata": {
    "id": "mjIIInBqIHBP"
   },
   "source": [
    "This can be achieved in pandas by using the `.ffill()` (forward-fill) method. The code sniplet below shows a simple example."
   ]
  },
  {
   "cell_type": "code",
   "execution_count": 20,
   "metadata": {
    "id": "jyy4zhPmIjpx"
   },
   "outputs": [
    {
     "data": {
      "text/html": [
       "<div>\n",
       "<style scoped>\n",
       "    .dataframe tbody tr th:only-of-type {\n",
       "        vertical-align: middle;\n",
       "    }\n",
       "\n",
       "    .dataframe tbody tr th {\n",
       "        vertical-align: top;\n",
       "    }\n",
       "\n",
       "    .dataframe thead th {\n",
       "        text-align: right;\n",
       "    }\n",
       "</style>\n",
       "<table border=\"1\" class=\"dataframe\">\n",
       "  <thead>\n",
       "    <tr style=\"text-align: right;\">\n",
       "      <th></th>\n",
       "      <th>values</th>\n",
       "    </tr>\n",
       "  </thead>\n",
       "  <tbody>\n",
       "    <tr>\n",
       "      <th>0</th>\n",
       "      <td>1.0</td>\n",
       "    </tr>\n",
       "    <tr>\n",
       "      <th>1</th>\n",
       "      <td>2.0</td>\n",
       "    </tr>\n",
       "    <tr>\n",
       "      <th>2</th>\n",
       "      <td>3.0</td>\n",
       "    </tr>\n",
       "    <tr>\n",
       "      <th>3</th>\n",
       "      <td>NaN</td>\n",
       "    </tr>\n",
       "    <tr>\n",
       "      <th>4</th>\n",
       "      <td>NaN</td>\n",
       "    </tr>\n",
       "    <tr>\n",
       "      <th>5</th>\n",
       "      <td>6.0</td>\n",
       "    </tr>\n",
       "  </tbody>\n",
       "</table>\n",
       "</div>"
      ],
      "text/plain": [
       "   values\n",
       "0     1.0\n",
       "1     2.0\n",
       "2     3.0\n",
       "3     NaN\n",
       "4     NaN\n",
       "5     6.0"
      ]
     },
     "execution_count": 20,
     "metadata": {},
     "output_type": "execute_result"
    }
   ],
   "source": [
    "ffill_example = pd.DataFrame({\"values\": [1, 2, 3, None, None, 6]})\n",
    "ffill_example"
   ]
  },
  {
   "cell_type": "code",
   "execution_count": 21,
   "metadata": {
    "id": "ccRvHuYoI06P"
   },
   "outputs": [
    {
     "data": {
      "text/html": [
       "<div>\n",
       "<style scoped>\n",
       "    .dataframe tbody tr th:only-of-type {\n",
       "        vertical-align: middle;\n",
       "    }\n",
       "\n",
       "    .dataframe tbody tr th {\n",
       "        vertical-align: top;\n",
       "    }\n",
       "\n",
       "    .dataframe thead th {\n",
       "        text-align: right;\n",
       "    }\n",
       "</style>\n",
       "<table border=\"1\" class=\"dataframe\">\n",
       "  <thead>\n",
       "    <tr style=\"text-align: right;\">\n",
       "      <th></th>\n",
       "      <th>values</th>\n",
       "    </tr>\n",
       "  </thead>\n",
       "  <tbody>\n",
       "    <tr>\n",
       "      <th>0</th>\n",
       "      <td>1.0</td>\n",
       "    </tr>\n",
       "    <tr>\n",
       "      <th>1</th>\n",
       "      <td>2.0</td>\n",
       "    </tr>\n",
       "    <tr>\n",
       "      <th>2</th>\n",
       "      <td>3.0</td>\n",
       "    </tr>\n",
       "    <tr>\n",
       "      <th>3</th>\n",
       "      <td>3.0</td>\n",
       "    </tr>\n",
       "    <tr>\n",
       "      <th>4</th>\n",
       "      <td>3.0</td>\n",
       "    </tr>\n",
       "    <tr>\n",
       "      <th>5</th>\n",
       "      <td>6.0</td>\n",
       "    </tr>\n",
       "  </tbody>\n",
       "</table>\n",
       "</div>"
      ],
      "text/plain": [
       "   values\n",
       "0     1.0\n",
       "1     2.0\n",
       "2     3.0\n",
       "3     3.0\n",
       "4     3.0\n",
       "5     6.0"
      ]
     },
     "execution_count": 21,
     "metadata": {},
     "output_type": "execute_result"
    }
   ],
   "source": [
    "ffill_example.ffill()"
   ]
  },
  {
   "cell_type": "markdown",
   "metadata": {
    "id": "r7PFDwu2JHGy"
   },
   "source": [
    "For our covid data this will become a little more intricate. First, we have to make sure that the data is sorted by date and time to make sure we actually forward fill the last known values. Second, we will have to do this for each canton individually, as it makes no sense to substitute a known value from Geneva in Zurich. We show how to achieve this in the next cell and unpack it afterwards:"
   ]
  },
  {
   "cell_type": "code",
   "execution_count": 22,
   "metadata": {
    "id": "7aBMcfTVFzep"
   },
   "outputs": [
    {
     "data": {
      "text/html": [
       "<div>\n",
       "<style scoped>\n",
       "    .dataframe tbody tr th:only-of-type {\n",
       "        vertical-align: middle;\n",
       "    }\n",
       "\n",
       "    .dataframe tbody tr th {\n",
       "        vertical-align: top;\n",
       "    }\n",
       "\n",
       "    .dataframe thead th {\n",
       "        text-align: right;\n",
       "    }\n",
       "</style>\n",
       "<table border=\"1\" class=\"dataframe\">\n",
       "  <thead>\n",
       "    <tr style=\"text-align: right;\">\n",
       "      <th></th>\n",
       "      <th>date</th>\n",
       "      <th>time</th>\n",
       "      <th>abbreviation_canton_and_fl</th>\n",
       "      <th>ncumul_tested</th>\n",
       "      <th>ncumul_conf</th>\n",
       "      <th>new_hosp</th>\n",
       "      <th>current_hosp</th>\n",
       "      <th>current_icu</th>\n",
       "      <th>current_vent</th>\n",
       "      <th>ncumul_released</th>\n",
       "      <th>ncumul_deceased</th>\n",
       "      <th>source</th>\n",
       "      <th>current_isolated</th>\n",
       "      <th>current_quarantined</th>\n",
       "      <th>current_quarantined_riskareatravel</th>\n",
       "    </tr>\n",
       "  </thead>\n",
       "  <tbody>\n",
       "    <tr>\n",
       "      <th>0</th>\n",
       "      <td>2020-02-01</td>\n",
       "      <td>00:00</td>\n",
       "      <td>GE</td>\n",
       "      <td>109.0</td>\n",
       "      <td>0.0</td>\n",
       "      <td>NaN</td>\n",
       "      <td>0.0</td>\n",
       "      <td>0.0</td>\n",
       "      <td>0.0</td>\n",
       "      <td>0.0</td>\n",
       "      <td>0.0</td>\n",
       "      <td>https://infocovid.smc.unige.ch/</td>\n",
       "      <td>1.0</td>\n",
       "      <td>0.0</td>\n",
       "      <td>0.0</td>\n",
       "    </tr>\n",
       "    <tr>\n",
       "      <th>1</th>\n",
       "      <td>2020-02-02</td>\n",
       "      <td>00:00</td>\n",
       "      <td>GE</td>\n",
       "      <td>115.0</td>\n",
       "      <td>0.0</td>\n",
       "      <td>NaN</td>\n",
       "      <td>0.0</td>\n",
       "      <td>0.0</td>\n",
       "      <td>0.0</td>\n",
       "      <td>0.0</td>\n",
       "      <td>0.0</td>\n",
       "      <td>https://infocovid.smc.unige.ch/</td>\n",
       "      <td>1.0</td>\n",
       "      <td>0.0</td>\n",
       "      <td>0.0</td>\n",
       "    </tr>\n",
       "    <tr>\n",
       "      <th>2</th>\n",
       "      <td>2020-02-03</td>\n",
       "      <td>00:00</td>\n",
       "      <td>GE</td>\n",
       "      <td>136.0</td>\n",
       "      <td>0.0</td>\n",
       "      <td>NaN</td>\n",
       "      <td>0.0</td>\n",
       "      <td>0.0</td>\n",
       "      <td>0.0</td>\n",
       "      <td>0.0</td>\n",
       "      <td>0.0</td>\n",
       "      <td>https://infocovid.smc.unige.ch/</td>\n",
       "      <td>1.0</td>\n",
       "      <td>0.0</td>\n",
       "      <td>0.0</td>\n",
       "    </tr>\n",
       "    <tr>\n",
       "      <th>3</th>\n",
       "      <td>2020-02-04</td>\n",
       "      <td>00:00</td>\n",
       "      <td>GE</td>\n",
       "      <td>156.0</td>\n",
       "      <td>0.0</td>\n",
       "      <td>NaN</td>\n",
       "      <td>0.0</td>\n",
       "      <td>0.0</td>\n",
       "      <td>0.0</td>\n",
       "      <td>0.0</td>\n",
       "      <td>0.0</td>\n",
       "      <td>https://infocovid.smc.unige.ch/</td>\n",
       "      <td>1.0</td>\n",
       "      <td>0.0</td>\n",
       "      <td>0.0</td>\n",
       "    </tr>\n",
       "    <tr>\n",
       "      <th>4</th>\n",
       "      <td>2020-02-05</td>\n",
       "      <td>00:00</td>\n",
       "      <td>GE</td>\n",
       "      <td>169.0</td>\n",
       "      <td>0.0</td>\n",
       "      <td>NaN</td>\n",
       "      <td>0.0</td>\n",
       "      <td>0.0</td>\n",
       "      <td>0.0</td>\n",
       "      <td>0.0</td>\n",
       "      <td>0.0</td>\n",
       "      <td>https://infocovid.smc.unige.ch/</td>\n",
       "      <td>1.0</td>\n",
       "      <td>0.0</td>\n",
       "      <td>0.0</td>\n",
       "    </tr>\n",
       "    <tr>\n",
       "      <th>...</th>\n",
       "      <td>...</td>\n",
       "      <td>...</td>\n",
       "      <td>...</td>\n",
       "      <td>...</td>\n",
       "      <td>...</td>\n",
       "      <td>...</td>\n",
       "      <td>...</td>\n",
       "      <td>...</td>\n",
       "      <td>...</td>\n",
       "      <td>...</td>\n",
       "      <td>...</td>\n",
       "      <td>...</td>\n",
       "      <td>...</td>\n",
       "      <td>...</td>\n",
       "      <td>...</td>\n",
       "    </tr>\n",
       "    <tr>\n",
       "      <th>24036</th>\n",
       "      <td>2023-09-10</td>\n",
       "      <td>00:00</td>\n",
       "      <td>NE</td>\n",
       "      <td>0.0</td>\n",
       "      <td>92697.0</td>\n",
       "      <td>NaN</td>\n",
       "      <td>4.0</td>\n",
       "      <td>1.0</td>\n",
       "      <td>0.0</td>\n",
       "      <td>0.0</td>\n",
       "      <td>496.0</td>\n",
       "      <td>https://www.ne.ch/autorites/DFS/SCSP/medecin-c...</td>\n",
       "      <td>0.0</td>\n",
       "      <td>0.0</td>\n",
       "      <td>0.0</td>\n",
       "    </tr>\n",
       "    <tr>\n",
       "      <th>24037</th>\n",
       "      <td>2023-09-10</td>\n",
       "      <td>00:00</td>\n",
       "      <td>GE</td>\n",
       "      <td>187408.0</td>\n",
       "      <td>251154.0</td>\n",
       "      <td>NaN</td>\n",
       "      <td>60.0</td>\n",
       "      <td>1.0</td>\n",
       "      <td>1.0</td>\n",
       "      <td>973.0</td>\n",
       "      <td>959.0</td>\n",
       "      <td>https://infocovid.smc.unige.ch/</td>\n",
       "      <td>1816.0</td>\n",
       "      <td>0.0</td>\n",
       "      <td>0.0</td>\n",
       "    </tr>\n",
       "    <tr>\n",
       "      <th>24038</th>\n",
       "      <td>2023-09-11</td>\n",
       "      <td>00:00</td>\n",
       "      <td>NE</td>\n",
       "      <td>0.0</td>\n",
       "      <td>92700.0</td>\n",
       "      <td>NaN</td>\n",
       "      <td>9.0</td>\n",
       "      <td>1.0</td>\n",
       "      <td>0.0</td>\n",
       "      <td>0.0</td>\n",
       "      <td>496.0</td>\n",
       "      <td>https://www.ne.ch/autorites/DFS/SCSP/medecin-c...</td>\n",
       "      <td>0.0</td>\n",
       "      <td>0.0</td>\n",
       "      <td>0.0</td>\n",
       "    </tr>\n",
       "    <tr>\n",
       "      <th>24039</th>\n",
       "      <td>2023-09-11</td>\n",
       "      <td>00:00</td>\n",
       "      <td>GE</td>\n",
       "      <td>187408.0</td>\n",
       "      <td>251162.0</td>\n",
       "      <td>NaN</td>\n",
       "      <td>66.0</td>\n",
       "      <td>1.0</td>\n",
       "      <td>1.0</td>\n",
       "      <td>973.0</td>\n",
       "      <td>959.0</td>\n",
       "      <td>https://infocovid.smc.unige.ch/</td>\n",
       "      <td>1816.0</td>\n",
       "      <td>0.0</td>\n",
       "      <td>0.0</td>\n",
       "    </tr>\n",
       "    <tr>\n",
       "      <th>24040</th>\n",
       "      <td>2023-09-12</td>\n",
       "      <td>00:00</td>\n",
       "      <td>GE</td>\n",
       "      <td>187408.0</td>\n",
       "      <td>251178.0</td>\n",
       "      <td>NaN</td>\n",
       "      <td>60.0</td>\n",
       "      <td>1.0</td>\n",
       "      <td>1.0</td>\n",
       "      <td>973.0</td>\n",
       "      <td>959.0</td>\n",
       "      <td>https://infocovid.smc.unige.ch/</td>\n",
       "      <td>1816.0</td>\n",
       "      <td>0.0</td>\n",
       "      <td>0.0</td>\n",
       "    </tr>\n",
       "  </tbody>\n",
       "</table>\n",
       "<p>24041 rows × 15 columns</p>\n",
       "</div>"
      ],
      "text/plain": [
       "             date   time abbreviation_canton_and_fl  ncumul_tested  \\\n",
       "0      2020-02-01  00:00                         GE          109.0   \n",
       "1      2020-02-02  00:00                         GE          115.0   \n",
       "2      2020-02-03  00:00                         GE          136.0   \n",
       "3      2020-02-04  00:00                         GE          156.0   \n",
       "4      2020-02-05  00:00                         GE          169.0   \n",
       "...           ...    ...                        ...            ...   \n",
       "24036  2023-09-10  00:00                         NE            0.0   \n",
       "24037  2023-09-10  00:00                         GE       187408.0   \n",
       "24038  2023-09-11  00:00                         NE            0.0   \n",
       "24039  2023-09-11  00:00                         GE       187408.0   \n",
       "24040  2023-09-12  00:00                         GE       187408.0   \n",
       "\n",
       "       ncumul_conf  new_hosp  current_hosp  current_icu  current_vent  \\\n",
       "0              0.0       NaN           0.0          0.0           0.0   \n",
       "1              0.0       NaN           0.0          0.0           0.0   \n",
       "2              0.0       NaN           0.0          0.0           0.0   \n",
       "3              0.0       NaN           0.0          0.0           0.0   \n",
       "4              0.0       NaN           0.0          0.0           0.0   \n",
       "...            ...       ...           ...          ...           ...   \n",
       "24036      92697.0       NaN           4.0          1.0           0.0   \n",
       "24037     251154.0       NaN          60.0          1.0           1.0   \n",
       "24038      92700.0       NaN           9.0          1.0           0.0   \n",
       "24039     251162.0       NaN          66.0          1.0           1.0   \n",
       "24040     251178.0       NaN          60.0          1.0           1.0   \n",
       "\n",
       "       ncumul_released  ncumul_deceased  \\\n",
       "0                  0.0              0.0   \n",
       "1                  0.0              0.0   \n",
       "2                  0.0              0.0   \n",
       "3                  0.0              0.0   \n",
       "4                  0.0              0.0   \n",
       "...                ...              ...   \n",
       "24036              0.0            496.0   \n",
       "24037            973.0            959.0   \n",
       "24038              0.0            496.0   \n",
       "24039            973.0            959.0   \n",
       "24040            973.0            959.0   \n",
       "\n",
       "                                                  source  current_isolated  \\\n",
       "0                        https://infocovid.smc.unige.ch/               1.0   \n",
       "1                        https://infocovid.smc.unige.ch/               1.0   \n",
       "2                        https://infocovid.smc.unige.ch/               1.0   \n",
       "3                        https://infocovid.smc.unige.ch/               1.0   \n",
       "4                        https://infocovid.smc.unige.ch/               1.0   \n",
       "...                                                  ...               ...   \n",
       "24036  https://www.ne.ch/autorites/DFS/SCSP/medecin-c...               0.0   \n",
       "24037                    https://infocovid.smc.unige.ch/            1816.0   \n",
       "24038  https://www.ne.ch/autorites/DFS/SCSP/medecin-c...               0.0   \n",
       "24039                    https://infocovid.smc.unige.ch/            1816.0   \n",
       "24040                    https://infocovid.smc.unige.ch/            1816.0   \n",
       "\n",
       "       current_quarantined  current_quarantined_riskareatravel  \n",
       "0                      0.0                                 0.0  \n",
       "1                      0.0                                 0.0  \n",
       "2                      0.0                                 0.0  \n",
       "3                      0.0                                 0.0  \n",
       "4                      0.0                                 0.0  \n",
       "...                    ...                                 ...  \n",
       "24036                  0.0                                 0.0  \n",
       "24037                  0.0                                 0.0  \n",
       "24038                  0.0                                 0.0  \n",
       "24039                  0.0                                 0.0  \n",
       "24040                  0.0                                 0.0  \n",
       "\n",
       "[24041 rows x 15 columns]"
      ]
     },
     "execution_count": 22,
     "metadata": {},
     "output_type": "execute_result"
    }
   ],
   "source": [
    "ffill_columns = [\n",
    "  'ncumul_tested',\n",
    "  'ncumul_conf',\n",
    "  'current_hosp',\n",
    "  'current_icu',\n",
    "  'current_vent',\n",
    "  'ncumul_released',\n",
    "  'ncumul_deceased',\n",
    "  'current_isolated',\n",
    "  'current_quarantined',\n",
    "  'current_quarantined_riskareatravel',\n",
    "]\n",
    "for canton in covid_data['abbreviation_canton_and_fl'].unique():\n",
    "  covid_data.loc[covid_data['abbreviation_canton_and_fl'] == canton, ffill_columns] = covid_data.loc[covid_data['abbreviation_canton_and_fl'] == canton, ffill_columns].ffill().fillna(0.)\n",
    "\n",
    "covid_data"
   ]
  },
  {
   "cell_type": "markdown",
   "metadata": {
    "id": "aPtCqN6xLofg"
   },
   "source": [
    "First, we specify which columns we will forward fill. Here we selected all current and cumulative counts.\n",
    "\n",
    "Then we iterate over all cantons. The `.loc` method is used for complex indexing. It can be used as `.loc[row_selection, column_selection]`. The rows we select are the ones that correspond to the current canton. The expression `covid_data['abbreviation_canton_and_fl'] == canton` returns a boolean index series that indicates rows that match the current canton. We use the list of columns we want to forward fill as our column selection.\n",
    "\n",
    "As before, we reassign all these cells by a version that has its missing values filled in. We apply the `.ffill()` method and follow it by a `fillna(0.)`. This is because missing values at the start (before any value is known) can not be forward-filled and we explicitely set them to 0 here."
   ]
  },
  {
   "cell_type": "markdown",
   "metadata": {
    "id": "CCMWvhgANTEw"
   },
   "source": [
    "Let us now see our progess:"
   ]
  },
  {
   "cell_type": "code",
   "execution_count": 23,
   "metadata": {
    "id": "2YGVDLNUNWI4"
   },
   "outputs": [
    {
     "data": {
      "text/plain": [
       "date                                      0\n",
       "time                                      0\n",
       "abbreviation_canton_and_fl                0\n",
       "ncumul_tested                             0\n",
       "ncumul_conf                               0\n",
       "new_hosp                              22647\n",
       "current_hosp                              0\n",
       "current_icu                               0\n",
       "current_vent                              0\n",
       "ncumul_released                           0\n",
       "ncumul_deceased                           0\n",
       "source                                    2\n",
       "current_isolated                          0\n",
       "current_quarantined                       0\n",
       "current_quarantined_riskareatravel        0\n",
       "dtype: int64"
      ]
     },
     "execution_count": 23,
     "metadata": {},
     "output_type": "execute_result"
    }
   ],
   "source": [
    "covid_data.isna().sum()"
   ]
  },
  {
   "cell_type": "markdown",
   "metadata": {
    "id": "LnFnHsMUNeCW"
   },
   "source": [
    "There are two remaining columns with missing values. For `new_hosp` we will naively fill in 0 and for `source` we will impute the string `\"unknown\"`."
   ]
  },
  {
   "cell_type": "markdown",
   "metadata": {
    "id": "GnaMZBPjx2Fu"
   },
   "source": [
    "**🚨 TASK 1A (2 Points) 🚨**\n",
    "\n",
    "* Replace missing values in the `new_hosp` column by 0\n",
    "* Replace missing values in the `source` column by the string `\"unknown\"`"
   ]
  },
  {
   "cell_type": "code",
   "execution_count": 24,
   "metadata": {
    "id": "peaTkKqzNs0o"
   },
   "outputs": [],
   "source": [
    "# Hint refer back to where we replaced missing 'time' values by \"00:00\"!\n",
    "covid_data['new_hosp'] = covid_data['new_hosp'].fillna(0)\n",
    "covid_data['source'] = covid_data['source'].fillna(\"unknown\")\n",
    "covid_no_missing = covid_data # Zwischenschritt"
   ]
  },
  {
   "cell_type": "markdown",
   "metadata": {
    "id": "vlL0jj_LN6l9"
   },
   "source": [
    "We have now eliminated all missing values!"
   ]
  },
  {
   "cell_type": "code",
   "execution_count": 25,
   "metadata": {
    "id": "K4R1WjQvN9Lo"
   },
   "outputs": [
    {
     "data": {
      "text/plain": [
       "date                                  0\n",
       "time                                  0\n",
       "abbreviation_canton_and_fl            0\n",
       "ncumul_tested                         0\n",
       "ncumul_conf                           0\n",
       "new_hosp                              0\n",
       "current_hosp                          0\n",
       "current_icu                           0\n",
       "current_vent                          0\n",
       "ncumul_released                       0\n",
       "ncumul_deceased                       0\n",
       "source                                0\n",
       "current_isolated                      0\n",
       "current_quarantined                   0\n",
       "current_quarantined_riskareatravel    0\n",
       "dtype: int64"
      ]
     },
     "execution_count": 25,
     "metadata": {},
     "output_type": "execute_result"
    }
   ],
   "source": [
    "covid_data.isna().sum()"
   ]
  },
  {
   "cell_type": "markdown",
   "metadata": {
    "id": "GX14pnEteeXJ"
   },
   "source": [
    "<mark>In **MOODLE**</mark>:\n",
    "\n",
    "* upload your code snippte to fill in missing values for `new_hosp` and `source`\n",
    "* upload the output of counting remaining missing values"
   ]
  },
  {
   "cell_type": "markdown",
   "metadata": {
    "id": "GcHL2-ZHON8g"
   },
   "source": [
    "## Dealing with Duplicate Rows"
   ]
  },
  {
   "cell_type": "markdown",
   "metadata": {
    "id": "wh0uWaYUOQ48"
   },
   "source": [
    "The `.duplicated()` method will tell you for each row whether it is an exact duplicate. By default it will mark the first occurrence of a row as a non-duplicate and every following occurrence as a duplicate."
   ]
  },
  {
   "cell_type": "code",
   "execution_count": 26,
   "metadata": {
    "id": "q-Ejmse0YRIT"
   },
   "outputs": [
    {
     "data": {
      "text/plain": [
       "0        False\n",
       "1        False\n",
       "2        False\n",
       "3        False\n",
       "4        False\n",
       "         ...  \n",
       "24036    False\n",
       "24037    False\n",
       "24038    False\n",
       "24039    False\n",
       "24040    False\n",
       "Length: 24041, dtype: bool"
      ]
     },
     "execution_count": 26,
     "metadata": {},
     "output_type": "execute_result"
    }
   ],
   "source": [
    "covid_data.duplicated()"
   ]
  },
  {
   "cell_type": "markdown",
   "metadata": {
    "id": "PjDDBgVYYYou"
   },
   "source": [
    "We can check whether there are any exact duplicates by summing:"
   ]
  },
  {
   "cell_type": "code",
   "execution_count": 27,
   "metadata": {
    "id": "hB5R0BLkYU4-"
   },
   "outputs": [
    {
     "data": {
      "text/plain": [
       "0"
      ]
     },
     "execution_count": 27,
     "metadata": {},
     "output_type": "execute_result"
    }
   ],
   "source": [
    "covid_data.duplicated().sum()"
   ]
  },
  {
   "cell_type": "markdown",
   "metadata": {
    "id": "9H65SLycYgcd"
   },
   "source": [
    "We can see that our dataset does not contain any duplicate columns, this is mainly because each entry has a unique `'date'` and `'time'`.\n",
    "\n",
    "We can set the `subset=...` parameter to indicate which columns to consider for duplicate detection. Let us check whether there are duplicates, when we ignore the `'date'` and `'time'` columns:"
   ]
  },
  {
   "cell_type": "markdown",
   "metadata": {
    "id": "7c2qk9UQytVe"
   },
   "source": [
    "**🚨 TASK 1B (1 Point) 🚨**\n",
    "\n",
    "* count the number of exact duplicates when we only consider non-time colums"
   ]
  },
  {
   "cell_type": "code",
   "execution_count": 28,
   "metadata": {
    "id": "5cFMZMszORoC"
   },
   "outputs": [
    {
     "data": {
      "text/plain": [
       "['abbreviation_canton_and_fl',\n",
       " 'ncumul_tested',\n",
       " 'ncumul_conf',\n",
       " 'new_hosp',\n",
       " 'current_hosp',\n",
       " 'current_icu',\n",
       " 'current_vent',\n",
       " 'ncumul_released',\n",
       " 'ncumul_deceased',\n",
       " 'source',\n",
       " 'current_isolated',\n",
       " 'current_quarantined',\n",
       " 'current_quarantined_riskareatravel']"
      ]
     },
     "execution_count": 28,
     "metadata": {},
     "output_type": "execute_result"
    }
   ],
   "source": [
    "non_time_cols = [c for c in covid_data.columns if c not in {'date', 'time'}]\n",
    "non_time_cols"
   ]
  },
  {
   "cell_type": "code",
   "execution_count": 29,
   "metadata": {},
   "outputs": [
    {
     "data": {
      "text/plain": [
       "['abbreviation_canton_and_fl', 'date', 'time']"
      ]
     },
     "execution_count": 29,
     "metadata": {},
     "output_type": "execute_result"
    }
   ],
   "source": [
    "# I would rather check for rows with an equal combination of canton, date, time...\n",
    "same_measurement = ['abbreviation_canton_and_fl', 'date', 'time']\n",
    "same_measurement"
   ]
  },
  {
   "cell_type": "code",
   "execution_count": 30,
   "metadata": {},
   "outputs": [],
   "source": [
    "#to_drop = ['ncumul_tested','ncumul_conf','new_hosp','current_hosp','current_icu','current_vent','ncumul_released','ncumul_deceased','source','current_isolated','current_quarantined','current_quarantined_riskareatravel']\n",
    "#to_drop"
   ]
  },
  {
   "cell_type": "code",
   "execution_count": 31,
   "metadata": {},
   "outputs": [],
   "source": [
    "#covid_test_measurements = covid_no_missing.drop(to_drop, inplace = True, axis = 1)"
   ]
  },
  {
   "cell_type": "code",
   "execution_count": 32,
   "metadata": {},
   "outputs": [],
   "source": [
    "covid_test_measurements = pd.DataFrame(covid_no_missing, columns=same_measurement)"
   ]
  },
  {
   "cell_type": "code",
   "execution_count": 33,
   "metadata": {},
   "outputs": [
    {
     "data": {
      "text/html": [
       "<div>\n",
       "<style scoped>\n",
       "    .dataframe tbody tr th:only-of-type {\n",
       "        vertical-align: middle;\n",
       "    }\n",
       "\n",
       "    .dataframe tbody tr th {\n",
       "        vertical-align: top;\n",
       "    }\n",
       "\n",
       "    .dataframe thead th {\n",
       "        text-align: right;\n",
       "    }\n",
       "</style>\n",
       "<table border=\"1\" class=\"dataframe\">\n",
       "  <thead>\n",
       "    <tr style=\"text-align: right;\">\n",
       "      <th></th>\n",
       "      <th>abbreviation_canton_and_fl</th>\n",
       "      <th>date</th>\n",
       "      <th>time</th>\n",
       "    </tr>\n",
       "  </thead>\n",
       "  <tbody>\n",
       "    <tr>\n",
       "      <th>0</th>\n",
       "      <td>GE</td>\n",
       "      <td>2020-02-01</td>\n",
       "      <td>00:00</td>\n",
       "    </tr>\n",
       "    <tr>\n",
       "      <th>1</th>\n",
       "      <td>GE</td>\n",
       "      <td>2020-02-02</td>\n",
       "      <td>00:00</td>\n",
       "    </tr>\n",
       "    <tr>\n",
       "      <th>2</th>\n",
       "      <td>GE</td>\n",
       "      <td>2020-02-03</td>\n",
       "      <td>00:00</td>\n",
       "    </tr>\n",
       "    <tr>\n",
       "      <th>3</th>\n",
       "      <td>GE</td>\n",
       "      <td>2020-02-04</td>\n",
       "      <td>00:00</td>\n",
       "    </tr>\n",
       "    <tr>\n",
       "      <th>4</th>\n",
       "      <td>GE</td>\n",
       "      <td>2020-02-05</td>\n",
       "      <td>00:00</td>\n",
       "    </tr>\n",
       "  </tbody>\n",
       "</table>\n",
       "</div>"
      ],
      "text/plain": [
       "  abbreviation_canton_and_fl        date   time\n",
       "0                         GE  2020-02-01  00:00\n",
       "1                         GE  2020-02-02  00:00\n",
       "2                         GE  2020-02-03  00:00\n",
       "3                         GE  2020-02-04  00:00\n",
       "4                         GE  2020-02-05  00:00"
      ]
     },
     "execution_count": 33,
     "metadata": {},
     "output_type": "execute_result"
    }
   ],
   "source": [
    "covid_test_measurements.head()"
   ]
  },
  {
   "cell_type": "code",
   "execution_count": 34,
   "metadata": {},
   "outputs": [
    {
     "data": {
      "text/plain": [
       "0        False\n",
       "1        False\n",
       "2        False\n",
       "3        False\n",
       "4        False\n",
       "         ...  \n",
       "24036    False\n",
       "24037    False\n",
       "24038    False\n",
       "24039    False\n",
       "24040    False\n",
       "Length: 24041, dtype: bool"
      ]
     },
     "execution_count": 34,
     "metadata": {},
     "output_type": "execute_result"
    }
   ],
   "source": [
    "covid_test_measurements.duplicated()"
   ]
  },
  {
   "cell_type": "code",
   "execution_count": 35,
   "metadata": {},
   "outputs": [
    {
     "data": {
      "text/plain": [
       "0"
      ]
     },
     "execution_count": 35,
     "metadata": {},
     "output_type": "execute_result"
    }
   ],
   "source": [
    "covid_test_measurements.duplicated().sum()"
   ]
  },
  {
   "cell_type": "code",
   "execution_count": 36,
   "metadata": {},
   "outputs": [
    {
     "data": {
      "text/html": [
       "<div>\n",
       "<style scoped>\n",
       "    .dataframe tbody tr th:only-of-type {\n",
       "        vertical-align: middle;\n",
       "    }\n",
       "\n",
       "    .dataframe tbody tr th {\n",
       "        vertical-align: top;\n",
       "    }\n",
       "\n",
       "    .dataframe thead th {\n",
       "        text-align: right;\n",
       "    }\n",
       "</style>\n",
       "<table border=\"1\" class=\"dataframe\">\n",
       "  <thead>\n",
       "    <tr style=\"text-align: right;\">\n",
       "      <th></th>\n",
       "      <th>date</th>\n",
       "      <th>time</th>\n",
       "      <th>abbreviation_canton_and_fl</th>\n",
       "      <th>ncumul_tested</th>\n",
       "      <th>ncumul_conf</th>\n",
       "      <th>new_hosp</th>\n",
       "      <th>current_hosp</th>\n",
       "      <th>current_icu</th>\n",
       "      <th>current_vent</th>\n",
       "      <th>ncumul_released</th>\n",
       "      <th>ncumul_deceased</th>\n",
       "      <th>source</th>\n",
       "      <th>current_isolated</th>\n",
       "      <th>current_quarantined</th>\n",
       "      <th>current_quarantined_riskareatravel</th>\n",
       "    </tr>\n",
       "  </thead>\n",
       "  <tbody>\n",
       "    <tr>\n",
       "      <th>0</th>\n",
       "      <td>2020-02-01</td>\n",
       "      <td>00:00</td>\n",
       "      <td>GE</td>\n",
       "      <td>109.0</td>\n",
       "      <td>0.0</td>\n",
       "      <td>0.0</td>\n",
       "      <td>0.0</td>\n",
       "      <td>0.0</td>\n",
       "      <td>0.0</td>\n",
       "      <td>0.0</td>\n",
       "      <td>0.0</td>\n",
       "      <td>https://infocovid.smc.unige.ch/</td>\n",
       "      <td>1.0</td>\n",
       "      <td>0.0</td>\n",
       "      <td>0.0</td>\n",
       "    </tr>\n",
       "    <tr>\n",
       "      <th>1</th>\n",
       "      <td>2020-02-02</td>\n",
       "      <td>00:00</td>\n",
       "      <td>GE</td>\n",
       "      <td>115.0</td>\n",
       "      <td>0.0</td>\n",
       "      <td>0.0</td>\n",
       "      <td>0.0</td>\n",
       "      <td>0.0</td>\n",
       "      <td>0.0</td>\n",
       "      <td>0.0</td>\n",
       "      <td>0.0</td>\n",
       "      <td>https://infocovid.smc.unige.ch/</td>\n",
       "      <td>1.0</td>\n",
       "      <td>0.0</td>\n",
       "      <td>0.0</td>\n",
       "    </tr>\n",
       "    <tr>\n",
       "      <th>2</th>\n",
       "      <td>2020-02-03</td>\n",
       "      <td>00:00</td>\n",
       "      <td>GE</td>\n",
       "      <td>136.0</td>\n",
       "      <td>0.0</td>\n",
       "      <td>0.0</td>\n",
       "      <td>0.0</td>\n",
       "      <td>0.0</td>\n",
       "      <td>0.0</td>\n",
       "      <td>0.0</td>\n",
       "      <td>0.0</td>\n",
       "      <td>https://infocovid.smc.unige.ch/</td>\n",
       "      <td>1.0</td>\n",
       "      <td>0.0</td>\n",
       "      <td>0.0</td>\n",
       "    </tr>\n",
       "    <tr>\n",
       "      <th>3</th>\n",
       "      <td>2020-02-04</td>\n",
       "      <td>00:00</td>\n",
       "      <td>GE</td>\n",
       "      <td>156.0</td>\n",
       "      <td>0.0</td>\n",
       "      <td>0.0</td>\n",
       "      <td>0.0</td>\n",
       "      <td>0.0</td>\n",
       "      <td>0.0</td>\n",
       "      <td>0.0</td>\n",
       "      <td>0.0</td>\n",
       "      <td>https://infocovid.smc.unige.ch/</td>\n",
       "      <td>1.0</td>\n",
       "      <td>0.0</td>\n",
       "      <td>0.0</td>\n",
       "    </tr>\n",
       "    <tr>\n",
       "      <th>4</th>\n",
       "      <td>2020-02-05</td>\n",
       "      <td>00:00</td>\n",
       "      <td>GE</td>\n",
       "      <td>169.0</td>\n",
       "      <td>0.0</td>\n",
       "      <td>0.0</td>\n",
       "      <td>0.0</td>\n",
       "      <td>0.0</td>\n",
       "      <td>0.0</td>\n",
       "      <td>0.0</td>\n",
       "      <td>0.0</td>\n",
       "      <td>https://infocovid.smc.unige.ch/</td>\n",
       "      <td>1.0</td>\n",
       "      <td>0.0</td>\n",
       "      <td>0.0</td>\n",
       "    </tr>\n",
       "  </tbody>\n",
       "</table>\n",
       "</div>"
      ],
      "text/plain": [
       "         date   time abbreviation_canton_and_fl  ncumul_tested  ncumul_conf  \\\n",
       "0  2020-02-01  00:00                         GE          109.0          0.0   \n",
       "1  2020-02-02  00:00                         GE          115.0          0.0   \n",
       "2  2020-02-03  00:00                         GE          136.0          0.0   \n",
       "3  2020-02-04  00:00                         GE          156.0          0.0   \n",
       "4  2020-02-05  00:00                         GE          169.0          0.0   \n",
       "\n",
       "   new_hosp  current_hosp  current_icu  current_vent  ncumul_released  \\\n",
       "0       0.0           0.0          0.0           0.0              0.0   \n",
       "1       0.0           0.0          0.0           0.0              0.0   \n",
       "2       0.0           0.0          0.0           0.0              0.0   \n",
       "3       0.0           0.0          0.0           0.0              0.0   \n",
       "4       0.0           0.0          0.0           0.0              0.0   \n",
       "\n",
       "   ncumul_deceased                           source  current_isolated  \\\n",
       "0              0.0  https://infocovid.smc.unige.ch/               1.0   \n",
       "1              0.0  https://infocovid.smc.unige.ch/               1.0   \n",
       "2              0.0  https://infocovid.smc.unige.ch/               1.0   \n",
       "3              0.0  https://infocovid.smc.unige.ch/               1.0   \n",
       "4              0.0  https://infocovid.smc.unige.ch/               1.0   \n",
       "\n",
       "   current_quarantined  current_quarantined_riskareatravel  \n",
       "0                  0.0                                 0.0  \n",
       "1                  0.0                                 0.0  \n",
       "2                  0.0                                 0.0  \n",
       "3                  0.0                                 0.0  \n",
       "4                  0.0                                 0.0  "
      ]
     },
     "execution_count": 36,
     "metadata": {},
     "output_type": "execute_result"
    }
   ],
   "source": [
    "covid_no_missing.head()"
   ]
  },
  {
   "cell_type": "code",
   "execution_count": 37,
   "metadata": {
    "id": "gzAGHBH2zPWo"
   },
   "outputs": [],
   "source": [
    "covid_date_check_dupl = covid_no_missing[non_time_cols]"
   ]
  },
  {
   "cell_type": "code",
   "execution_count": 38,
   "metadata": {},
   "outputs": [
    {
     "data": {
      "text/html": [
       "<div>\n",
       "<style scoped>\n",
       "    .dataframe tbody tr th:only-of-type {\n",
       "        vertical-align: middle;\n",
       "    }\n",
       "\n",
       "    .dataframe tbody tr th {\n",
       "        vertical-align: top;\n",
       "    }\n",
       "\n",
       "    .dataframe thead th {\n",
       "        text-align: right;\n",
       "    }\n",
       "</style>\n",
       "<table border=\"1\" class=\"dataframe\">\n",
       "  <thead>\n",
       "    <tr style=\"text-align: right;\">\n",
       "      <th></th>\n",
       "      <th>abbreviation_canton_and_fl</th>\n",
       "      <th>ncumul_tested</th>\n",
       "      <th>ncumul_conf</th>\n",
       "      <th>new_hosp</th>\n",
       "      <th>current_hosp</th>\n",
       "      <th>current_icu</th>\n",
       "      <th>current_vent</th>\n",
       "      <th>ncumul_released</th>\n",
       "      <th>ncumul_deceased</th>\n",
       "      <th>source</th>\n",
       "      <th>current_isolated</th>\n",
       "      <th>current_quarantined</th>\n",
       "      <th>current_quarantined_riskareatravel</th>\n",
       "    </tr>\n",
       "  </thead>\n",
       "  <tbody>\n",
       "    <tr>\n",
       "      <th>0</th>\n",
       "      <td>GE</td>\n",
       "      <td>109.0</td>\n",
       "      <td>0.0</td>\n",
       "      <td>0.0</td>\n",
       "      <td>0.0</td>\n",
       "      <td>0.0</td>\n",
       "      <td>0.0</td>\n",
       "      <td>0.0</td>\n",
       "      <td>0.0</td>\n",
       "      <td>https://infocovid.smc.unige.ch/</td>\n",
       "      <td>1.0</td>\n",
       "      <td>0.0</td>\n",
       "      <td>0.0</td>\n",
       "    </tr>\n",
       "    <tr>\n",
       "      <th>1</th>\n",
       "      <td>GE</td>\n",
       "      <td>115.0</td>\n",
       "      <td>0.0</td>\n",
       "      <td>0.0</td>\n",
       "      <td>0.0</td>\n",
       "      <td>0.0</td>\n",
       "      <td>0.0</td>\n",
       "      <td>0.0</td>\n",
       "      <td>0.0</td>\n",
       "      <td>https://infocovid.smc.unige.ch/</td>\n",
       "      <td>1.0</td>\n",
       "      <td>0.0</td>\n",
       "      <td>0.0</td>\n",
       "    </tr>\n",
       "    <tr>\n",
       "      <th>2</th>\n",
       "      <td>GE</td>\n",
       "      <td>136.0</td>\n",
       "      <td>0.0</td>\n",
       "      <td>0.0</td>\n",
       "      <td>0.0</td>\n",
       "      <td>0.0</td>\n",
       "      <td>0.0</td>\n",
       "      <td>0.0</td>\n",
       "      <td>0.0</td>\n",
       "      <td>https://infocovid.smc.unige.ch/</td>\n",
       "      <td>1.0</td>\n",
       "      <td>0.0</td>\n",
       "      <td>0.0</td>\n",
       "    </tr>\n",
       "    <tr>\n",
       "      <th>3</th>\n",
       "      <td>GE</td>\n",
       "      <td>156.0</td>\n",
       "      <td>0.0</td>\n",
       "      <td>0.0</td>\n",
       "      <td>0.0</td>\n",
       "      <td>0.0</td>\n",
       "      <td>0.0</td>\n",
       "      <td>0.0</td>\n",
       "      <td>0.0</td>\n",
       "      <td>https://infocovid.smc.unige.ch/</td>\n",
       "      <td>1.0</td>\n",
       "      <td>0.0</td>\n",
       "      <td>0.0</td>\n",
       "    </tr>\n",
       "    <tr>\n",
       "      <th>4</th>\n",
       "      <td>GE</td>\n",
       "      <td>169.0</td>\n",
       "      <td>0.0</td>\n",
       "      <td>0.0</td>\n",
       "      <td>0.0</td>\n",
       "      <td>0.0</td>\n",
       "      <td>0.0</td>\n",
       "      <td>0.0</td>\n",
       "      <td>0.0</td>\n",
       "      <td>https://infocovid.smc.unige.ch/</td>\n",
       "      <td>1.0</td>\n",
       "      <td>0.0</td>\n",
       "      <td>0.0</td>\n",
       "    </tr>\n",
       "  </tbody>\n",
       "</table>\n",
       "</div>"
      ],
      "text/plain": [
       "  abbreviation_canton_and_fl  ncumul_tested  ncumul_conf  new_hosp  \\\n",
       "0                         GE          109.0          0.0       0.0   \n",
       "1                         GE          115.0          0.0       0.0   \n",
       "2                         GE          136.0          0.0       0.0   \n",
       "3                         GE          156.0          0.0       0.0   \n",
       "4                         GE          169.0          0.0       0.0   \n",
       "\n",
       "   current_hosp  current_icu  current_vent  ncumul_released  ncumul_deceased  \\\n",
       "0           0.0          0.0           0.0              0.0              0.0   \n",
       "1           0.0          0.0           0.0              0.0              0.0   \n",
       "2           0.0          0.0           0.0              0.0              0.0   \n",
       "3           0.0          0.0           0.0              0.0              0.0   \n",
       "4           0.0          0.0           0.0              0.0              0.0   \n",
       "\n",
       "                            source  current_isolated  current_quarantined  \\\n",
       "0  https://infocovid.smc.unige.ch/               1.0                  0.0   \n",
       "1  https://infocovid.smc.unige.ch/               1.0                  0.0   \n",
       "2  https://infocovid.smc.unige.ch/               1.0                  0.0   \n",
       "3  https://infocovid.smc.unige.ch/               1.0                  0.0   \n",
       "4  https://infocovid.smc.unige.ch/               1.0                  0.0   \n",
       "\n",
       "   current_quarantined_riskareatravel  \n",
       "0                                 0.0  \n",
       "1                                 0.0  \n",
       "2                                 0.0  \n",
       "3                                 0.0  \n",
       "4                                 0.0  "
      ]
     },
     "execution_count": 38,
     "metadata": {},
     "output_type": "execute_result"
    }
   ],
   "source": [
    "covid_date_check_dupl.head()"
   ]
  },
  {
   "cell_type": "code",
   "execution_count": 39,
   "metadata": {},
   "outputs": [
    {
     "data": {
      "text/plain": [
       "0        False\n",
       "1        False\n",
       "2        False\n",
       "3        False\n",
       "4        False\n",
       "         ...  \n",
       "24036    False\n",
       "24037    False\n",
       "24038    False\n",
       "24039    False\n",
       "24040    False\n",
       "Length: 24041, dtype: bool"
      ]
     },
     "execution_count": 39,
     "metadata": {},
     "output_type": "execute_result"
    }
   ],
   "source": [
    "covid_date_check_dupl.duplicated()"
   ]
  },
  {
   "cell_type": "code",
   "execution_count": 40,
   "metadata": {},
   "outputs": [
    {
     "data": {
      "text/plain": [
       "1213"
      ]
     },
     "execution_count": 40,
     "metadata": {},
     "output_type": "execute_result"
    }
   ],
   "source": [
    "covid_date_check_dupl.duplicated().sum()"
   ]
  },
  {
   "cell_type": "code",
   "execution_count": 41,
   "metadata": {},
   "outputs": [
    {
     "data": {
      "text/plain": [
       "1213"
      ]
     },
     "execution_count": 41,
     "metadata": {},
     "output_type": "execute_result"
    }
   ],
   "source": [
    "covid_data.duplicated(subset=non_time_cols).sum() # das ist natürlich eleganter, aber mein Resultat stimmt auch..."
   ]
  },
  {
   "cell_type": "markdown",
   "metadata": {
    "id": "5x6S2E67e6Ni"
   },
   "source": [
    "<mark>In **MOODLE**</mark>:\n",
    "* upload the number of exact duplicates considering only non-time columns"
   ]
  },
  {
   "cell_type": "markdown",
   "metadata": {
    "id": "aY_o5c2VZNr-"
   },
   "source": [
    "There is a good chance that the duplicates are a result of our missing value imputation approach.\n",
    "\n",
    "Here it does not seem like a good idea to drop any rows as those rows that have identical entries except date and time are not a-priori problematic.\n"
   ]
  },
  {
   "cell_type": "markdown",
   "metadata": {
    "id": "V1GVriCx1euq"
   },
   "source": [
    "Nevertheless, it is good to know how to remove duplicate rows for future reference.\n",
    "\n",
    "We can do so using the `.drop_duplicates()` method, which will drop those rows that `.duplicated()` indicates as duplicates:\n",
    "\n",
    "Don't worry about running the next cell, it will return a new dataframe with rows dropped but will not change your current version of `covid_data`."
   ]
  },
  {
   "cell_type": "code",
   "execution_count": 42,
   "metadata": {
    "id": "9VLn8Vx4ZMvc"
   },
   "outputs": [
    {
     "data": {
      "text/html": [
       "<div>\n",
       "<style scoped>\n",
       "    .dataframe tbody tr th:only-of-type {\n",
       "        vertical-align: middle;\n",
       "    }\n",
       "\n",
       "    .dataframe tbody tr th {\n",
       "        vertical-align: top;\n",
       "    }\n",
       "\n",
       "    .dataframe thead th {\n",
       "        text-align: right;\n",
       "    }\n",
       "</style>\n",
       "<table border=\"1\" class=\"dataframe\">\n",
       "  <thead>\n",
       "    <tr style=\"text-align: right;\">\n",
       "      <th></th>\n",
       "      <th>date</th>\n",
       "      <th>time</th>\n",
       "      <th>abbreviation_canton_and_fl</th>\n",
       "      <th>ncumul_tested</th>\n",
       "      <th>ncumul_conf</th>\n",
       "      <th>new_hosp</th>\n",
       "      <th>current_hosp</th>\n",
       "      <th>current_icu</th>\n",
       "      <th>current_vent</th>\n",
       "      <th>ncumul_released</th>\n",
       "      <th>ncumul_deceased</th>\n",
       "      <th>source</th>\n",
       "      <th>current_isolated</th>\n",
       "      <th>current_quarantined</th>\n",
       "      <th>current_quarantined_riskareatravel</th>\n",
       "    </tr>\n",
       "  </thead>\n",
       "  <tbody>\n",
       "    <tr>\n",
       "      <th>0</th>\n",
       "      <td>2020-02-01</td>\n",
       "      <td>00:00</td>\n",
       "      <td>GE</td>\n",
       "      <td>109.0</td>\n",
       "      <td>0.0</td>\n",
       "      <td>0.0</td>\n",
       "      <td>0.0</td>\n",
       "      <td>0.0</td>\n",
       "      <td>0.0</td>\n",
       "      <td>0.0</td>\n",
       "      <td>0.0</td>\n",
       "      <td>https://infocovid.smc.unige.ch/</td>\n",
       "      <td>1.0</td>\n",
       "      <td>0.0</td>\n",
       "      <td>0.0</td>\n",
       "    </tr>\n",
       "    <tr>\n",
       "      <th>1</th>\n",
       "      <td>2020-02-02</td>\n",
       "      <td>00:00</td>\n",
       "      <td>GE</td>\n",
       "      <td>115.0</td>\n",
       "      <td>0.0</td>\n",
       "      <td>0.0</td>\n",
       "      <td>0.0</td>\n",
       "      <td>0.0</td>\n",
       "      <td>0.0</td>\n",
       "      <td>0.0</td>\n",
       "      <td>0.0</td>\n",
       "      <td>https://infocovid.smc.unige.ch/</td>\n",
       "      <td>1.0</td>\n",
       "      <td>0.0</td>\n",
       "      <td>0.0</td>\n",
       "    </tr>\n",
       "    <tr>\n",
       "      <th>2</th>\n",
       "      <td>2020-02-03</td>\n",
       "      <td>00:00</td>\n",
       "      <td>GE</td>\n",
       "      <td>136.0</td>\n",
       "      <td>0.0</td>\n",
       "      <td>0.0</td>\n",
       "      <td>0.0</td>\n",
       "      <td>0.0</td>\n",
       "      <td>0.0</td>\n",
       "      <td>0.0</td>\n",
       "      <td>0.0</td>\n",
       "      <td>https://infocovid.smc.unige.ch/</td>\n",
       "      <td>1.0</td>\n",
       "      <td>0.0</td>\n",
       "      <td>0.0</td>\n",
       "    </tr>\n",
       "    <tr>\n",
       "      <th>3</th>\n",
       "      <td>2020-02-04</td>\n",
       "      <td>00:00</td>\n",
       "      <td>GE</td>\n",
       "      <td>156.0</td>\n",
       "      <td>0.0</td>\n",
       "      <td>0.0</td>\n",
       "      <td>0.0</td>\n",
       "      <td>0.0</td>\n",
       "      <td>0.0</td>\n",
       "      <td>0.0</td>\n",
       "      <td>0.0</td>\n",
       "      <td>https://infocovid.smc.unige.ch/</td>\n",
       "      <td>1.0</td>\n",
       "      <td>0.0</td>\n",
       "      <td>0.0</td>\n",
       "    </tr>\n",
       "    <tr>\n",
       "      <th>4</th>\n",
       "      <td>2020-02-05</td>\n",
       "      <td>00:00</td>\n",
       "      <td>GE</td>\n",
       "      <td>169.0</td>\n",
       "      <td>0.0</td>\n",
       "      <td>0.0</td>\n",
       "      <td>0.0</td>\n",
       "      <td>0.0</td>\n",
       "      <td>0.0</td>\n",
       "      <td>0.0</td>\n",
       "      <td>0.0</td>\n",
       "      <td>https://infocovid.smc.unige.ch/</td>\n",
       "      <td>1.0</td>\n",
       "      <td>0.0</td>\n",
       "      <td>0.0</td>\n",
       "    </tr>\n",
       "    <tr>\n",
       "      <th>...</th>\n",
       "      <td>...</td>\n",
       "      <td>...</td>\n",
       "      <td>...</td>\n",
       "      <td>...</td>\n",
       "      <td>...</td>\n",
       "      <td>...</td>\n",
       "      <td>...</td>\n",
       "      <td>...</td>\n",
       "      <td>...</td>\n",
       "      <td>...</td>\n",
       "      <td>...</td>\n",
       "      <td>...</td>\n",
       "      <td>...</td>\n",
       "      <td>...</td>\n",
       "      <td>...</td>\n",
       "    </tr>\n",
       "    <tr>\n",
       "      <th>24036</th>\n",
       "      <td>2023-09-10</td>\n",
       "      <td>00:00</td>\n",
       "      <td>NE</td>\n",
       "      <td>0.0</td>\n",
       "      <td>92697.0</td>\n",
       "      <td>0.0</td>\n",
       "      <td>4.0</td>\n",
       "      <td>1.0</td>\n",
       "      <td>0.0</td>\n",
       "      <td>0.0</td>\n",
       "      <td>496.0</td>\n",
       "      <td>https://www.ne.ch/autorites/DFS/SCSP/medecin-c...</td>\n",
       "      <td>0.0</td>\n",
       "      <td>0.0</td>\n",
       "      <td>0.0</td>\n",
       "    </tr>\n",
       "    <tr>\n",
       "      <th>24037</th>\n",
       "      <td>2023-09-10</td>\n",
       "      <td>00:00</td>\n",
       "      <td>GE</td>\n",
       "      <td>187408.0</td>\n",
       "      <td>251154.0</td>\n",
       "      <td>0.0</td>\n",
       "      <td>60.0</td>\n",
       "      <td>1.0</td>\n",
       "      <td>1.0</td>\n",
       "      <td>973.0</td>\n",
       "      <td>959.0</td>\n",
       "      <td>https://infocovid.smc.unige.ch/</td>\n",
       "      <td>1816.0</td>\n",
       "      <td>0.0</td>\n",
       "      <td>0.0</td>\n",
       "    </tr>\n",
       "    <tr>\n",
       "      <th>24038</th>\n",
       "      <td>2023-09-11</td>\n",
       "      <td>00:00</td>\n",
       "      <td>NE</td>\n",
       "      <td>0.0</td>\n",
       "      <td>92700.0</td>\n",
       "      <td>0.0</td>\n",
       "      <td>9.0</td>\n",
       "      <td>1.0</td>\n",
       "      <td>0.0</td>\n",
       "      <td>0.0</td>\n",
       "      <td>496.0</td>\n",
       "      <td>https://www.ne.ch/autorites/DFS/SCSP/medecin-c...</td>\n",
       "      <td>0.0</td>\n",
       "      <td>0.0</td>\n",
       "      <td>0.0</td>\n",
       "    </tr>\n",
       "    <tr>\n",
       "      <th>24039</th>\n",
       "      <td>2023-09-11</td>\n",
       "      <td>00:00</td>\n",
       "      <td>GE</td>\n",
       "      <td>187408.0</td>\n",
       "      <td>251162.0</td>\n",
       "      <td>0.0</td>\n",
       "      <td>66.0</td>\n",
       "      <td>1.0</td>\n",
       "      <td>1.0</td>\n",
       "      <td>973.0</td>\n",
       "      <td>959.0</td>\n",
       "      <td>https://infocovid.smc.unige.ch/</td>\n",
       "      <td>1816.0</td>\n",
       "      <td>0.0</td>\n",
       "      <td>0.0</td>\n",
       "    </tr>\n",
       "    <tr>\n",
       "      <th>24040</th>\n",
       "      <td>2023-09-12</td>\n",
       "      <td>00:00</td>\n",
       "      <td>GE</td>\n",
       "      <td>187408.0</td>\n",
       "      <td>251178.0</td>\n",
       "      <td>0.0</td>\n",
       "      <td>60.0</td>\n",
       "      <td>1.0</td>\n",
       "      <td>1.0</td>\n",
       "      <td>973.0</td>\n",
       "      <td>959.0</td>\n",
       "      <td>https://infocovid.smc.unige.ch/</td>\n",
       "      <td>1816.0</td>\n",
       "      <td>0.0</td>\n",
       "      <td>0.0</td>\n",
       "    </tr>\n",
       "  </tbody>\n",
       "</table>\n",
       "<p>22828 rows × 15 columns</p>\n",
       "</div>"
      ],
      "text/plain": [
       "             date   time abbreviation_canton_and_fl  ncumul_tested  \\\n",
       "0      2020-02-01  00:00                         GE          109.0   \n",
       "1      2020-02-02  00:00                         GE          115.0   \n",
       "2      2020-02-03  00:00                         GE          136.0   \n",
       "3      2020-02-04  00:00                         GE          156.0   \n",
       "4      2020-02-05  00:00                         GE          169.0   \n",
       "...           ...    ...                        ...            ...   \n",
       "24036  2023-09-10  00:00                         NE            0.0   \n",
       "24037  2023-09-10  00:00                         GE       187408.0   \n",
       "24038  2023-09-11  00:00                         NE            0.0   \n",
       "24039  2023-09-11  00:00                         GE       187408.0   \n",
       "24040  2023-09-12  00:00                         GE       187408.0   \n",
       "\n",
       "       ncumul_conf  new_hosp  current_hosp  current_icu  current_vent  \\\n",
       "0              0.0       0.0           0.0          0.0           0.0   \n",
       "1              0.0       0.0           0.0          0.0           0.0   \n",
       "2              0.0       0.0           0.0          0.0           0.0   \n",
       "3              0.0       0.0           0.0          0.0           0.0   \n",
       "4              0.0       0.0           0.0          0.0           0.0   \n",
       "...            ...       ...           ...          ...           ...   \n",
       "24036      92697.0       0.0           4.0          1.0           0.0   \n",
       "24037     251154.0       0.0          60.0          1.0           1.0   \n",
       "24038      92700.0       0.0           9.0          1.0           0.0   \n",
       "24039     251162.0       0.0          66.0          1.0           1.0   \n",
       "24040     251178.0       0.0          60.0          1.0           1.0   \n",
       "\n",
       "       ncumul_released  ncumul_deceased  \\\n",
       "0                  0.0              0.0   \n",
       "1                  0.0              0.0   \n",
       "2                  0.0              0.0   \n",
       "3                  0.0              0.0   \n",
       "4                  0.0              0.0   \n",
       "...                ...              ...   \n",
       "24036              0.0            496.0   \n",
       "24037            973.0            959.0   \n",
       "24038              0.0            496.0   \n",
       "24039            973.0            959.0   \n",
       "24040            973.0            959.0   \n",
       "\n",
       "                                                  source  current_isolated  \\\n",
       "0                        https://infocovid.smc.unige.ch/               1.0   \n",
       "1                        https://infocovid.smc.unige.ch/               1.0   \n",
       "2                        https://infocovid.smc.unige.ch/               1.0   \n",
       "3                        https://infocovid.smc.unige.ch/               1.0   \n",
       "4                        https://infocovid.smc.unige.ch/               1.0   \n",
       "...                                                  ...               ...   \n",
       "24036  https://www.ne.ch/autorites/DFS/SCSP/medecin-c...               0.0   \n",
       "24037                    https://infocovid.smc.unige.ch/            1816.0   \n",
       "24038  https://www.ne.ch/autorites/DFS/SCSP/medecin-c...               0.0   \n",
       "24039                    https://infocovid.smc.unige.ch/            1816.0   \n",
       "24040                    https://infocovid.smc.unige.ch/            1816.0   \n",
       "\n",
       "       current_quarantined  current_quarantined_riskareatravel  \n",
       "0                      0.0                                 0.0  \n",
       "1                      0.0                                 0.0  \n",
       "2                      0.0                                 0.0  \n",
       "3                      0.0                                 0.0  \n",
       "4                      0.0                                 0.0  \n",
       "...                    ...                                 ...  \n",
       "24036                  0.0                                 0.0  \n",
       "24037                  0.0                                 0.0  \n",
       "24038                  0.0                                 0.0  \n",
       "24039                  0.0                                 0.0  \n",
       "24040                  0.0                                 0.0  \n",
       "\n",
       "[22828 rows x 15 columns]"
      ]
     },
     "execution_count": 42,
     "metadata": {},
     "output_type": "execute_result"
    }
   ],
   "source": [
    "covid_data.drop_duplicates(subset=non_time_cols)"
   ]
  },
  {
   "cell_type": "markdown",
   "metadata": {
    "id": "13otm6KSa-qz"
   },
   "source": [
    "## Cleaning up the 'source' Column"
   ]
  },
  {
   "cell_type": "markdown",
   "metadata": {
    "id": "CFgZqf-ScElX"
   },
   "source": [
    "Looking at the values in the `source` column, we can see that they correspond to URLs. Many of these belong to the same domain and only vary in their parameters."
   ]
  },
  {
   "cell_type": "markdown",
   "metadata": {
    "id": "Qz6ozYz-2ASg"
   },
   "source": [
    "🚨 **TASK 1C (1 Point)** 🚨\n",
    "\n",
    "* inspect the unique values in the `source` column\n",
    "* count the unique values in the `source` column"
   ]
  },
  {
   "cell_type": "code",
   "execution_count": 43,
   "metadata": {
    "id": "rObuK96IbERA",
    "scrolled": false
   },
   "outputs": [
    {
     "data": {
      "text/plain": [
       "count                               24041\n",
       "unique                                340\n",
       "top       https://infocovid.smc.unige.ch/\n",
       "freq                                 1320\n",
       "Name: source, dtype: object"
      ]
     },
     "execution_count": 43,
     "metadata": {},
     "output_type": "execute_result"
    }
   ],
   "source": [
    "# Hint: we have already done this for different column earlier\n",
    "# covid_data['source'].unique()\n",
    "# sorted(covid_data['source'].unique())\n",
    "# covid_data.describe(include='all')\n",
    "covid_data['source'].describe()"
   ]
  },
  {
   "cell_type": "code",
   "execution_count": 44,
   "metadata": {
    "id": "X37DH_BOf56R"
   },
   "outputs": [
    {
     "data": {
      "text/plain": [
       "340"
      ]
     },
     "execution_count": 44,
     "metadata": {},
     "output_type": "execute_result"
    }
   ],
   "source": [
    "# the `.unique` method returns a numpy array, you can use the built-in `len` function to check its length\n",
    "len(covid_data['source'].unique())"
   ]
  },
  {
   "cell_type": "markdown",
   "metadata": {
    "id": "r8lBYndpgBUD"
   },
   "source": [
    "<mark>In **MOODLE**</mark>:\n",
    "* report the number of unique values in the `source` column."
   ]
  },
  {
   "cell_type": "markdown",
   "metadata": {
    "id": "5I-kcGHccbVN"
   },
   "source": [
    "Let us try making this data more digestable by extracting the domain information."
   ]
  },
  {
   "cell_type": "markdown",
   "metadata": {
    "id": "WKLedFgLclAw"
   },
   "source": [
    "For this we will use the following helper function:"
   ]
  },
  {
   "cell_type": "code",
   "execution_count": 45,
   "metadata": {
    "id": "STSpySHsbola"
   },
   "outputs": [
    {
     "name": "stdout",
     "output_type": "stream",
     "text": [
      "www.baselland.ch\n"
     ]
    }
   ],
   "source": [
    "from urllib.parse import urlparse\n",
    "def extract_netloc(url):\n",
    "  return urlparse(url).netloc\n",
    "\n",
    "# lets try it out\n",
    "url = 'https://www.baselland.ch/politik-und-behorden/direktionen/volkswirtschafts-und-gesundheitsdirektion/amt-fur-gesundheit/medizinische-dienste/kantonsarztlicher-dienst/aktuelles/covid-19-faelle-kanton-basel-landschaft'\n",
    "print(extract_netloc(url))"
   ]
  },
  {
   "cell_type": "markdown",
   "metadata": {
    "id": "StEIho00dDML"
   },
   "source": [
    "We can apply this function to the `source` column to replace it with a cleaned version:"
   ]
  },
  {
   "cell_type": "code",
   "execution_count": 46,
   "metadata": {
    "id": "_d_ebNb_dMfv"
   },
   "outputs": [
    {
     "data": {
      "text/html": [
       "<div>\n",
       "<style scoped>\n",
       "    .dataframe tbody tr th:only-of-type {\n",
       "        vertical-align: middle;\n",
       "    }\n",
       "\n",
       "    .dataframe tbody tr th {\n",
       "        vertical-align: top;\n",
       "    }\n",
       "\n",
       "    .dataframe thead th {\n",
       "        text-align: right;\n",
       "    }\n",
       "</style>\n",
       "<table border=\"1\" class=\"dataframe\">\n",
       "  <thead>\n",
       "    <tr style=\"text-align: right;\">\n",
       "      <th></th>\n",
       "      <th>date</th>\n",
       "      <th>time</th>\n",
       "      <th>abbreviation_canton_and_fl</th>\n",
       "      <th>ncumul_tested</th>\n",
       "      <th>ncumul_conf</th>\n",
       "      <th>new_hosp</th>\n",
       "      <th>current_hosp</th>\n",
       "      <th>current_icu</th>\n",
       "      <th>current_vent</th>\n",
       "      <th>ncumul_released</th>\n",
       "      <th>ncumul_deceased</th>\n",
       "      <th>source</th>\n",
       "      <th>current_isolated</th>\n",
       "      <th>current_quarantined</th>\n",
       "      <th>current_quarantined_riskareatravel</th>\n",
       "    </tr>\n",
       "  </thead>\n",
       "  <tbody>\n",
       "    <tr>\n",
       "      <th>0</th>\n",
       "      <td>2020-02-01</td>\n",
       "      <td>00:00</td>\n",
       "      <td>GE</td>\n",
       "      <td>109.0</td>\n",
       "      <td>0.0</td>\n",
       "      <td>0.0</td>\n",
       "      <td>0.0</td>\n",
       "      <td>0.0</td>\n",
       "      <td>0.0</td>\n",
       "      <td>0.0</td>\n",
       "      <td>0.0</td>\n",
       "      <td>infocovid.smc.unige.ch</td>\n",
       "      <td>1.0</td>\n",
       "      <td>0.0</td>\n",
       "      <td>0.0</td>\n",
       "    </tr>\n",
       "    <tr>\n",
       "      <th>1</th>\n",
       "      <td>2020-02-02</td>\n",
       "      <td>00:00</td>\n",
       "      <td>GE</td>\n",
       "      <td>115.0</td>\n",
       "      <td>0.0</td>\n",
       "      <td>0.0</td>\n",
       "      <td>0.0</td>\n",
       "      <td>0.0</td>\n",
       "      <td>0.0</td>\n",
       "      <td>0.0</td>\n",
       "      <td>0.0</td>\n",
       "      <td>infocovid.smc.unige.ch</td>\n",
       "      <td>1.0</td>\n",
       "      <td>0.0</td>\n",
       "      <td>0.0</td>\n",
       "    </tr>\n",
       "    <tr>\n",
       "      <th>2</th>\n",
       "      <td>2020-02-03</td>\n",
       "      <td>00:00</td>\n",
       "      <td>GE</td>\n",
       "      <td>136.0</td>\n",
       "      <td>0.0</td>\n",
       "      <td>0.0</td>\n",
       "      <td>0.0</td>\n",
       "      <td>0.0</td>\n",
       "      <td>0.0</td>\n",
       "      <td>0.0</td>\n",
       "      <td>0.0</td>\n",
       "      <td>infocovid.smc.unige.ch</td>\n",
       "      <td>1.0</td>\n",
       "      <td>0.0</td>\n",
       "      <td>0.0</td>\n",
       "    </tr>\n",
       "    <tr>\n",
       "      <th>3</th>\n",
       "      <td>2020-02-04</td>\n",
       "      <td>00:00</td>\n",
       "      <td>GE</td>\n",
       "      <td>156.0</td>\n",
       "      <td>0.0</td>\n",
       "      <td>0.0</td>\n",
       "      <td>0.0</td>\n",
       "      <td>0.0</td>\n",
       "      <td>0.0</td>\n",
       "      <td>0.0</td>\n",
       "      <td>0.0</td>\n",
       "      <td>infocovid.smc.unige.ch</td>\n",
       "      <td>1.0</td>\n",
       "      <td>0.0</td>\n",
       "      <td>0.0</td>\n",
       "    </tr>\n",
       "    <tr>\n",
       "      <th>4</th>\n",
       "      <td>2020-02-05</td>\n",
       "      <td>00:00</td>\n",
       "      <td>GE</td>\n",
       "      <td>169.0</td>\n",
       "      <td>0.0</td>\n",
       "      <td>0.0</td>\n",
       "      <td>0.0</td>\n",
       "      <td>0.0</td>\n",
       "      <td>0.0</td>\n",
       "      <td>0.0</td>\n",
       "      <td>0.0</td>\n",
       "      <td>infocovid.smc.unige.ch</td>\n",
       "      <td>1.0</td>\n",
       "      <td>0.0</td>\n",
       "      <td>0.0</td>\n",
       "    </tr>\n",
       "    <tr>\n",
       "      <th>...</th>\n",
       "      <td>...</td>\n",
       "      <td>...</td>\n",
       "      <td>...</td>\n",
       "      <td>...</td>\n",
       "      <td>...</td>\n",
       "      <td>...</td>\n",
       "      <td>...</td>\n",
       "      <td>...</td>\n",
       "      <td>...</td>\n",
       "      <td>...</td>\n",
       "      <td>...</td>\n",
       "      <td>...</td>\n",
       "      <td>...</td>\n",
       "      <td>...</td>\n",
       "      <td>...</td>\n",
       "    </tr>\n",
       "    <tr>\n",
       "      <th>24036</th>\n",
       "      <td>2023-09-10</td>\n",
       "      <td>00:00</td>\n",
       "      <td>NE</td>\n",
       "      <td>0.0</td>\n",
       "      <td>92697.0</td>\n",
       "      <td>0.0</td>\n",
       "      <td>4.0</td>\n",
       "      <td>1.0</td>\n",
       "      <td>0.0</td>\n",
       "      <td>0.0</td>\n",
       "      <td>496.0</td>\n",
       "      <td>www.ne.ch</td>\n",
       "      <td>0.0</td>\n",
       "      <td>0.0</td>\n",
       "      <td>0.0</td>\n",
       "    </tr>\n",
       "    <tr>\n",
       "      <th>24037</th>\n",
       "      <td>2023-09-10</td>\n",
       "      <td>00:00</td>\n",
       "      <td>GE</td>\n",
       "      <td>187408.0</td>\n",
       "      <td>251154.0</td>\n",
       "      <td>0.0</td>\n",
       "      <td>60.0</td>\n",
       "      <td>1.0</td>\n",
       "      <td>1.0</td>\n",
       "      <td>973.0</td>\n",
       "      <td>959.0</td>\n",
       "      <td>infocovid.smc.unige.ch</td>\n",
       "      <td>1816.0</td>\n",
       "      <td>0.0</td>\n",
       "      <td>0.0</td>\n",
       "    </tr>\n",
       "    <tr>\n",
       "      <th>24038</th>\n",
       "      <td>2023-09-11</td>\n",
       "      <td>00:00</td>\n",
       "      <td>NE</td>\n",
       "      <td>0.0</td>\n",
       "      <td>92700.0</td>\n",
       "      <td>0.0</td>\n",
       "      <td>9.0</td>\n",
       "      <td>1.0</td>\n",
       "      <td>0.0</td>\n",
       "      <td>0.0</td>\n",
       "      <td>496.0</td>\n",
       "      <td>www.ne.ch</td>\n",
       "      <td>0.0</td>\n",
       "      <td>0.0</td>\n",
       "      <td>0.0</td>\n",
       "    </tr>\n",
       "    <tr>\n",
       "      <th>24039</th>\n",
       "      <td>2023-09-11</td>\n",
       "      <td>00:00</td>\n",
       "      <td>GE</td>\n",
       "      <td>187408.0</td>\n",
       "      <td>251162.0</td>\n",
       "      <td>0.0</td>\n",
       "      <td>66.0</td>\n",
       "      <td>1.0</td>\n",
       "      <td>1.0</td>\n",
       "      <td>973.0</td>\n",
       "      <td>959.0</td>\n",
       "      <td>infocovid.smc.unige.ch</td>\n",
       "      <td>1816.0</td>\n",
       "      <td>0.0</td>\n",
       "      <td>0.0</td>\n",
       "    </tr>\n",
       "    <tr>\n",
       "      <th>24040</th>\n",
       "      <td>2023-09-12</td>\n",
       "      <td>00:00</td>\n",
       "      <td>GE</td>\n",
       "      <td>187408.0</td>\n",
       "      <td>251178.0</td>\n",
       "      <td>0.0</td>\n",
       "      <td>60.0</td>\n",
       "      <td>1.0</td>\n",
       "      <td>1.0</td>\n",
       "      <td>973.0</td>\n",
       "      <td>959.0</td>\n",
       "      <td>infocovid.smc.unige.ch</td>\n",
       "      <td>1816.0</td>\n",
       "      <td>0.0</td>\n",
       "      <td>0.0</td>\n",
       "    </tr>\n",
       "  </tbody>\n",
       "</table>\n",
       "<p>24041 rows × 15 columns</p>\n",
       "</div>"
      ],
      "text/plain": [
       "             date   time abbreviation_canton_and_fl  ncumul_tested  \\\n",
       "0      2020-02-01  00:00                         GE          109.0   \n",
       "1      2020-02-02  00:00                         GE          115.0   \n",
       "2      2020-02-03  00:00                         GE          136.0   \n",
       "3      2020-02-04  00:00                         GE          156.0   \n",
       "4      2020-02-05  00:00                         GE          169.0   \n",
       "...           ...    ...                        ...            ...   \n",
       "24036  2023-09-10  00:00                         NE            0.0   \n",
       "24037  2023-09-10  00:00                         GE       187408.0   \n",
       "24038  2023-09-11  00:00                         NE            0.0   \n",
       "24039  2023-09-11  00:00                         GE       187408.0   \n",
       "24040  2023-09-12  00:00                         GE       187408.0   \n",
       "\n",
       "       ncumul_conf  new_hosp  current_hosp  current_icu  current_vent  \\\n",
       "0              0.0       0.0           0.0          0.0           0.0   \n",
       "1              0.0       0.0           0.0          0.0           0.0   \n",
       "2              0.0       0.0           0.0          0.0           0.0   \n",
       "3              0.0       0.0           0.0          0.0           0.0   \n",
       "4              0.0       0.0           0.0          0.0           0.0   \n",
       "...            ...       ...           ...          ...           ...   \n",
       "24036      92697.0       0.0           4.0          1.0           0.0   \n",
       "24037     251154.0       0.0          60.0          1.0           1.0   \n",
       "24038      92700.0       0.0           9.0          1.0           0.0   \n",
       "24039     251162.0       0.0          66.0          1.0           1.0   \n",
       "24040     251178.0       0.0          60.0          1.0           1.0   \n",
       "\n",
       "       ncumul_released  ncumul_deceased                  source  \\\n",
       "0                  0.0              0.0  infocovid.smc.unige.ch   \n",
       "1                  0.0              0.0  infocovid.smc.unige.ch   \n",
       "2                  0.0              0.0  infocovid.smc.unige.ch   \n",
       "3                  0.0              0.0  infocovid.smc.unige.ch   \n",
       "4                  0.0              0.0  infocovid.smc.unige.ch   \n",
       "...                ...              ...                     ...   \n",
       "24036              0.0            496.0               www.ne.ch   \n",
       "24037            973.0            959.0  infocovid.smc.unige.ch   \n",
       "24038              0.0            496.0               www.ne.ch   \n",
       "24039            973.0            959.0  infocovid.smc.unige.ch   \n",
       "24040            973.0            959.0  infocovid.smc.unige.ch   \n",
       "\n",
       "       current_isolated  current_quarantined  \\\n",
       "0                   1.0                  0.0   \n",
       "1                   1.0                  0.0   \n",
       "2                   1.0                  0.0   \n",
       "3                   1.0                  0.0   \n",
       "4                   1.0                  0.0   \n",
       "...                 ...                  ...   \n",
       "24036               0.0                  0.0   \n",
       "24037            1816.0                  0.0   \n",
       "24038               0.0                  0.0   \n",
       "24039            1816.0                  0.0   \n",
       "24040            1816.0                  0.0   \n",
       "\n",
       "       current_quarantined_riskareatravel  \n",
       "0                                     0.0  \n",
       "1                                     0.0  \n",
       "2                                     0.0  \n",
       "3                                     0.0  \n",
       "4                                     0.0  \n",
       "...                                   ...  \n",
       "24036                                 0.0  \n",
       "24037                                 0.0  \n",
       "24038                                 0.0  \n",
       "24039                                 0.0  \n",
       "24040                                 0.0  \n",
       "\n",
       "[24041 rows x 15 columns]"
      ]
     },
     "execution_count": 46,
     "metadata": {},
     "output_type": "execute_result"
    }
   ],
   "source": [
    "covid_data['source'] = covid_data['source'].apply(extract_netloc)\n",
    "covid_data"
   ]
  },
  {
   "cell_type": "code",
   "execution_count": 47,
   "metadata": {
    "id": "Z5wWKyoTdWTu"
   },
   "outputs": [
    {
     "data": {
      "text/plain": [
       "['',\n",
       " 'corona.so.ch',\n",
       " 'covid-kennzahlen.apps.be.ch',\n",
       " 'coviddashboard.sh.ch',\n",
       " 'docs.google.com',\n",
       " 'infocovid.smc.unige.ch',\n",
       " 'services1.arcgis.com',\n",
       " 'so.ch',\n",
       " 'twitter.com',\n",
       " 'www.ag.ch',\n",
       " 'www.ai.ch',\n",
       " 'www.ar.ch',\n",
       " 'www.baselland.ch',\n",
       " 'www.be.ch',\n",
       " 'www.besondere-lage.sites.be.ch',\n",
       " 'www.coronavirus.bs.ch',\n",
       " 'www.fr.ch',\n",
       " 'www.gd.bs.ch',\n",
       " 'www.gesundheit.bs.ch',\n",
       " 'www.gesundheit.bs.ch https:',\n",
       " 'www.gl.ch',\n",
       " 'www.infosan.vd.ch',\n",
       " 'www.jura.ch',\n",
       " 'www.llv.li',\n",
       " 'www.lustat.ch',\n",
       " 'www.ne.ch',\n",
       " 'www.nw.ch',\n",
       " 'www.ow.ch',\n",
       " 'www.regierung.li',\n",
       " 'www.sg.ch',\n",
       " 'www.sz.ch',\n",
       " 'www.tg.ch',\n",
       " 'www.ur.ch',\n",
       " 'www.vd.ch',\n",
       " 'www.vs.ch',\n",
       " 'www.zg.ch',\n",
       " 'www.zh.ch',\n",
       " 'www4.ti.ch']"
      ]
     },
     "execution_count": 47,
     "metadata": {},
     "output_type": "execute_result"
    }
   ],
   "source": [
    "sorted(covid_data['source'].unique())"
   ]
  },
  {
   "cell_type": "markdown",
   "metadata": {
    "id": "uvDFj1wvdixT"
   },
   "source": [
    "The `.apply` method applies the function passed as an argument to each element."
   ]
  },
  {
   "cell_type": "markdown",
   "metadata": {
    "id": "d0lrMNeznX79"
   },
   "source": [
    "Let's now save the final cleaned dataset:"
   ]
  },
  {
   "cell_type": "code",
   "execution_count": 48,
   "metadata": {
    "id": "B09BiPKeneYY"
   },
   "outputs": [],
   "source": [
    "covid_data.to_csv('swiss_covid_data_clean.csv')\n",
    "covid_data_cleaned = covid_data # backup"
   ]
  },
  {
   "cell_type": "markdown",
   "metadata": {
    "id": "kx8EHnlQrdzJ"
   },
   "source": [
    "At this point, we consider the data cleaning process done.\n",
    "\n",
    "ℹ️ **In the next cell, we will download a reference version of the cleaned data that you can use, if you did not manage to implement part of the process so far.**"
   ]
  },
  {
   "cell_type": "code",
   "execution_count": 49,
   "metadata": {
    "id": "qBDb86h2ryxQ"
   },
   "outputs": [
    {
     "ename": "HTTPError",
     "evalue": "HTTP Error 404: Not Found",
     "output_type": "error",
     "traceback": [
      "\u001b[0;31m---------------------------------------------------------------------------\u001b[0m",
      "\u001b[0;31mHTTPError\u001b[0m                                 Traceback (most recent call last)",
      "Cell \u001b[0;32mIn[49], line 11\u001b[0m\n\u001b[1;32m      9\u001b[0m \u001b[38;5;28;01mimport\u001b[39;00m \u001b[38;5;21;01mwget\u001b[39;00m\n\u001b[1;32m     10\u001b[0m URL \u001b[38;5;241m=\u001b[39m \u001b[38;5;124m\"\u001b[39m\u001b[38;5;124mhttps://raw.githubusercontent.com/vodezhaw/mldm_hs23/main/resources/lab01_clean_data.csv -O lab01_clean_data.csv\u001b[39m\u001b[38;5;124m\"\u001b[39m\n\u001b[0;32m---> 11\u001b[0m response \u001b[38;5;241m=\u001b[39m wget\u001b[38;5;241m.\u001b[39mdownload(URL)\n\u001b[1;32m     12\u001b[0m \u001b[38;5;28mopen\u001b[39m(\u001b[38;5;124m\"\u001b[39m\u001b[38;5;124minstagram.ico\u001b[39m\u001b[38;5;124m\"\u001b[39m, \u001b[38;5;124m\"\u001b[39m\u001b[38;5;124mwb\u001b[39m\u001b[38;5;124m\"\u001b[39m)\u001b[38;5;241m.\u001b[39mwrite(response\u001b[38;5;241m.\u001b[39mcontent)\n",
      "File \u001b[0;32m~/anaconda3/lib/python3.11/site-packages/wget.py:526\u001b[0m, in \u001b[0;36mdownload\u001b[0;34m(url, out, bar)\u001b[0m\n\u001b[1;32m    524\u001b[0m \u001b[38;5;28;01melse\u001b[39;00m:\n\u001b[1;32m    525\u001b[0m     binurl \u001b[38;5;241m=\u001b[39m url\n\u001b[0;32m--> 526\u001b[0m (tmpfile, headers) \u001b[38;5;241m=\u001b[39m ulib\u001b[38;5;241m.\u001b[39murlretrieve(binurl, tmpfile, callback)\n\u001b[1;32m    527\u001b[0m filename \u001b[38;5;241m=\u001b[39m detect_filename(url, out, headers)\n\u001b[1;32m    528\u001b[0m \u001b[38;5;28;01mif\u001b[39;00m outdir:\n",
      "File \u001b[0;32m~/anaconda3/lib/python3.11/urllib/request.py:241\u001b[0m, in \u001b[0;36murlretrieve\u001b[0;34m(url, filename, reporthook, data)\u001b[0m\n\u001b[1;32m    224\u001b[0m \u001b[38;5;250m\u001b[39m\u001b[38;5;124;03m\"\"\"\u001b[39;00m\n\u001b[1;32m    225\u001b[0m \u001b[38;5;124;03mRetrieve a URL into a temporary location on disk.\u001b[39;00m\n\u001b[1;32m    226\u001b[0m \n\u001b[0;32m   (...)\u001b[0m\n\u001b[1;32m    237\u001b[0m \u001b[38;5;124;03mdata file as well as the resulting HTTPMessage object.\u001b[39;00m\n\u001b[1;32m    238\u001b[0m \u001b[38;5;124;03m\"\"\"\u001b[39;00m\n\u001b[1;32m    239\u001b[0m url_type, path \u001b[38;5;241m=\u001b[39m _splittype(url)\n\u001b[0;32m--> 241\u001b[0m \u001b[38;5;28;01mwith\u001b[39;00m contextlib\u001b[38;5;241m.\u001b[39mclosing(urlopen(url, data)) \u001b[38;5;28;01mas\u001b[39;00m fp:\n\u001b[1;32m    242\u001b[0m     headers \u001b[38;5;241m=\u001b[39m fp\u001b[38;5;241m.\u001b[39minfo()\n\u001b[1;32m    244\u001b[0m     \u001b[38;5;66;03m# Just return the local path and the \"headers\" for file://\u001b[39;00m\n\u001b[1;32m    245\u001b[0m     \u001b[38;5;66;03m# URLs. No sense in performing a copy unless requested.\u001b[39;00m\n",
      "File \u001b[0;32m~/anaconda3/lib/python3.11/urllib/request.py:216\u001b[0m, in \u001b[0;36murlopen\u001b[0;34m(url, data, timeout, cafile, capath, cadefault, context)\u001b[0m\n\u001b[1;32m    214\u001b[0m \u001b[38;5;28;01melse\u001b[39;00m:\n\u001b[1;32m    215\u001b[0m     opener \u001b[38;5;241m=\u001b[39m _opener\n\u001b[0;32m--> 216\u001b[0m \u001b[38;5;28;01mreturn\u001b[39;00m opener\u001b[38;5;241m.\u001b[39mopen(url, data, timeout)\n",
      "File \u001b[0;32m~/anaconda3/lib/python3.11/urllib/request.py:525\u001b[0m, in \u001b[0;36mOpenerDirector.open\u001b[0;34m(self, fullurl, data, timeout)\u001b[0m\n\u001b[1;32m    523\u001b[0m \u001b[38;5;28;01mfor\u001b[39;00m processor \u001b[38;5;129;01min\u001b[39;00m \u001b[38;5;28mself\u001b[39m\u001b[38;5;241m.\u001b[39mprocess_response\u001b[38;5;241m.\u001b[39mget(protocol, []):\n\u001b[1;32m    524\u001b[0m     meth \u001b[38;5;241m=\u001b[39m \u001b[38;5;28mgetattr\u001b[39m(processor, meth_name)\n\u001b[0;32m--> 525\u001b[0m     response \u001b[38;5;241m=\u001b[39m meth(req, response)\n\u001b[1;32m    527\u001b[0m \u001b[38;5;28;01mreturn\u001b[39;00m response\n",
      "File \u001b[0;32m~/anaconda3/lib/python3.11/urllib/request.py:634\u001b[0m, in \u001b[0;36mHTTPErrorProcessor.http_response\u001b[0;34m(self, request, response)\u001b[0m\n\u001b[1;32m    631\u001b[0m \u001b[38;5;66;03m# According to RFC 2616, \"2xx\" code indicates that the client's\u001b[39;00m\n\u001b[1;32m    632\u001b[0m \u001b[38;5;66;03m# request was successfully received, understood, and accepted.\u001b[39;00m\n\u001b[1;32m    633\u001b[0m \u001b[38;5;28;01mif\u001b[39;00m \u001b[38;5;129;01mnot\u001b[39;00m (\u001b[38;5;241m200\u001b[39m \u001b[38;5;241m<\u001b[39m\u001b[38;5;241m=\u001b[39m code \u001b[38;5;241m<\u001b[39m \u001b[38;5;241m300\u001b[39m):\n\u001b[0;32m--> 634\u001b[0m     response \u001b[38;5;241m=\u001b[39m \u001b[38;5;28mself\u001b[39m\u001b[38;5;241m.\u001b[39mparent\u001b[38;5;241m.\u001b[39merror(\n\u001b[1;32m    635\u001b[0m         \u001b[38;5;124m'\u001b[39m\u001b[38;5;124mhttp\u001b[39m\u001b[38;5;124m'\u001b[39m, request, response, code, msg, hdrs)\n\u001b[1;32m    637\u001b[0m \u001b[38;5;28;01mreturn\u001b[39;00m response\n",
      "File \u001b[0;32m~/anaconda3/lib/python3.11/urllib/request.py:563\u001b[0m, in \u001b[0;36mOpenerDirector.error\u001b[0;34m(self, proto, *args)\u001b[0m\n\u001b[1;32m    561\u001b[0m \u001b[38;5;28;01mif\u001b[39;00m http_err:\n\u001b[1;32m    562\u001b[0m     args \u001b[38;5;241m=\u001b[39m (\u001b[38;5;28mdict\u001b[39m, \u001b[38;5;124m'\u001b[39m\u001b[38;5;124mdefault\u001b[39m\u001b[38;5;124m'\u001b[39m, \u001b[38;5;124m'\u001b[39m\u001b[38;5;124mhttp_error_default\u001b[39m\u001b[38;5;124m'\u001b[39m) \u001b[38;5;241m+\u001b[39m orig_args\n\u001b[0;32m--> 563\u001b[0m     \u001b[38;5;28;01mreturn\u001b[39;00m \u001b[38;5;28mself\u001b[39m\u001b[38;5;241m.\u001b[39m_call_chain(\u001b[38;5;241m*\u001b[39margs)\n",
      "File \u001b[0;32m~/anaconda3/lib/python3.11/urllib/request.py:496\u001b[0m, in \u001b[0;36mOpenerDirector._call_chain\u001b[0;34m(self, chain, kind, meth_name, *args)\u001b[0m\n\u001b[1;32m    494\u001b[0m \u001b[38;5;28;01mfor\u001b[39;00m handler \u001b[38;5;129;01min\u001b[39;00m handlers:\n\u001b[1;32m    495\u001b[0m     func \u001b[38;5;241m=\u001b[39m \u001b[38;5;28mgetattr\u001b[39m(handler, meth_name)\n\u001b[0;32m--> 496\u001b[0m     result \u001b[38;5;241m=\u001b[39m func(\u001b[38;5;241m*\u001b[39margs)\n\u001b[1;32m    497\u001b[0m     \u001b[38;5;28;01mif\u001b[39;00m result \u001b[38;5;129;01mis\u001b[39;00m \u001b[38;5;129;01mnot\u001b[39;00m \u001b[38;5;28;01mNone\u001b[39;00m:\n\u001b[1;32m    498\u001b[0m         \u001b[38;5;28;01mreturn\u001b[39;00m result\n",
      "File \u001b[0;32m~/anaconda3/lib/python3.11/urllib/request.py:643\u001b[0m, in \u001b[0;36mHTTPDefaultErrorHandler.http_error_default\u001b[0;34m(self, req, fp, code, msg, hdrs)\u001b[0m\n\u001b[1;32m    642\u001b[0m \u001b[38;5;28;01mdef\u001b[39;00m \u001b[38;5;21mhttp_error_default\u001b[39m(\u001b[38;5;28mself\u001b[39m, req, fp, code, msg, hdrs):\n\u001b[0;32m--> 643\u001b[0m     \u001b[38;5;28;01mraise\u001b[39;00m HTTPError(req\u001b[38;5;241m.\u001b[39mfull_url, code, msg, hdrs, fp)\n",
      "\u001b[0;31mHTTPError\u001b[0m: HTTP Error 404: Not Found"
     ]
    }
   ],
   "source": [
    "# !wget https://raw.githubusercontent.com/vodezhaw/mldm_hs23/main/resources/lab01_clean_data.csv -O lab01_clean_data.csv\n",
    "# zsh:1: command not found: wget\n",
    "# pip install wget\n",
    "# !wget https://raw.githubusercontent.com/vodezhaw/mldm_hs23/main/resources/lab01_clean_data.csv -O lab01_clean_data.csv\n",
    "# zsh:1: command not found: wget\n",
    "\n",
    "#%pdb\n",
    "\n",
    "import wget\n",
    "URL = \"https://raw.githubusercontent.com/vodezhaw/mldm_hs23/main/resources/lab01_clean_data.csv -O lab01_clean_data.csv\"\n",
    "response = wget.download(URL)\n",
    "open(\"instagram.ico\", \"wb\").write(response.content)\n",
    "# dauert zu lange..."
   ]
  },
  {
   "cell_type": "code",
   "execution_count": 50,
   "metadata": {},
   "outputs": [],
   "source": [
    "import requests\n",
    "response = requests.get(URL)"
   ]
  },
  {
   "cell_type": "code",
   "execution_count": 51,
   "metadata": {},
   "outputs": [],
   "source": [
    "response = pd.DataFrame(response)"
   ]
  },
  {
   "cell_type": "code",
   "execution_count": 52,
   "metadata": {},
   "outputs": [
    {
     "data": {
      "text/html": [
       "<div>\n",
       "<style scoped>\n",
       "    .dataframe tbody tr th:only-of-type {\n",
       "        vertical-align: middle;\n",
       "    }\n",
       "\n",
       "    .dataframe tbody tr th {\n",
       "        vertical-align: top;\n",
       "    }\n",
       "\n",
       "    .dataframe thead th {\n",
       "        text-align: right;\n",
       "    }\n",
       "</style>\n",
       "<table border=\"1\" class=\"dataframe\">\n",
       "  <thead>\n",
       "    <tr style=\"text-align: right;\">\n",
       "      <th></th>\n",
       "      <th>0</th>\n",
       "    </tr>\n",
       "  </thead>\n",
       "  <tbody>\n",
       "    <tr>\n",
       "      <th>0</th>\n",
       "      <td>b'404: Not Found'</td>\n",
       "    </tr>\n",
       "  </tbody>\n",
       "</table>\n",
       "</div>"
      ],
      "text/plain": [
       "                   0\n",
       "0  b'404: Not Found'"
      ]
     },
     "execution_count": 52,
     "metadata": {},
     "output_type": "execute_result"
    }
   ],
   "source": [
    "response.head()"
   ]
  },
  {
   "cell_type": "code",
   "execution_count": null,
   "metadata": {
    "id": "y-FaRxNdr_Aw"
   },
   "outputs": [],
   "source": [
    "covid_data = pd.read_csv('swiss_covid_data_clean.csv')\n",
    "covid_data.head()"
   ]
  },
  {
   "cell_type": "markdown",
   "metadata": {
    "id": "y1wRq0xhobMU"
   },
   "source": [
    "## Using the Clean Data"
   ]
  },
  {
   "cell_type": "markdown",
   "metadata": {
    "id": "TK3_zZHVogrY"
   },
   "source": [
    "### **🚨 TASK 2 (3 Points) 🚨**"
   ]
  },
  {
   "cell_type": "markdown",
   "metadata": {
    "id": "QDGMGKaZwQkf"
   },
   "source": [
    "Now that you have a clean dataset, it is time for some data exploration.\n",
    "\n",
    "* think of a question that you could try to answer with the given dataset\n",
    "* use summary statistics and/or visualizations to try to answer your question\n",
    "\n",
    "<mark>On **Moodle**</mark> _upload a <mark>PDF</mark>_ answering the following questions:\n",
    "* What was your initial question or idea?\n",
    "* How did you proceed to arrive at an answer?\n",
    "* What are your results?\n",
    "* Include code-snippets, plots, and similar to support your answer."
   ]
  },
  {
   "cell_type": "markdown",
   "metadata": {
    "id": "anhVyTsKMy3U"
   },
   "source": [
    "Below, we include some code that helps you plot time-dependent variables.\n",
    "Note that **it is _NOT_ mandatory to produce any plots for this assignment**!"
   ]
  },
  {
   "cell_type": "code",
   "execution_count": null,
   "metadata": {
    "id": "dOie_M-NCuhp"
   },
   "outputs": [],
   "source": [
    "# You might want to plot things\n",
    "from matplotlib import pyplot as plt"
   ]
  },
  {
   "cell_type": "code",
   "execution_count": null,
   "metadata": {
    "id": "e3o4I-CEJGnR"
   },
   "outputs": [],
   "source": [
    "# replace 'date' string by parsed datetime objects\n",
    "# this can help if you want to use matplotlib to create a time plot\n",
    "# you do not have to understand this\n",
    "from datetime import datetime as dt\n",
    "covid_data['date'] = pd.to_datetime(covid_data['date'].apply(lambda t: dt.strptime(t, \"%Y-%m-%d\")))"
   ]
  },
  {
   "cell_type": "code",
   "execution_count": null,
   "metadata": {
    "id": "hlYFEXr4DNe7"
   },
   "outputs": [],
   "source": [
    "# extract dates for Geneva\n",
    "x = covid_data.loc[covid_data['abbreviation_canton_and_fl'] == 'GE', ['date']]\n",
    "# extract the 'ncumul_test' column for Geneva\n",
    "y = covid_data.loc[covid_data['abbreviation_canton_and_fl'] == 'GE', ['ncumul_tested']]\n",
    "\n",
    "# plot\n",
    "plt.plot_date(x, y)"
   ]
  },
  {
   "cell_type": "code",
   "execution_count": null,
   "metadata": {
    "id": "G0SgLr9iNYox",
    "scrolled": true
   },
   "outputs": [],
   "source": [
    "# Generic scatter-plot that does not include a time variable\n",
    "plt.scatter(covid_data['ncumul_tested'], covid_data['ncumul_deceased'])"
   ]
  },
  {
   "cell_type": "code",
   "execution_count": null,
   "metadata": {},
   "outputs": [],
   "source": [
    "covid_data_country = covid_data\n",
    "covid_data_country.head()"
   ]
  },
  {
   "cell_type": "code",
   "execution_count": null,
   "metadata": {},
   "outputs": [],
   "source": [
    "# are there several entries from the same canton on the same day? can I ignore time?\n",
    "canton_n_day = ['abbreviation_canton_and_fl', 'date']\n",
    "canton_n_day"
   ]
  },
  {
   "cell_type": "code",
   "execution_count": null,
   "metadata": {},
   "outputs": [],
   "source": [
    "covid_data_country.duplicated(subset=canton_n_day).sum()"
   ]
  },
  {
   "cell_type": "code",
   "execution_count": null,
   "metadata": {},
   "outputs": [],
   "source": [
    "to_drop = [c for c in covid_data_country.columns if c not in {'date', 'abbreviation_canton_and_fl', 'ncumul_conf'}]\n",
    "covid_data_country.drop(to_drop, inplace = True, axis = 1)\n",
    "covid_data_country.head()"
   ]
  },
  {
   "cell_type": "code",
   "execution_count": null,
   "metadata": {},
   "outputs": [],
   "source": [
    "def calc_country_total_per_day(date):\n",
    "    date_numbers = covid_data_country[covid_data_country['date'] == date]\n",
    "    return date_numbers['ncumul_conf'].sum()\n",
    "\n",
    "covid_data_country['date'].describe()"
   ]
  },
  {
   "cell_type": "code",
   "execution_count": null,
   "metadata": {},
   "outputs": [],
   "source": [
    "len(covid_data_country['date'].unique())"
   ]
  },
  {
   "cell_type": "code",
   "execution_count": null,
   "metadata": {},
   "outputs": [],
   "source": [
    "date_min = '2020-02-01 00:00:00'\n",
    "date_max = '2023-09-12 00:00:00'\n",
    "\n",
    "#date_min_numbers = covid_data_country[covid_data_country['date'] == date_min]\n",
    "#date_max_numbers = covid_data_country[covid_data_country['date'] == date_max]\n",
    "\n",
    "#date_min_numbers['ncumul_conf'].sum()\n",
    "#date_max_numbers['ncumul_conf'].sum()\n",
    "\n",
    "# test\n",
    "calc_country_total_per_day('2020-02-01 00:00:00')\n"
   ]
  },
  {
   "cell_type": "code",
   "execution_count": null,
   "metadata": {},
   "outputs": [],
   "source": [
    "calc_country_total_per_day('2023-09-12 00:00:00')"
   ]
  },
  {
   "cell_type": "code",
   "execution_count": null,
   "metadata": {},
   "outputs": [],
   "source": [
    "covid_data_swiss = pd.DataFrame(columns=covid_data_country.columns)\n",
    "covid_data_swiss = covid_data_swiss.drop(columns=['abbreviation_canton_and_fl'])\n",
    "covid_data_swiss.head()"
   ]
  },
  {
   "cell_type": "code",
   "execution_count": null,
   "metadata": {},
   "outputs": [],
   "source": [
    "#covid_data_swiss.drop(covid_data_swiss.index, axis=0, inplace=True) # because of tests/debugging\n",
    "\n",
    "rows_list = []\n",
    "\n",
    "for date in covid_data_country['date'].unique():\n",
    "    dict_row = {}\n",
    "    dict_row.update({'date': date, 'ncumul_conf': calc_country_total_per_day(date)}) \n",
    "    rows_list.append(dict_row)\n",
    "    \n",
    "  # new_row = {'date': date, 'ncumul_conf': calc_country_total_per_day(date)}\n",
    "  # covid_data_swiss = covid_data_swiss.append(new_row, ignore_index=True)\n",
    "  # print('date: ' + str(date) + ', ncumul_conf: ' + str(calc_country_total_per_day(date)))\n",
    "    \n",
    "covid_data_swiss = pd.DataFrame(rows_list)  \n",
    "covid_data_swiss"
   ]
  },
  {
   "cell_type": "code",
   "execution_count": null,
   "metadata": {},
   "outputs": [],
   "source": [
    "# covid_data_swiss['date'] = pd.to_datetime(covid_data_swiss['date'].apply(lambda t: dt.strptime(t, \"%Y-%m-%d\")))\n",
    "x = covid_data_swiss['date']\n",
    "y = covid_data_swiss['ncumul_conf']\n",
    "\n",
    "# plot\n",
    "plt.plot_date(x, y)\n",
    "\n",
    "# result is not entirely satisfying:\n",
    "# - several points for the same date (or so it seems)\n",
    "# - strange decrease at the beginning of 2022"
   ]
  }
 ],
 "metadata": {
  "colab": {
   "private_outputs": true,
   "provenance": []
  },
  "kernelspec": {
   "display_name": "Python 3 (ipykernel)",
   "language": "python",
   "name": "python3"
  },
  "language_info": {
   "codemirror_mode": {
    "name": "ipython",
    "version": 3
   },
   "file_extension": ".py",
   "mimetype": "text/x-python",
   "name": "python",
   "nbconvert_exporter": "python",
   "pygments_lexer": "ipython3",
   "version": "3.11.5"
  }
 },
 "nbformat": 4,
 "nbformat_minor": 1
}
