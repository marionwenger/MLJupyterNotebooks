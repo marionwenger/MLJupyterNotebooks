{
 "cells": [
  {
   "cell_type": "markdown",
   "metadata": {},
   "source": [
    "# Multiple Linear Regression with Python and Scikit-Learn\n",
    "\n",
    "\n",
    "This project is about Multiple Linear Regression which is a machine learning algorithm. I build a multiple linear regression model to estimate the relative cpu performance of computer hardware dataset.\n"
   ]
  },
  {
   "cell_type": "markdown",
   "metadata": {},
   "source": [
    "## Table of contents\n",
    "\n",
    "The contents of this project are divided into various categories which are given as follows:-\n",
    "\n",
    "\n",
    "1.\tIntroduction\n",
    "\n",
    "2.\tLinear regression intuition\n",
    "\n",
    "3.\tIndependent and dependent variables\n",
    "\n",
    "4.\tAssumptions of  linear regression\n",
    "\n",
    "5.\tThe dataset description\n",
    "\n",
    "6.\tThe problem statement\n",
    "\n",
    "7.\tImport the Python libraries\n",
    "\n",
    "8.\tImport the dataset\n",
    "\n",
    "9.\tExploratory Data Analysis\n",
    "    - Explore types of variables\n",
    "    \n",
    "    - Estimate correlation coefficients\n",
    "    \n",
    "     - Correlation heat map\n",
    "     \n",
    "10.\tDetect problems within variables\n",
    "     - Detect missing values\n",
    "     \n",
    "     - Outliers in discrete variables\n",
    "     \n",
    "     - Number of labels – cardinality\n",
    "     \n",
    "11.\tLinear Regression modeling\n",
    "    - Divide the dataset into categorical and numerical variables\n",
    "    \n",
    "    - Select the predictor and target variables\n",
    "    \n",
    "    - Create separate train and test sets\n",
    "    \n",
    "    - Feature Scaling\n",
    "    \n",
    "    - Fit the Linear Regression model\n",
    "\n",
    "12.\tPredicting the results\n",
    "    - Predicting the test set results\n",
    "    \n",
    "    - Predicting estimated relative CPU performance values\n",
    "\n",
    "13.\tModel slope and intercept terms\n",
    "\n",
    "14.\tEvaluate model performance\n",
    "    - RMSE (Root Mean Square Error)\n",
    "    \n",
    "    - R2 Score\n",
    "    \n",
    "    - Overfitting or Underfitting\n",
    "    \n",
    "    - Cross validation\n",
    "    \n",
    "    - Residual analysis\n",
    "    \n",
    "    - Normality test (Q-Q Plot)\n",
    "    \n",
    "15.\tConclusion\n",
    "\n",
    "\n"
   ]
  },
  {
   "cell_type": "markdown",
   "metadata": {},
   "source": [
    "## 1. Introduction\n",
    "\n",
    "\n",
    "In this project, I build a multiple linear regression model to estimate the relative cpu performance of computer hardware dataset. Relative cpu performance of the computer hardware is described in terms of machine cycle time, main memory, cache memory and minimum and maximum channels as given in the dataset.\n",
    "\n",
    "\n",
    "I discuss the basics and assumptions of linear regression. I also discuss the advantages and disadvantages and common pitfalls of linear regression. I present the implementation in Python programming language using Scikit-learn. Scikit-learn is the popular machine learning library of Python programming language. I also discuss various tools to evaluate the linear regression model performance.\n"
   ]
  },
  {
   "cell_type": "markdown",
   "metadata": {},
   "source": [
    "## 2. Multiple linear regression intuition\n",
    "\n",
    "\n",
    "Linear Regression is a machine learning algorithm which is used to establish the linear relationship between dependent and one or more independent variables. This technique is applicable for supervised learning regression problems where we try to predict a continuous variable. Linear Regression can be further classified into two types – Simple and Multiple Linear Regression. \n",
    "\n",
    "I have discussed the linear regression intuition in detail in the readme document.\n",
    "\n",
    "In this project, I employ Multiple Linear Regression technique where I have one dependent variable and more than one independent variables.\n"
   ]
  },
  {
   "cell_type": "markdown",
   "metadata": {},
   "source": [
    "## 3. Independent and dependent variables\n",
    "\n",
    "\n",
    "In this project, I refer Independent variable as Feature variable and Dependent variable as Target variable. These variables are also recognized by different names as follows: -\n",
    "\n",
    "\n",
    "**Independent variable**\n",
    "\n",
    "Independent variable is also called Input variable and is denoted by X. In practical applications, independent variable is also called Feature variable or Predictor variable. We can denote it as: -\n",
    "\n",
    "\n",
    "Independent or Input variable (X) = Feature variable = Predictor variable \n",
    "\n",
    "\n",
    "**Dependent variable**\n",
    "\n",
    "\n",
    "Dependent variable is also called Output variable and is denoted by y. Dependent variable is also called Target variable or Response variable. It can be denoted it as follows: -\n",
    "\n",
    "\n",
    "Dependent or Output variable (y) = Target variable = Response variable\n"
   ]
  },
  {
   "cell_type": "markdown",
   "metadata": {},
   "source": [
    "## 4. Assumptions of Linear Regression\n",
    "\n",
    "The Linear Regression model is based on several assumptions which are as follows:-\n",
    "\n",
    "\n",
    "1. Linear relationship\n",
    "\n",
    "2. Multivariate normality\n",
    "\n",
    "3. No or little multi-collinearity\n",
    "\n",
    "4. No auto-correlation in error terms\n",
    "\n",
    "5. Homoscedasticity\n",
    "\n",
    "\n",
    "\n",
    "I have described these assumptions in more detail in readme document.\n",
    "\n",
    "\n",
    "\n"
   ]
  },
  {
   "cell_type": "markdown",
   "metadata": {},
   "source": [
    "## 5. Dataset description\n",
    "\n",
    "\n",
    "Now, we should get to know more about the dataset. It is a computer hardware dataset. The dataset consists of information about the computer vendors selling computers, model name of computers and various attributes to estimate the relative performance of CPU.\n",
    "The dataset can be found at the following url –\n",
    "\n",
    "https://archive.ics.uci.edu/ml/datasets/Computer+Hardware\n",
    "\n",
    "\n",
    "The dataset description will help us to know more about the data.\n",
    "\n",
    "\n",
    "**Dataset description** is given as follows:-\n",
    "\n",
    "\n",
    "1. vendor name: 30 \n",
    "      (adviser, amdahl,apollo, basf, bti, burroughs, c.r.d, cambex, cdc, dec, \n",
    "       dg, formation, four-phase, gould, honeywell, hp, ibm, ipl, magnuson, \n",
    "       microdata, nas, ncr, nixdorf, perkin-elmer, prime, siemens, sperry, \n",
    "       sratus, wang)\n",
    "       \n",
    "2. Model Name: many unique symbols\n",
    "\n",
    "3. MYCT: machine cycle time in nanoseconds (integer)\n",
    "\n",
    "4. MMIN: minimum main memory in kilobytes (integer)\n",
    "\n",
    "5. MMAX: maximum main memory in kilobytes (integer)\n",
    "\n",
    "6. CACH: cache memory in kilobytes (integer)\n",
    "\n",
    "7. CHMIN: minimum channels in units (integer)\n",
    "\n",
    "8. CHMAX: maximum channels in units (integer)\n",
    "\n",
    "9. PRP: published relative performance (integer)\n",
    "\n",
    "10. ERP: estimated relative performance from the original article (integer)\n",
    "  "
   ]
  },
  {
   "cell_type": "markdown",
   "metadata": {},
   "source": [
    "## 6. The problem statement\n",
    "\n",
    "\n",
    "A machine learning model is built with the aim of solving a problem. So, first of all I have to define the problem to be solved in this project.\n",
    "\n",
    "As described earlier, the problem is to estimate the relative CPU performance of computer hardware dataset. Relative CPU performance of the computer hardware is described in terms of machine cycle time, main memory, cache memory and minimum and maximum channels as given in the dataset.\n",
    "\n",
    "So, let's get started. I will start by importing the required Python libraries."
   ]
  },
  {
   "cell_type": "markdown",
   "metadata": {},
   "source": [
    "## 7. Import the Python libraries"
   ]
  },
  {
   "cell_type": "code",
   "execution_count": 2,
   "metadata": {},
   "outputs": [],
   "source": [
    "# import required Python libraries\n",
    "\n",
    "# to handle datasets\n",
    "import numpy as np\n",
    "import pandas as pd\n",
    "\n",
    "# for plotting\n",
    "import matplotlib.pyplot as plt\n",
    "%matplotlib inline\n",
    "import seaborn as sns\n",
    "\n",
    "\n",
    "import warnings\n",
    "warnings.filterwarnings('ignore')"
   ]
  },
  {
   "cell_type": "markdown",
   "metadata": {},
   "source": [
    "## 8. Import the dataset"
   ]
  },
  {
   "cell_type": "code",
   "execution_count": 5,
   "metadata": {},
   "outputs": [],
   "source": [
    "# import the dataset\n",
    "\n",
    "filename = \"machine_data.csv\"\n",
    "\n",
    "df = pd.read_csv(filename, header = None)"
   ]
  },
  {
   "cell_type": "markdown",
   "metadata": {},
   "source": [
    "## 9. Simple Data Analysis\n",
    "\n",
    "\n",
    "Now, I will perform Exploratory Data Analysis. It provides useful insights into the dataset which is important for further analysis.\n",
    "\n",
    "First of all, we should check the dimensions of the dataframe as follows:-"
   ]
  },
  {
   "cell_type": "code",
   "execution_count": 6,
   "metadata": {},
   "outputs": [
    {
     "name": "stdout",
     "output_type": "stream",
     "text": [
      "Shape of dataframe df: (209, 10)\n"
     ]
    }
   ],
   "source": [
    "# view the dimensions of dataframe df\n",
    "\n",
    "print(\"Shape of dataframe df: {}\".format(df.shape))"
   ]
  },
  {
   "cell_type": "markdown",
   "metadata": {},
   "source": [
    "We can see that there are 209 rows and 10 columns in the dataset. Next, we should get an insight about the dataset.\n",
    "\n",
    "The **df.head()** function helps us to visualize the first 5 rows of the dataset."
   ]
  },
  {
   "cell_type": "code",
   "execution_count": 7,
   "metadata": {},
   "outputs": [
    {
     "data": {
      "text/html": [
       "<div>\n",
       "<style scoped>\n",
       "    .dataframe tbody tr th:only-of-type {\n",
       "        vertical-align: middle;\n",
       "    }\n",
       "\n",
       "    .dataframe tbody tr th {\n",
       "        vertical-align: top;\n",
       "    }\n",
       "\n",
       "    .dataframe thead th {\n",
       "        text-align: right;\n",
       "    }\n",
       "</style>\n",
       "<table border=\"1\" class=\"dataframe\">\n",
       "  <thead>\n",
       "    <tr style=\"text-align: right;\">\n",
       "      <th></th>\n",
       "      <th>0</th>\n",
       "      <th>1</th>\n",
       "      <th>2</th>\n",
       "      <th>3</th>\n",
       "      <th>4</th>\n",
       "      <th>5</th>\n",
       "      <th>6</th>\n",
       "      <th>7</th>\n",
       "      <th>8</th>\n",
       "      <th>9</th>\n",
       "    </tr>\n",
       "  </thead>\n",
       "  <tbody>\n",
       "    <tr>\n",
       "      <th>0</th>\n",
       "      <td>adviser</td>\n",
       "      <td>32/60</td>\n",
       "      <td>125</td>\n",
       "      <td>256</td>\n",
       "      <td>6000</td>\n",
       "      <td>256</td>\n",
       "      <td>16</td>\n",
       "      <td>128</td>\n",
       "      <td>198</td>\n",
       "      <td>199</td>\n",
       "    </tr>\n",
       "    <tr>\n",
       "      <th>1</th>\n",
       "      <td>amdahl</td>\n",
       "      <td>470v/7</td>\n",
       "      <td>29</td>\n",
       "      <td>8000</td>\n",
       "      <td>32000</td>\n",
       "      <td>32</td>\n",
       "      <td>8</td>\n",
       "      <td>32</td>\n",
       "      <td>269</td>\n",
       "      <td>253</td>\n",
       "    </tr>\n",
       "    <tr>\n",
       "      <th>2</th>\n",
       "      <td>amdahl</td>\n",
       "      <td>470v/7a</td>\n",
       "      <td>29</td>\n",
       "      <td>8000</td>\n",
       "      <td>32000</td>\n",
       "      <td>32</td>\n",
       "      <td>8</td>\n",
       "      <td>32</td>\n",
       "      <td>220</td>\n",
       "      <td>253</td>\n",
       "    </tr>\n",
       "    <tr>\n",
       "      <th>3</th>\n",
       "      <td>amdahl</td>\n",
       "      <td>470v/7b</td>\n",
       "      <td>29</td>\n",
       "      <td>8000</td>\n",
       "      <td>32000</td>\n",
       "      <td>32</td>\n",
       "      <td>8</td>\n",
       "      <td>32</td>\n",
       "      <td>172</td>\n",
       "      <td>253</td>\n",
       "    </tr>\n",
       "    <tr>\n",
       "      <th>4</th>\n",
       "      <td>amdahl</td>\n",
       "      <td>470v/7c</td>\n",
       "      <td>29</td>\n",
       "      <td>8000</td>\n",
       "      <td>16000</td>\n",
       "      <td>32</td>\n",
       "      <td>8</td>\n",
       "      <td>16</td>\n",
       "      <td>132</td>\n",
       "      <td>132</td>\n",
       "    </tr>\n",
       "  </tbody>\n",
       "</table>\n",
       "</div>"
      ],
      "text/plain": [
       "         0        1    2     3      4    5   6    7    8    9\n",
       "0  adviser    32/60  125   256   6000  256  16  128  198  199\n",
       "1   amdahl   470v/7   29  8000  32000   32   8   32  269  253\n",
       "2   amdahl  470v/7a   29  8000  32000   32   8   32  220  253\n",
       "3   amdahl  470v/7b   29  8000  32000   32   8   32  172  253\n",
       "4   amdahl  470v/7c   29  8000  16000   32   8   16  132  132"
      ]
     },
     "execution_count": 7,
     "metadata": {},
     "output_type": "execute_result"
    }
   ],
   "source": [
    "# view the top five rows of dataframe df\n",
    "\n",
    "df.head()"
   ]
  },
  {
   "cell_type": "markdown",
   "metadata": {},
   "source": [
    "We can see that the column names are from 0 to 9. They should be descriptive. So, we should rename them as follows:-"
   ]
  },
  {
   "cell_type": "code",
   "execution_count": 8,
   "metadata": {},
   "outputs": [],
   "source": [
    "# rename columns of dataframe df\n",
    "\n",
    "col_names = ['Vendor Name','Model Name', 'MYCT', 'MMIN', 'MMAX', 'CACH','CHMIN', 'CHMAX', 'PRP', 'ERP' ]\n",
    "\n",
    "df.columns = col_names"
   ]
  },
  {
   "cell_type": "markdown",
   "metadata": {},
   "source": [
    "We should now check that the columns have appropriate names."
   ]
  },
  {
   "cell_type": "code",
   "execution_count": 9,
   "metadata": {},
   "outputs": [
    {
     "data": {
      "text/html": [
       "<div>\n",
       "<style scoped>\n",
       "    .dataframe tbody tr th:only-of-type {\n",
       "        vertical-align: middle;\n",
       "    }\n",
       "\n",
       "    .dataframe tbody tr th {\n",
       "        vertical-align: top;\n",
       "    }\n",
       "\n",
       "    .dataframe thead th {\n",
       "        text-align: right;\n",
       "    }\n",
       "</style>\n",
       "<table border=\"1\" class=\"dataframe\">\n",
       "  <thead>\n",
       "    <tr style=\"text-align: right;\">\n",
       "      <th></th>\n",
       "      <th>Vendor Name</th>\n",
       "      <th>Model Name</th>\n",
       "      <th>MYCT</th>\n",
       "      <th>MMIN</th>\n",
       "      <th>MMAX</th>\n",
       "      <th>CACH</th>\n",
       "      <th>CHMIN</th>\n",
       "      <th>CHMAX</th>\n",
       "      <th>PRP</th>\n",
       "      <th>ERP</th>\n",
       "    </tr>\n",
       "  </thead>\n",
       "  <tbody>\n",
       "    <tr>\n",
       "      <th>0</th>\n",
       "      <td>adviser</td>\n",
       "      <td>32/60</td>\n",
       "      <td>125</td>\n",
       "      <td>256</td>\n",
       "      <td>6000</td>\n",
       "      <td>256</td>\n",
       "      <td>16</td>\n",
       "      <td>128</td>\n",
       "      <td>198</td>\n",
       "      <td>199</td>\n",
       "    </tr>\n",
       "    <tr>\n",
       "      <th>1</th>\n",
       "      <td>amdahl</td>\n",
       "      <td>470v/7</td>\n",
       "      <td>29</td>\n",
       "      <td>8000</td>\n",
       "      <td>32000</td>\n",
       "      <td>32</td>\n",
       "      <td>8</td>\n",
       "      <td>32</td>\n",
       "      <td>269</td>\n",
       "      <td>253</td>\n",
       "    </tr>\n",
       "    <tr>\n",
       "      <th>2</th>\n",
       "      <td>amdahl</td>\n",
       "      <td>470v/7a</td>\n",
       "      <td>29</td>\n",
       "      <td>8000</td>\n",
       "      <td>32000</td>\n",
       "      <td>32</td>\n",
       "      <td>8</td>\n",
       "      <td>32</td>\n",
       "      <td>220</td>\n",
       "      <td>253</td>\n",
       "    </tr>\n",
       "    <tr>\n",
       "      <th>3</th>\n",
       "      <td>amdahl</td>\n",
       "      <td>470v/7b</td>\n",
       "      <td>29</td>\n",
       "      <td>8000</td>\n",
       "      <td>32000</td>\n",
       "      <td>32</td>\n",
       "      <td>8</td>\n",
       "      <td>32</td>\n",
       "      <td>172</td>\n",
       "      <td>253</td>\n",
       "    </tr>\n",
       "    <tr>\n",
       "      <th>4</th>\n",
       "      <td>amdahl</td>\n",
       "      <td>470v/7c</td>\n",
       "      <td>29</td>\n",
       "      <td>8000</td>\n",
       "      <td>16000</td>\n",
       "      <td>32</td>\n",
       "      <td>8</td>\n",
       "      <td>16</td>\n",
       "      <td>132</td>\n",
       "      <td>132</td>\n",
       "    </tr>\n",
       "  </tbody>\n",
       "</table>\n",
       "</div>"
      ],
      "text/plain": [
       "  Vendor Name Model Name  MYCT  MMIN   MMAX  CACH  CHMIN  CHMAX  PRP  ERP\n",
       "0     adviser      32/60   125   256   6000   256     16    128  198  199\n",
       "1      amdahl     470v/7    29  8000  32000    32      8     32  269  253\n",
       "2      amdahl    470v/7a    29  8000  32000    32      8     32  220  253\n",
       "3      amdahl    470v/7b    29  8000  32000    32      8     32  172  253\n",
       "4      amdahl    470v/7c    29  8000  16000    32      8     16  132  132"
      ]
     },
     "execution_count": 9,
     "metadata": {},
     "output_type": "execute_result"
    }
   ],
   "source": [
    "# view the top five rows of dataframe with column names renamed\n",
    "\n",
    "df.head()"
   ]
  },
  {
   "cell_type": "markdown",
   "metadata": {},
   "source": [
    "### Explore types of variables\n",
    "\n",
    "\n",
    "In this section, I will explore the types of variables in the dataset."
   ]
  },
  {
   "cell_type": "markdown",
   "metadata": {},
   "source": [
    "First, let's view a concise summary of the dataframe with **df.info()** method."
   ]
  },
  {
   "cell_type": "code",
   "execution_count": 10,
   "metadata": {},
   "outputs": [
    {
     "name": "stdout",
     "output_type": "stream",
     "text": [
      "<class 'pandas.core.frame.DataFrame'>\n",
      "RangeIndex: 209 entries, 0 to 208\n",
      "Data columns (total 10 columns):\n",
      " #   Column       Non-Null Count  Dtype \n",
      "---  ------       --------------  ----- \n",
      " 0   Vendor Name  209 non-null    object\n",
      " 1   Model Name   209 non-null    object\n",
      " 2   MYCT         209 non-null    int64 \n",
      " 3   MMIN         209 non-null    int64 \n",
      " 4   MMAX         209 non-null    int64 \n",
      " 5   CACH         209 non-null    int64 \n",
      " 6   CHMIN        209 non-null    int64 \n",
      " 7   CHMAX        209 non-null    int64 \n",
      " 8   PRP          209 non-null    int64 \n",
      " 9   ERP          209 non-null    int64 \n",
      "dtypes: int64(8), object(2)\n",
      "memory usage: 16.5+ KB\n"
     ]
    }
   ],
   "source": [
    "# view dataframe summary\n",
    "\n",
    "df.info()"
   ]
  },
  {
   "cell_type": "markdown",
   "metadata": {},
   "source": [
    "We can see that there are categorical and numerical variables in the dataset. Numerical variables have data types int64 and categorical variables are those of type object.\n",
    "\n",
    "First, let's explore the categorical variables."
   ]
  },
  {
   "cell_type": "code",
   "execution_count": 11,
   "metadata": {},
   "outputs": [
    {
     "name": "stdout",
     "output_type": "stream",
     "text": [
      "There are 2 categorical variables\n"
     ]
    }
   ],
   "source": [
    "# find categorical variables\n",
    "\n",
    "categorical = [col for col in df.columns if df[col].dtype=='O']\n",
    "print('There are {} categorical variables'.format(len(categorical)))"
   ]
  },
  {
   "cell_type": "code",
   "execution_count": 12,
   "metadata": {},
   "outputs": [
    {
     "name": "stdout",
     "output_type": "stream",
     "text": [
      "['Vendor Name', 'Model Name']\n"
     ]
    }
   ],
   "source": [
    "# view the categorical variables\n",
    "\n",
    "print(categorical)"
   ]
  },
  {
   "cell_type": "markdown",
   "metadata": {},
   "source": [
    "So, there are two categorical variables - **Vendor Name** and **Model Name** in the dataset. \n",
    "\n",
    "Let's explore more about them. "
   ]
  },
  {
   "cell_type": "code",
   "execution_count": 13,
   "metadata": {},
   "outputs": [
    {
     "data": {
      "text/html": [
       "<div>\n",
       "<style scoped>\n",
       "    .dataframe tbody tr th:only-of-type {\n",
       "        vertical-align: middle;\n",
       "    }\n",
       "\n",
       "    .dataframe tbody tr th {\n",
       "        vertical-align: top;\n",
       "    }\n",
       "\n",
       "    .dataframe thead th {\n",
       "        text-align: right;\n",
       "    }\n",
       "</style>\n",
       "<table border=\"1\" class=\"dataframe\">\n",
       "  <thead>\n",
       "    <tr style=\"text-align: right;\">\n",
       "      <th></th>\n",
       "      <th>Vendor Name</th>\n",
       "      <th>Model Name</th>\n",
       "    </tr>\n",
       "  </thead>\n",
       "  <tbody>\n",
       "    <tr>\n",
       "      <th>0</th>\n",
       "      <td>adviser</td>\n",
       "      <td>32/60</td>\n",
       "    </tr>\n",
       "    <tr>\n",
       "      <th>1</th>\n",
       "      <td>amdahl</td>\n",
       "      <td>470v/7</td>\n",
       "    </tr>\n",
       "    <tr>\n",
       "      <th>2</th>\n",
       "      <td>amdahl</td>\n",
       "      <td>470v/7a</td>\n",
       "    </tr>\n",
       "    <tr>\n",
       "      <th>3</th>\n",
       "      <td>amdahl</td>\n",
       "      <td>470v/7b</td>\n",
       "    </tr>\n",
       "    <tr>\n",
       "      <th>4</th>\n",
       "      <td>amdahl</td>\n",
       "      <td>470v/7c</td>\n",
       "    </tr>\n",
       "  </tbody>\n",
       "</table>\n",
       "</div>"
      ],
      "text/plain": [
       "  Vendor Name Model Name\n",
       "0     adviser      32/60\n",
       "1      amdahl     470v/7\n",
       "2      amdahl    470v/7a\n",
       "3      amdahl    470v/7b\n",
       "4      amdahl    470v/7c"
      ]
     },
     "execution_count": 13,
     "metadata": {},
     "output_type": "execute_result"
    }
   ],
   "source": [
    "# view the top five rows of categorical variables\n",
    "\n",
    "df[categorical].head()"
   ]
  },
  {
   "cell_type": "code",
   "execution_count": 14,
   "metadata": {},
   "outputs": [
    {
     "data": {
      "text/plain": [
       "Vendor Name\n",
       "ibm             32\n",
       "nas             19\n",
       "ncr             13\n",
       "sperry          13\n",
       "honeywell       13\n",
       "siemens         12\n",
       "cdc              9\n",
       "amdahl           9\n",
       "burroughs        8\n",
       "hp               7\n",
       "harris           7\n",
       "dg               7\n",
       "dec              6\n",
       "c.r.d            6\n",
       "ipl              6\n",
       "magnuson         6\n",
       "cambex           5\n",
       "prime            5\n",
       "formation        5\n",
       "perkin-elmer     3\n",
       "gould            3\n",
       "nixdorf          3\n",
       "wang             2\n",
       "bti              2\n",
       "basf             2\n",
       "apollo           2\n",
       "microdata        1\n",
       "four-phase       1\n",
       "sratus           1\n",
       "adviser          1\n",
       "Name: count, dtype: int64"
      ]
     },
     "execution_count": 14,
     "metadata": {},
     "output_type": "execute_result"
    }
   ],
   "source": [
    "# exploring the categories in Vendor Name column\n",
    "\n",
    "df['Vendor Name'].value_counts()"
   ]
  },
  {
   "cell_type": "markdown",
   "metadata": {},
   "source": [
    "ibm is the most frequent category in the **Vendor Name** column.\n",
    "\n",
    "Next, let's explore the **Model Name** column."
   ]
  },
  {
   "cell_type": "code",
   "execution_count": 15,
   "metadata": {},
   "outputs": [
    {
     "name": "stdout",
     "output_type": "stream",
     "text": [
      "Number of unique Model Names:  209\n",
      "Number  of instances of models:  209\n"
     ]
    }
   ],
   "source": [
    "print('Number of unique Model Names: ', len(df['Model Name'].unique()))\n",
    "print('Number  of instances of models: ', len(df))"
   ]
  },
  {
   "cell_type": "markdown",
   "metadata": {},
   "source": [
    "We can see that **Model Name** is a unique identifier for each of the computer models. Thus this is not a variable that we can use to predict the estimated relative performance of computer models. So, we should not use this column for model building.\n"
   ]
  },
  {
   "cell_type": "markdown",
   "metadata": {},
   "source": [
    "Now, let's explore the numerical variables."
   ]
  },
  {
   "cell_type": "code",
   "execution_count": 16,
   "metadata": {},
   "outputs": [
    {
     "name": "stdout",
     "output_type": "stream",
     "text": [
      "There are 8 numerical variables\n"
     ]
    }
   ],
   "source": [
    "# find numerical variables\n",
    "\n",
    "numerical = [col for col in df.columns if df[col].dtype!='O']\n",
    "print('There are {} numerical variables'.format(len(numerical)))"
   ]
  },
  {
   "cell_type": "code",
   "execution_count": 17,
   "metadata": {},
   "outputs": [
    {
     "name": "stdout",
     "output_type": "stream",
     "text": [
      "['MYCT', 'MMIN', 'MMAX', 'CACH', 'CHMIN', 'CHMAX', 'PRP', 'ERP']\n"
     ]
    }
   ],
   "source": [
    "# view numerical variables\n",
    "\n",
    "print(numerical)"
   ]
  },
  {
   "cell_type": "markdown",
   "metadata": {},
   "source": [
    "So, there are eight numerical variables in the dataset. Let's explore more about them."
   ]
  },
  {
   "cell_type": "code",
   "execution_count": 18,
   "metadata": {},
   "outputs": [
    {
     "data": {
      "text/html": [
       "<div>\n",
       "<style scoped>\n",
       "    .dataframe tbody tr th:only-of-type {\n",
       "        vertical-align: middle;\n",
       "    }\n",
       "\n",
       "    .dataframe tbody tr th {\n",
       "        vertical-align: top;\n",
       "    }\n",
       "\n",
       "    .dataframe thead th {\n",
       "        text-align: right;\n",
       "    }\n",
       "</style>\n",
       "<table border=\"1\" class=\"dataframe\">\n",
       "  <thead>\n",
       "    <tr style=\"text-align: right;\">\n",
       "      <th></th>\n",
       "      <th>MYCT</th>\n",
       "      <th>MMIN</th>\n",
       "      <th>MMAX</th>\n",
       "      <th>CACH</th>\n",
       "      <th>CHMIN</th>\n",
       "      <th>CHMAX</th>\n",
       "      <th>PRP</th>\n",
       "      <th>ERP</th>\n",
       "    </tr>\n",
       "  </thead>\n",
       "  <tbody>\n",
       "    <tr>\n",
       "      <th>0</th>\n",
       "      <td>125</td>\n",
       "      <td>256</td>\n",
       "      <td>6000</td>\n",
       "      <td>256</td>\n",
       "      <td>16</td>\n",
       "      <td>128</td>\n",
       "      <td>198</td>\n",
       "      <td>199</td>\n",
       "    </tr>\n",
       "    <tr>\n",
       "      <th>1</th>\n",
       "      <td>29</td>\n",
       "      <td>8000</td>\n",
       "      <td>32000</td>\n",
       "      <td>32</td>\n",
       "      <td>8</td>\n",
       "      <td>32</td>\n",
       "      <td>269</td>\n",
       "      <td>253</td>\n",
       "    </tr>\n",
       "    <tr>\n",
       "      <th>2</th>\n",
       "      <td>29</td>\n",
       "      <td>8000</td>\n",
       "      <td>32000</td>\n",
       "      <td>32</td>\n",
       "      <td>8</td>\n",
       "      <td>32</td>\n",
       "      <td>220</td>\n",
       "      <td>253</td>\n",
       "    </tr>\n",
       "    <tr>\n",
       "      <th>3</th>\n",
       "      <td>29</td>\n",
       "      <td>8000</td>\n",
       "      <td>32000</td>\n",
       "      <td>32</td>\n",
       "      <td>8</td>\n",
       "      <td>32</td>\n",
       "      <td>172</td>\n",
       "      <td>253</td>\n",
       "    </tr>\n",
       "    <tr>\n",
       "      <th>4</th>\n",
       "      <td>29</td>\n",
       "      <td>8000</td>\n",
       "      <td>16000</td>\n",
       "      <td>32</td>\n",
       "      <td>8</td>\n",
       "      <td>16</td>\n",
       "      <td>132</td>\n",
       "      <td>132</td>\n",
       "    </tr>\n",
       "  </tbody>\n",
       "</table>\n",
       "</div>"
      ],
      "text/plain": [
       "   MYCT  MMIN   MMAX  CACH  CHMIN  CHMAX  PRP  ERP\n",
       "0   125   256   6000   256     16    128  198  199\n",
       "1    29  8000  32000    32      8     32  269  253\n",
       "2    29  8000  32000    32      8     32  220  253\n",
       "3    29  8000  32000    32      8     32  172  253\n",
       "4    29  8000  16000    32      8     16  132  132"
      ]
     },
     "execution_count": 18,
     "metadata": {},
     "output_type": "execute_result"
    }
   ],
   "source": [
    "# view the top 5 rows of numerical variables\n",
    "\n",
    "df[numerical].head()"
   ]
  },
  {
   "cell_type": "markdown",
   "metadata": {},
   "source": [
    "We can see that we have eight numerical variables in the dataset. All the eight numerical variables are of discrete type.\n",
    "\n",
    "On closer inspection, we find that **PRP** is a redundant column in the dataframe. It denotes **published relative performance**. Our target is to predict **estimated relative performance**. So, we should delete **PRP** from the dataframe."
   ]
  },
  {
   "cell_type": "markdown",
   "metadata": {},
   "source": [
    "**Summary : types of variables**\n",
    "\n",
    "\n",
    "- There are 2 categorical variables and 8 numerical variables.\n",
    "\n",
    "- The 2 categorical variables, **Vendor Name** and **Model Name** are 2 non-predictive attributes as given in the dataset description. So, I do not use them for model building.\n",
    "\n",
    "- All of the 8 numerical variables are of discrete type.\n",
    "\n",
    "- Out of the 8 numerical variables, **PRP** is the linear regression's guess. It is redundant column. I do not use it for model building.\n",
    "\n",
    "- **ERP** (estimated relative performance is the goal field). It is the target variable."
   ]
  },
  {
   "cell_type": "markdown",
   "metadata": {},
   "source": [
    "## 10. Detect problems within variables"
   ]
  },
  {
   "cell_type": "markdown",
   "metadata": {},
   "source": [
    "### Detect missing values"
   ]
  },
  {
   "cell_type": "code",
   "execution_count": 23,
   "metadata": {},
   "outputs": [
    {
     "data": {
      "text/plain": [
       "Vendor Name    0\n",
       "Model Name     0\n",
       "MYCT           0\n",
       "MMIN           0\n",
       "MMAX           0\n",
       "CACH           0\n",
       "CHMIN          0\n",
       "CHMAX          0\n",
       "PRP            0\n",
       "ERP            0\n",
       "dtype: int64"
      ]
     },
     "execution_count": 23,
     "metadata": {},
     "output_type": "execute_result"
    }
   ],
   "source": [
    "# let's visualise the number of missing values\n",
    "df.isnull().sum()"
   ]
  },
  {
   "cell_type": "markdown",
   "metadata": {},
   "source": [
    "We can confirm that there are no missing values in the dataset."
   ]
  },
  {
   "cell_type": "markdown",
   "metadata": {},
   "source": [
    "### Outliers in discrete variables"
   ]
  },
  {
   "cell_type": "code",
   "execution_count": 24,
   "metadata": {},
   "outputs": [
    {
     "data": {
      "text/html": [
       "<div>\n",
       "<style scoped>\n",
       "    .dataframe tbody tr th:only-of-type {\n",
       "        vertical-align: middle;\n",
       "    }\n",
       "\n",
       "    .dataframe tbody tr th {\n",
       "        vertical-align: top;\n",
       "    }\n",
       "\n",
       "    .dataframe thead th {\n",
       "        text-align: right;\n",
       "    }\n",
       "</style>\n",
       "<table border=\"1\" class=\"dataframe\">\n",
       "  <thead>\n",
       "    <tr style=\"text-align: right;\">\n",
       "      <th></th>\n",
       "      <th>MYCT</th>\n",
       "      <th>MMIN</th>\n",
       "      <th>MMAX</th>\n",
       "      <th>CACH</th>\n",
       "      <th>CHMIN</th>\n",
       "      <th>CHMAX</th>\n",
       "      <th>PRP</th>\n",
       "      <th>ERP</th>\n",
       "    </tr>\n",
       "  </thead>\n",
       "  <tbody>\n",
       "    <tr>\n",
       "      <th>count</th>\n",
       "      <td>209.0000</td>\n",
       "      <td>209.0000</td>\n",
       "      <td>209.0000</td>\n",
       "      <td>209.0000</td>\n",
       "      <td>209.0000</td>\n",
       "      <td>209.0000</td>\n",
       "      <td>209.0000</td>\n",
       "      <td>209.0000</td>\n",
       "    </tr>\n",
       "    <tr>\n",
       "      <th>mean</th>\n",
       "      <td>203.8230</td>\n",
       "      <td>2,867.9809</td>\n",
       "      <td>11,796.1531</td>\n",
       "      <td>25.2057</td>\n",
       "      <td>4.6986</td>\n",
       "      <td>18.2679</td>\n",
       "      <td>105.6220</td>\n",
       "      <td>99.3301</td>\n",
       "    </tr>\n",
       "    <tr>\n",
       "      <th>std</th>\n",
       "      <td>260.2629</td>\n",
       "      <td>3,878.7428</td>\n",
       "      <td>11,726.5644</td>\n",
       "      <td>40.6287</td>\n",
       "      <td>6.8163</td>\n",
       "      <td>25.9973</td>\n",
       "      <td>160.8307</td>\n",
       "      <td>154.7571</td>\n",
       "    </tr>\n",
       "    <tr>\n",
       "      <th>min</th>\n",
       "      <td>17.0000</td>\n",
       "      <td>64.0000</td>\n",
       "      <td>64.0000</td>\n",
       "      <td>0.0000</td>\n",
       "      <td>0.0000</td>\n",
       "      <td>0.0000</td>\n",
       "      <td>6.0000</td>\n",
       "      <td>15.0000</td>\n",
       "    </tr>\n",
       "    <tr>\n",
       "      <th>25%</th>\n",
       "      <td>50.0000</td>\n",
       "      <td>768.0000</td>\n",
       "      <td>4,000.0000</td>\n",
       "      <td>0.0000</td>\n",
       "      <td>1.0000</td>\n",
       "      <td>5.0000</td>\n",
       "      <td>27.0000</td>\n",
       "      <td>28.0000</td>\n",
       "    </tr>\n",
       "    <tr>\n",
       "      <th>50%</th>\n",
       "      <td>110.0000</td>\n",
       "      <td>2,000.0000</td>\n",
       "      <td>8,000.0000</td>\n",
       "      <td>8.0000</td>\n",
       "      <td>2.0000</td>\n",
       "      <td>8.0000</td>\n",
       "      <td>50.0000</td>\n",
       "      <td>45.0000</td>\n",
       "    </tr>\n",
       "    <tr>\n",
       "      <th>75%</th>\n",
       "      <td>225.0000</td>\n",
       "      <td>4,000.0000</td>\n",
       "      <td>16,000.0000</td>\n",
       "      <td>32.0000</td>\n",
       "      <td>6.0000</td>\n",
       "      <td>24.0000</td>\n",
       "      <td>113.0000</td>\n",
       "      <td>101.0000</td>\n",
       "    </tr>\n",
       "    <tr>\n",
       "      <th>max</th>\n",
       "      <td>1,500.0000</td>\n",
       "      <td>32,000.0000</td>\n",
       "      <td>64,000.0000</td>\n",
       "      <td>256.0000</td>\n",
       "      <td>52.0000</td>\n",
       "      <td>176.0000</td>\n",
       "      <td>1,150.0000</td>\n",
       "      <td>1,238.0000</td>\n",
       "    </tr>\n",
       "  </tbody>\n",
       "</table>\n",
       "</div>"
      ],
      "text/plain": [
       "            MYCT        MMIN        MMAX     CACH    CHMIN    CHMAX  \\\n",
       "count   209.0000    209.0000    209.0000 209.0000 209.0000 209.0000   \n",
       "mean    203.8230  2,867.9809 11,796.1531  25.2057   4.6986  18.2679   \n",
       "std     260.2629  3,878.7428 11,726.5644  40.6287   6.8163  25.9973   \n",
       "min      17.0000     64.0000     64.0000   0.0000   0.0000   0.0000   \n",
       "25%      50.0000    768.0000  4,000.0000   0.0000   1.0000   5.0000   \n",
       "50%     110.0000  2,000.0000  8,000.0000   8.0000   2.0000   8.0000   \n",
       "75%     225.0000  4,000.0000 16,000.0000  32.0000   6.0000  24.0000   \n",
       "max   1,500.0000 32,000.0000 64,000.0000 256.0000  52.0000 176.0000   \n",
       "\n",
       "             PRP        ERP  \n",
       "count   209.0000   209.0000  \n",
       "mean    105.6220    99.3301  \n",
       "std     160.8307   154.7571  \n",
       "min       6.0000    15.0000  \n",
       "25%      27.0000    28.0000  \n",
       "50%      50.0000    45.0000  \n",
       "75%     113.0000   101.0000  \n",
       "max   1,150.0000 1,238.0000  "
      ]
     },
     "execution_count": 24,
     "metadata": {},
     "output_type": "execute_result"
    }
   ],
   "source": [
    "# let's view the summary statistics of the dataset\n",
    "df.describe()"
   ]
  },
  {
   "cell_type": "code",
   "execution_count": 27,
   "metadata": {},
   "outputs": [
    {
     "name": "stdout",
     "output_type": "stream",
     "text": [
      "MYCT\n",
      "50     0.1196\n",
      "140    0.0431\n",
      "26     0.0383\n",
      "300    0.0383\n",
      "56     0.0335\n",
      "320    0.0335\n",
      "38     0.0335\n",
      "180    0.0335\n",
      "200    0.0287\n",
      "75     0.0287\n",
      "105    0.0287\n",
      "800    0.0287\n",
      "143    0.0239\n",
      "160    0.0239\n",
      "900    0.0239\n",
      "110    0.0191\n",
      "25     0.0191\n",
      "29     0.0191\n",
      "23     0.0191\n",
      "60     0.0191\n",
      "400    0.0191\n",
      "115    0.0144\n",
      "100    0.0144\n",
      "225    0.0144\n",
      "250    0.0144\n",
      "92     0.0144\n",
      "30     0.0144\n",
      "125    0.0144\n",
      "480    0.0144\n",
      "330    0.0144\n",
      "57     0.0096\n",
      "1500   0.0096\n",
      "59     0.0096\n",
      "240    0.0096\n",
      "133    0.0096\n",
      "72     0.0096\n",
      "810    0.0096\n",
      "700    0.0096\n",
      "40     0.0096\n",
      "17     0.0096\n",
      "1100   0.0096\n",
      "84     0.0048\n",
      "124    0.0048\n",
      "116    0.0048\n",
      "203    0.0048\n",
      "70     0.0048\n",
      "52     0.0048\n",
      "175    0.0048\n",
      "350    0.0048\n",
      "167    0.0048\n",
      "112    0.0048\n",
      "185    0.0048\n",
      "64     0.0048\n",
      "48     0.0048\n",
      "35     0.0048\n",
      "600    0.0048\n",
      "90     0.0048\n",
      "220    0.0048\n",
      "150    0.0048\n",
      "98     0.0048\n",
      "Name: count, dtype: float64\n",
      "\n",
      "MMIN\n",
      "2000    0.2584\n",
      "1000    0.1818\n",
      "512     0.1053\n",
      "4000    0.1053\n",
      "8000    0.0957\n",
      "256     0.0622\n",
      "768     0.0478\n",
      "16000   0.0335\n",
      "384     0.0096\n",
      "5240    0.0096\n",
      "2620    0.0096\n",
      "1310    0.0096\n",
      "3100    0.0096\n",
      "262     0.0096\n",
      "2300    0.0048\n",
      "128     0.0048\n",
      "1500    0.0048\n",
      "5000    0.0048\n",
      "524     0.0048\n",
      "500     0.0048\n",
      "64      0.0048\n",
      "3000    0.0048\n",
      "32000   0.0048\n",
      "192     0.0048\n",
      "96      0.0048\n",
      "Name: count, dtype: float64\n",
      "\n",
      "MMAX\n",
      "8000    0.2057\n",
      "16000   0.1675\n",
      "4000    0.1579\n",
      "32000   0.1100\n",
      "2000    0.0813\n",
      "12000   0.0478\n",
      "1000    0.0335\n",
      "6000    0.0287\n",
      "3000    0.0239\n",
      "5000    0.0239\n",
      "64000   0.0191\n",
      "24000   0.0191\n",
      "6200    0.0144\n",
      "10480   0.0096\n",
      "20970   0.0096\n",
      "2620    0.0096\n",
      "512     0.0096\n",
      "6300    0.0048\n",
      "64      0.0048\n",
      "4500    0.0048\n",
      "768     0.0048\n",
      "3500    0.0048\n",
      "1500    0.0048\n",
      "Name: count, dtype: float64\n",
      "\n",
      "CACH\n",
      "0     0.3301\n",
      "8     0.1483\n",
      "32    0.1100\n",
      "64    0.0957\n",
      "16    0.0670\n",
      "4     0.0383\n",
      "24    0.0335\n",
      "128   0.0287\n",
      "6     0.0239\n",
      "2     0.0191\n",
      "30    0.0191\n",
      "256   0.0096\n",
      "112   0.0096\n",
      "48    0.0096\n",
      "9     0.0096\n",
      "1     0.0096\n",
      "131   0.0096\n",
      "65    0.0096\n",
      "142   0.0048\n",
      "12    0.0048\n",
      "160   0.0048\n",
      "96    0.0048\n",
      "Name: count, dtype: float64\n",
      "\n",
      "CHMIN\n",
      "1    0.4498\n",
      "3    0.1340\n",
      "8    0.0861\n",
      "6    0.0766\n",
      "12   0.0526\n",
      "16   0.0478\n",
      "4    0.0383\n",
      "5    0.0335\n",
      "2    0.0287\n",
      "0    0.0239\n",
      "52   0.0096\n",
      "32   0.0048\n",
      "7    0.0048\n",
      "24   0.0048\n",
      "26   0.0048\n",
      "Name: count, dtype: float64\n",
      "\n",
      "CHMAX\n",
      "6     0.1435\n",
      "24    0.1148\n",
      "8     0.0957\n",
      "32    0.0718\n",
      "5     0.0622\n",
      "16    0.0574\n",
      "2     0.0526\n",
      "4     0.0526\n",
      "1     0.0478\n",
      "3     0.0431\n",
      "12    0.0383\n",
      "0     0.0239\n",
      "20    0.0239\n",
      "64    0.0239\n",
      "10    0.0191\n",
      "14    0.0191\n",
      "54    0.0144\n",
      "38    0.0144\n",
      "104   0.0096\n",
      "7     0.0096\n",
      "128   0.0096\n",
      "176   0.0096\n",
      "112   0.0048\n",
      "31    0.0048\n",
      "48    0.0048\n",
      "19    0.0048\n",
      "13    0.0048\n",
      "28    0.0048\n",
      "26    0.0048\n",
      "52    0.0048\n",
      "15    0.0048\n",
      "Name: count, dtype: float64\n",
      "\n"
     ]
    }
   ],
   "source": [
    "# outlies in discrete variables\n",
    "\n",
    "for var in ['MYCT', 'MMIN', 'MMAX', 'CACH', 'CHMIN', 'CHMAX']:\n",
    "    print(df[var].value_counts() / float(len(df)))\n",
    "    print()"
   ]
  },
  {
   "cell_type": "code",
   "execution_count": 28,
   "metadata": {},
   "outputs": [
    {
     "data": {
      "image/png": "[encoded data removed]",
      "text/plain": [
       "<Figure size 1600x1000 with 1 Axes>"
      ]
     },
     "metadata": {},
     "output_type": "display_data"
    },
    {
     "data": {
      "image/png": "[encoded data removed]",
      "text/plain": [
       "<Figure size 1600x1000 with 1 Axes>"
      ]
     },
     "metadata": {},
     "output_type": "display_data"
    },
    {
     "data": {
      "image/png": "[encoded data removed]",
      "text/plain": [
       "<Figure size 1600x1000 with 1 Axes>"
      ]
     },
     "metadata": {},
     "output_type": "display_data"
    },
    {
     "data": {
      "image/png": "[encoded data removed]",
      "text/plain": [
       "<Figure size 1600x1000 with 1 Axes>"
      ]
     },
     "metadata": {},
     "output_type": "display_data"
    },
    {
     "data": {
      "image/png": "[encoded data removed]",
      "text/plain": [
       "<Figure size 1600x1000 with 1 Axes>"
      ]
     },
     "metadata": {},
     "output_type": "display_data"
    },
    {
     "data": {
      "image/png": "[encoded data removed]",
      "text/plain": [
       "<Figure size 1600x1000 with 1 Axes>"
      ]
     },
     "metadata": {},
     "output_type": "display_data"
    }
   ],
   "source": [
    "# detect outliers in discrete variables\n",
    "\n",
    "for var in ['MYCT', 'MMIN', 'MMAX', 'CACH', 'CHMIN', 'CHMAX']:\n",
    "    plt.figure(figsize=(16,10))\n",
    "    (df.groupby(var)[var].count() / float(len(df))).plot.bar()\n",
    "    plt.ylabel('Percentage of observations per label')\n",
    "    plt.title(var)\n",
    "    plt.show()"
   ]
  },
  {
   "cell_type": "markdown",
   "metadata": {},
   "source": [
    "From the above plot, we can see that the discrete variables show values that are shared by a tiny proportion of variable values\n",
    "in the dataset. For linear regression modeling, this does not cause any problem."
   ]
  },
  {
   "cell_type": "markdown",
   "metadata": {},
   "source": [
    "### Number of labels: cardinality\n",
    "\n",
    "Now, I will examine the categorical variable **Vendor Name**. First I will determine whether it show high cardinality. This is a high number of labels."
   ]
  },
  {
   "cell_type": "code",
   "execution_count": 23,
   "metadata": {},
   "outputs": [
    {
     "data": {
      "image/png": "[encoded data removed]",
      "text/plain": [
       "<Figure size 864x576 with 1 Axes>"
      ]
     },
     "metadata": {
      "needs_background": "light"
     },
     "output_type": "display_data"
    }
   ],
   "source": [
    "# plot the categorical variable\n",
    "\n",
    "plt.figure(figsize=(12,8))\n",
    "(df['Vendor Name'].value_counts()).plot.bar()\n",
    "plt.title('Number of categories in Vendor Name variable')\n",
    "plt.xlabel('Vendor Name')\n",
    "plt.ylabel('Number of different categories')\n",
    "plt.show()\n"
   ]
  },
  {
   "cell_type": "markdown",
   "metadata": {},
   "source": [
    "We can see that the **Vendor Name** variable, contain only a few labels. So, we do not have to deal with high cardinality."
   ]
  },
  {
   "cell_type": "markdown",
   "metadata": {},
   "source": [
    "## 11. Linear Regression Modeling\n",
    "\n",
    "\n",
    "Now, I discuss the most important part of this project which is the Linear Regression model building. \n",
    "\n",
    "First of all, I will divide the dataset into categorical and numerical variables as follows:-"
   ]
  },
  {
   "cell_type": "markdown",
   "metadata": {},
   "source": [
    "### Divide the dataset into categorical and numerical variables\n",
    "\n"
   ]
  },
  {
   "cell_type": "code",
   "execution_count": 33,
   "metadata": {},
   "outputs": [],
   "source": [
    "df_cat = df.iloc[:,:2]\n",
    "\n",
    "df_num = df.iloc[:, 2:]"
   ]
  },
  {
   "cell_type": "code",
   "execution_count": 34,
   "metadata": {},
   "outputs": [
    {
     "data": {
      "text/html": [
       "<div>\n",
       "<style scoped>\n",
       "    .dataframe tbody tr th:only-of-type {\n",
       "        vertical-align: middle;\n",
       "    }\n",
       "\n",
       "    .dataframe tbody tr th {\n",
       "        vertical-align: top;\n",
       "    }\n",
       "\n",
       "    .dataframe thead th {\n",
       "        text-align: right;\n",
       "    }\n",
       "</style>\n",
       "<table border=\"1\" class=\"dataframe\">\n",
       "  <thead>\n",
       "    <tr style=\"text-align: right;\">\n",
       "      <th></th>\n",
       "      <th>MYCT</th>\n",
       "      <th>MMIN</th>\n",
       "      <th>MMAX</th>\n",
       "      <th>CACH</th>\n",
       "      <th>CHMIN</th>\n",
       "      <th>CHMAX</th>\n",
       "      <th>PRP</th>\n",
       "      <th>ERP</th>\n",
       "    </tr>\n",
       "  </thead>\n",
       "  <tbody>\n",
       "    <tr>\n",
       "      <th>0</th>\n",
       "      <td>125</td>\n",
       "      <td>256</td>\n",
       "      <td>6000</td>\n",
       "      <td>256</td>\n",
       "      <td>16</td>\n",
       "      <td>128</td>\n",
       "      <td>198</td>\n",
       "      <td>199</td>\n",
       "    </tr>\n",
       "    <tr>\n",
       "      <th>1</th>\n",
       "      <td>29</td>\n",
       "      <td>8000</td>\n",
       "      <td>32000</td>\n",
       "      <td>32</td>\n",
       "      <td>8</td>\n",
       "      <td>32</td>\n",
       "      <td>269</td>\n",
       "      <td>253</td>\n",
       "    </tr>\n",
       "    <tr>\n",
       "      <th>2</th>\n",
       "      <td>29</td>\n",
       "      <td>8000</td>\n",
       "      <td>32000</td>\n",
       "      <td>32</td>\n",
       "      <td>8</td>\n",
       "      <td>32</td>\n",
       "      <td>220</td>\n",
       "      <td>253</td>\n",
       "    </tr>\n",
       "    <tr>\n",
       "      <th>3</th>\n",
       "      <td>29</td>\n",
       "      <td>8000</td>\n",
       "      <td>32000</td>\n",
       "      <td>32</td>\n",
       "      <td>8</td>\n",
       "      <td>32</td>\n",
       "      <td>172</td>\n",
       "      <td>253</td>\n",
       "    </tr>\n",
       "    <tr>\n",
       "      <th>4</th>\n",
       "      <td>29</td>\n",
       "      <td>8000</td>\n",
       "      <td>16000</td>\n",
       "      <td>32</td>\n",
       "      <td>8</td>\n",
       "      <td>16</td>\n",
       "      <td>132</td>\n",
       "      <td>132</td>\n",
       "    </tr>\n",
       "  </tbody>\n",
       "</table>\n",
       "</div>"
      ],
      "text/plain": [
       "   MYCT  MMIN   MMAX  CACH  CHMIN  CHMAX  PRP  ERP\n",
       "0   125   256   6000   256     16    128  198  199\n",
       "1    29  8000  32000    32      8     32  269  253\n",
       "2    29  8000  32000    32      8     32  220  253\n",
       "3    29  8000  32000    32      8     32  172  253\n",
       "4    29  8000  16000    32      8     16  132  132"
      ]
     },
     "execution_count": 34,
     "metadata": {},
     "output_type": "execute_result"
    }
   ],
   "source": [
    "df_num.head()"
   ]
  },
  {
   "cell_type": "markdown",
   "metadata": {},
   "source": [
    "### Select the predictor and target variables\n"
   ]
  },
  {
   "cell_type": "code",
   "execution_count": 35,
   "metadata": {},
   "outputs": [],
   "source": [
    "X = df_num.iloc[:,0:6]\n",
    "\n",
    "y = df_num.iloc[:,-1]"
   ]
  },
  {
   "cell_type": "markdown",
   "metadata": {},
   "source": [
    "### Create separate train and test sets"
   ]
  },
  {
   "cell_type": "code",
   "execution_count": 36,
   "metadata": {},
   "outputs": [],
   "source": [
    "from sklearn.model_selection import train_test_split\n",
    "\n",
    "X_train, X_test, y_train, y_test = train_test_split(X,y,test_size = 0.3,random_state = 0)"
   ]
  },
  {
   "cell_type": "markdown",
   "metadata": {},
   "source": [
    "### View the dimensions of X_train, X_test, y_train, y_test"
   ]
  },
  {
   "cell_type": "code",
   "execution_count": 37,
   "metadata": {},
   "outputs": [
    {
     "data": {
      "text/plain": [
       "((146, 6), (146,))"
      ]
     },
     "execution_count": 37,
     "metadata": {},
     "output_type": "execute_result"
    }
   ],
   "source": [
    "X_train.shape, y_train.shape"
   ]
  },
  {
   "cell_type": "code",
   "execution_count": 38,
   "metadata": {},
   "outputs": [
    {
     "data": {
      "text/plain": [
       "((63, 6), (63,))"
      ]
     },
     "execution_count": 38,
     "metadata": {},
     "output_type": "execute_result"
    }
   ],
   "source": [
    "X_test.shape, y_test.shape"
   ]
  },
  {
   "cell_type": "code",
   "execution_count": 39,
   "metadata": {},
   "outputs": [
    {
     "data": {
      "text/html": [
       "<div>\n",
       "<style scoped>\n",
       "    .dataframe tbody tr th:only-of-type {\n",
       "        vertical-align: middle;\n",
       "    }\n",
       "\n",
       "    .dataframe tbody tr th {\n",
       "        vertical-align: top;\n",
       "    }\n",
       "\n",
       "    .dataframe thead th {\n",
       "        text-align: right;\n",
       "    }\n",
       "</style>\n",
       "<table border=\"1\" class=\"dataframe\">\n",
       "  <thead>\n",
       "    <tr style=\"text-align: right;\">\n",
       "      <th></th>\n",
       "      <th>MYCT</th>\n",
       "      <th>MMIN</th>\n",
       "      <th>MMAX</th>\n",
       "      <th>CACH</th>\n",
       "      <th>CHMIN</th>\n",
       "      <th>CHMAX</th>\n",
       "    </tr>\n",
       "  </thead>\n",
       "  <tbody>\n",
       "    <tr>\n",
       "      <th>61</th>\n",
       "      <td>800</td>\n",
       "      <td>256</td>\n",
       "      <td>8000</td>\n",
       "      <td>0</td>\n",
       "      <td>1</td>\n",
       "      <td>4</td>\n",
       "    </tr>\n",
       "    <tr>\n",
       "      <th>24</th>\n",
       "      <td>320</td>\n",
       "      <td>128</td>\n",
       "      <td>6000</td>\n",
       "      <td>0</td>\n",
       "      <td>1</td>\n",
       "      <td>12</td>\n",
       "    </tr>\n",
       "    <tr>\n",
       "      <th>30</th>\n",
       "      <td>25</td>\n",
       "      <td>1310</td>\n",
       "      <td>2620</td>\n",
       "      <td>131</td>\n",
       "      <td>12</td>\n",
       "      <td>24</td>\n",
       "    </tr>\n",
       "    <tr>\n",
       "      <th>60</th>\n",
       "      <td>800</td>\n",
       "      <td>256</td>\n",
       "      <td>8000</td>\n",
       "      <td>0</td>\n",
       "      <td>1</td>\n",
       "      <td>4</td>\n",
       "    </tr>\n",
       "    <tr>\n",
       "      <th>56</th>\n",
       "      <td>220</td>\n",
       "      <td>1000</td>\n",
       "      <td>8000</td>\n",
       "      <td>16</td>\n",
       "      <td>1</td>\n",
       "      <td>2</td>\n",
       "    </tr>\n",
       "  </tbody>\n",
       "</table>\n",
       "</div>"
      ],
      "text/plain": [
       "    MYCT  MMIN  MMAX  CACH  CHMIN  CHMAX\n",
       "61   800   256  8000     0      1      4\n",
       "24   320   128  6000     0      1     12\n",
       "30    25  1310  2620   131     12     24\n",
       "60   800   256  8000     0      1      4\n",
       "56   220  1000  8000    16      1      2"
      ]
     },
     "execution_count": 39,
     "metadata": {},
     "output_type": "execute_result"
    }
   ],
   "source": [
    "# let's inspect the training dataframe\n",
    "\n",
    "X_train.head()"
   ]
  },
  {
   "cell_type": "code",
   "execution_count": 40,
   "metadata": {},
   "outputs": [
    {
     "data": {
      "text/html": [
       "<div>\n",
       "<style scoped>\n",
       "    .dataframe tbody tr th:only-of-type {\n",
       "        vertical-align: middle;\n",
       "    }\n",
       "\n",
       "    .dataframe tbody tr th {\n",
       "        vertical-align: top;\n",
       "    }\n",
       "\n",
       "    .dataframe thead th {\n",
       "        text-align: right;\n",
       "    }\n",
       "</style>\n",
       "<table border=\"1\" class=\"dataframe\">\n",
       "  <thead>\n",
       "    <tr style=\"text-align: right;\">\n",
       "      <th></th>\n",
       "      <th>MYCT</th>\n",
       "      <th>MMIN</th>\n",
       "      <th>MMAX</th>\n",
       "      <th>CACH</th>\n",
       "      <th>CHMIN</th>\n",
       "      <th>CHMAX</th>\n",
       "    </tr>\n",
       "  </thead>\n",
       "  <tbody>\n",
       "    <tr>\n",
       "      <th>count</th>\n",
       "      <td>146.0000</td>\n",
       "      <td>146.0000</td>\n",
       "      <td>146.0000</td>\n",
       "      <td>146.0000</td>\n",
       "      <td>146.0000</td>\n",
       "      <td>146.0000</td>\n",
       "    </tr>\n",
       "    <tr>\n",
       "      <th>mean</th>\n",
       "      <td>205.8082</td>\n",
       "      <td>2,799.9726</td>\n",
       "      <td>11,741.2055</td>\n",
       "      <td>25.5685</td>\n",
       "      <td>4.5479</td>\n",
       "      <td>19.2397</td>\n",
       "    </tr>\n",
       "    <tr>\n",
       "      <th>std</th>\n",
       "      <td>249.6152</td>\n",
       "      <td>3,865.5077</td>\n",
       "      <td>11,879.6456</td>\n",
       "      <td>41.6903</td>\n",
       "      <td>6.5770</td>\n",
       "      <td>28.8810</td>\n",
       "    </tr>\n",
       "    <tr>\n",
       "      <th>min</th>\n",
       "      <td>17.0000</td>\n",
       "      <td>64.0000</td>\n",
       "      <td>64.0000</td>\n",
       "      <td>0.0000</td>\n",
       "      <td>0.0000</td>\n",
       "      <td>0.0000</td>\n",
       "    </tr>\n",
       "    <tr>\n",
       "      <th>25%</th>\n",
       "      <td>50.0000</td>\n",
       "      <td>512.0000</td>\n",
       "      <td>4,000.0000</td>\n",
       "      <td>0.0000</td>\n",
       "      <td>1.0000</td>\n",
       "      <td>5.0000</td>\n",
       "    </tr>\n",
       "    <tr>\n",
       "      <th>50%</th>\n",
       "      <td>115.5000</td>\n",
       "      <td>2,000.0000</td>\n",
       "      <td>8,000.0000</td>\n",
       "      <td>8.0000</td>\n",
       "      <td>1.5000</td>\n",
       "      <td>8.0000</td>\n",
       "    </tr>\n",
       "    <tr>\n",
       "      <th>75%</th>\n",
       "      <td>240.0000</td>\n",
       "      <td>4,000.0000</td>\n",
       "      <td>16,000.0000</td>\n",
       "      <td>32.0000</td>\n",
       "      <td>6.0000</td>\n",
       "      <td>24.0000</td>\n",
       "    </tr>\n",
       "    <tr>\n",
       "      <th>max</th>\n",
       "      <td>1,500.0000</td>\n",
       "      <td>32,000.0000</td>\n",
       "      <td>64,000.0000</td>\n",
       "      <td>256.0000</td>\n",
       "      <td>52.0000</td>\n",
       "      <td>176.0000</td>\n",
       "    </tr>\n",
       "  </tbody>\n",
       "</table>\n",
       "</div>"
      ],
      "text/plain": [
       "            MYCT        MMIN        MMAX     CACH    CHMIN    CHMAX\n",
       "count   146.0000    146.0000    146.0000 146.0000 146.0000 146.0000\n",
       "mean    205.8082  2,799.9726 11,741.2055  25.5685   4.5479  19.2397\n",
       "std     249.6152  3,865.5077 11,879.6456  41.6903   6.5770  28.8810\n",
       "min      17.0000     64.0000     64.0000   0.0000   0.0000   0.0000\n",
       "25%      50.0000    512.0000  4,000.0000   0.0000   1.0000   5.0000\n",
       "50%     115.5000  2,000.0000  8,000.0000   8.0000   1.5000   8.0000\n",
       "75%     240.0000  4,000.0000 16,000.0000  32.0000   6.0000  24.0000\n",
       "max   1,500.0000 32,000.0000 64,000.0000 256.0000  52.0000 176.0000"
      ]
     },
     "execution_count": 40,
     "metadata": {},
     "output_type": "execute_result"
    }
   ],
   "source": [
    "X_train.describe()"
   ]
  },
  {
   "cell_type": "markdown",
   "metadata": {},
   "source": [
    "### Feature Scaling\n"
   ]
  },
  {
   "cell_type": "code",
   "execution_count": 41,
   "metadata": {},
   "outputs": [],
   "source": [
    "# Feature Scaling - I use the StandardScaler from sklearn\n",
    "\n",
    "# import the StandardScaler class from preprocessing library\n",
    "from sklearn.preprocessing import StandardScaler\n",
    "\n",
    "# instantiate an object scaler\n",
    "scaler = StandardScaler()\n",
    "\n",
    "# fit the scaler to the training set and then transform it\n",
    "X_train = scaler.fit_transform(X_train)\n",
    "\n",
    "# transform the test set\n",
    "X_test = scaler.transform(X_test)\n",
    "\n",
    "\n"
   ]
  },
  {
   "cell_type": "markdown",
   "metadata": {},
   "source": [
    "The scaler is now ready, we can use it in a machine learning algorithm when required."
   ]
  },
  {
   "cell_type": "markdown",
   "metadata": {},
   "source": [
    "### Fit the Linear Regression model"
   ]
  },
  {
   "cell_type": "code",
   "execution_count": 42,
   "metadata": {},
   "outputs": [
    {
     "data": {
      "text/html": [
       "<style>#sk-container-id-1 {color: black;}#sk-container-id-1 pre{padding: 0;}#sk-container-id-1 div.sk-toggleable {background-color: white;}#sk-container-id-1 label.sk-toggleable__label {cursor: pointer;display: block;width: 100%;margin-bottom: 0;padding: 0.3em;box-sizing: border-box;text-align: center;}#sk-container-id-1 label.sk-toggleable__label-arrow:before {content: \"▸\";float: left;margin-right: 0.25em;color: #696969;}#sk-container-id-1 label.sk-toggleable__label-arrow:hover:before {color: black;}#sk-container-id-1 div.sk-estimator:hover label.sk-toggleable__label-arrow:before {color: black;}#sk-container-id-1 div.sk-toggleable__content {max-height: 0;max-width: 0;overflow: hidden;text-align: left;background-color: #f0f8ff;}#sk-container-id-1 div.sk-toggleable__content pre {margin: 0.2em;color: black;border-radius: 0.25em;background-color: #f0f8ff;}#sk-container-id-1 input.sk-toggleable__control:checked~div.sk-toggleable__content {max-height: 200px;max-width: 100%;overflow: auto;}#sk-container-id-1 input.sk-toggleable__control:checked~label.sk-toggleable__label-arrow:before {content: \"▾\";}#sk-container-id-1 div.sk-estimator input.sk-toggleable__control:checked~label.sk-toggleable__label {background-color: #d4ebff;}#sk-container-id-1 div.sk-label input.sk-toggleable__control:checked~label.sk-toggleable__label {background-color: #d4ebff;}#sk-container-id-1 input.sk-hidden--visually {border: 0;clip: rect(1px 1px 1px 1px);clip: rect(1px, 1px, 1px, 1px);height: 1px;margin: -1px;overflow: hidden;padding: 0;position: absolute;width: 1px;}#sk-container-id-1 div.sk-estimator {font-family: monospace;background-color: #f0f8ff;border: 1px dotted black;border-radius: 0.25em;box-sizing: border-box;margin-bottom: 0.5em;}#sk-container-id-1 div.sk-estimator:hover {background-color: #d4ebff;}#sk-container-id-1 div.sk-parallel-item::after {content: \"\";width: 100%;border-bottom: 1px solid gray;flex-grow: 1;}#sk-container-id-1 div.sk-label:hover label.sk-toggleable__label {background-color: #d4ebff;}#sk-container-id-1 div.sk-serial::before {content: \"\";position: absolute;border-left: 1px solid gray;box-sizing: border-box;top: 0;bottom: 0;left: 50%;z-index: 0;}#sk-container-id-1 div.sk-serial {display: flex;flex-direction: column;align-items: center;background-color: white;padding-right: 0.2em;padding-left: 0.2em;position: relative;}#sk-container-id-1 div.sk-item {position: relative;z-index: 1;}#sk-container-id-1 div.sk-parallel {display: flex;align-items: stretch;justify-content: center;background-color: white;position: relative;}#sk-container-id-1 div.sk-item::before, #sk-container-id-1 div.sk-parallel-item::before {content: \"\";position: absolute;border-left: 1px solid gray;box-sizing: border-box;top: 0;bottom: 0;left: 50%;z-index: -1;}#sk-container-id-1 div.sk-parallel-item {display: flex;flex-direction: column;z-index: 1;position: relative;background-color: white;}#sk-container-id-1 div.sk-parallel-item:first-child::after {align-self: flex-end;width: 50%;}#sk-container-id-1 div.sk-parallel-item:last-child::after {align-self: flex-start;width: 50%;}#sk-container-id-1 div.sk-parallel-item:only-child::after {width: 0;}#sk-container-id-1 div.sk-dashed-wrapped {border: 1px dashed gray;margin: 0 0.4em 0.5em 0.4em;box-sizing: border-box;padding-bottom: 0.4em;background-color: white;}#sk-container-id-1 div.sk-label label {font-family: monospace;font-weight: bold;display: inline-block;line-height: 1.2em;}#sk-container-id-1 div.sk-label-container {text-align: center;}#sk-container-id-1 div.sk-container {/* jupyter's `normalize.less` sets `[hidden] { display: none; }` but bootstrap.min.css set `[hidden] { display: none !important; }` so we also need the `!important` here to be able to override the default hidden behavior on the sphinx rendered scikit-learn.org. See: https://github.com/scikit-learn/scikit-learn/issues/21755 */display: inline-block !important;position: relative;}#sk-container-id-1 div.sk-text-repr-fallback {display: none;}</style><div id=\"sk-container-id-1\" class=\"sk-top-container\"><div class=\"sk-text-repr-fallback\"><pre>LinearRegression()</pre><b>In a Jupyter environment, please rerun this cell to show the HTML representation or trust the notebook. <br />On GitHub, the HTML representation is unable to render, please try loading this page with nbviewer.org.</b></div><div class=\"sk-container\" hidden><div class=\"sk-item\"><div class=\"sk-estimator sk-toggleable\"><input class=\"sk-toggleable__control sk-hidden--visually\" id=\"sk-estimator-id-1\" type=\"checkbox\" checked><label for=\"sk-estimator-id-1\" class=\"sk-toggleable__label sk-toggleable__label-arrow\">LinearRegression</label><div class=\"sk-toggleable__content\"><pre>LinearRegression()</pre></div></div></div></div></div>"
      ],
      "text/plain": [
       "LinearRegression()"
      ]
     },
     "execution_count": 42,
     "metadata": {},
     "output_type": "execute_result"
    }
   ],
   "source": [
    "# fit the linear regression model\n",
    "\n",
    "# import the LinearRegression class from linear_model library\n",
    "from sklearn.linear_model import LinearRegression\n",
    "\n",
    "# instantiate an object lr\n",
    "lr = LinearRegression()\n",
    "\n",
    "\n",
    "# Train the model using the training sets\n",
    "lr.fit(X_train, y_train)\n"
   ]
  },
  {
   "cell_type": "markdown",
   "metadata": {},
   "source": [
    "## 12. Predicting the results\n",
    "\n",
    "\n",
    "I have built the linear regression model. Now it is time to predict the results."
   ]
  },
  {
   "cell_type": "markdown",
   "metadata": {},
   "source": [
    "### Predicting the test set results"
   ]
  },
  {
   "cell_type": "code",
   "execution_count": 43,
   "metadata": {},
   "outputs": [],
   "source": [
    "# Predict on the test data set\n",
    "y_pred = lr.predict(X_test)"
   ]
  },
  {
   "cell_type": "markdown",
   "metadata": {},
   "source": [
    "### Predicting estimated relative CPU performance values"
   ]
  },
  {
   "cell_type": "code",
   "execution_count": 44,
   "metadata": {},
   "outputs": [
    {
     "data": {
      "text/plain": [
       "array([ 53.25899879,  -7.30914167,  85.61134478, 333.46353054,\n",
       "        88.17105392])"
      ]
     },
     "execution_count": 44,
     "metadata": {},
     "output_type": "execute_result"
    }
   ],
   "source": [
    "#print(\"Predicted ERP - estimated relative performance for the first five values\")\n",
    "\n",
    "lr.predict(X_test)[0:5]"
   ]
  },
  {
   "cell_type": "markdown",
   "metadata": {},
   "source": [
    "## 13. Model slope and intercept terms"
   ]
  },
  {
   "cell_type": "markdown",
   "metadata": {},
   "source": [
    "The slope parameters(w) are also called weights or coefficients. They are stored in the **coef_** attribute.\n",
    "\n",
    "The offset or intercept(b) is stored in the **intercept_** attribute.\n",
    "\n",
    "So, the model slope is given by **lr.coef_** and model intercept term is given by **lr.intercept_**."
   ]
  },
  {
   "cell_type": "code",
   "execution_count": 45,
   "metadata": {},
   "outputs": [
    {
     "name": "stdout",
     "output_type": "stream",
     "text": [
      "Number of coefficients: 6\n",
      "Estimated coefficients: [17.70202595 59.11241774 78.35042681 16.53981449 -0.35410978 38.97256261]\n",
      "Estimated intercept: 100.0\n"
     ]
    }
   ],
   "source": [
    "print(\"Number of coefficients:\", len(lr.coef_))\n",
    "\n",
    "print(\"Estimated coefficients: {}\".format(lr.coef_))\n",
    "\n",
    "print(\"Estimated intercept: {}\".format(lr.intercept_))"
   ]
  },
  {
   "cell_type": "markdown",
   "metadata": {},
   "source": [
    "I constructed a dataframe that contains features and estimated coefficients. "
   ]
  },
  {
   "cell_type": "code",
   "execution_count": 46,
   "metadata": {},
   "outputs": [
    {
     "data": {
      "text/html": [
       "<div>\n",
       "<style scoped>\n",
       "    .dataframe tbody tr th:only-of-type {\n",
       "        vertical-align: middle;\n",
       "    }\n",
       "\n",
       "    .dataframe tbody tr th {\n",
       "        vertical-align: top;\n",
       "    }\n",
       "\n",
       "    .dataframe thead th {\n",
       "        text-align: right;\n",
       "    }\n",
       "</style>\n",
       "<table border=\"1\" class=\"dataframe\">\n",
       "  <thead>\n",
       "    <tr style=\"text-align: right;\">\n",
       "      <th></th>\n",
       "      <th>Estimated Coefficients</th>\n",
       "    </tr>\n",
       "    <tr>\n",
       "      <th>Features</th>\n",
       "      <th></th>\n",
       "    </tr>\n",
       "  </thead>\n",
       "  <tbody>\n",
       "    <tr>\n",
       "      <th>0</th>\n",
       "      <td>17.7020</td>\n",
       "    </tr>\n",
       "    <tr>\n",
       "      <th>1</th>\n",
       "      <td>59.1124</td>\n",
       "    </tr>\n",
       "    <tr>\n",
       "      <th>2</th>\n",
       "      <td>78.3504</td>\n",
       "    </tr>\n",
       "    <tr>\n",
       "      <th>3</th>\n",
       "      <td>16.5398</td>\n",
       "    </tr>\n",
       "    <tr>\n",
       "      <th>4</th>\n",
       "      <td>-0.3541</td>\n",
       "    </tr>\n",
       "    <tr>\n",
       "      <th>5</th>\n",
       "      <td>38.9726</td>\n",
       "    </tr>\n",
       "  </tbody>\n",
       "</table>\n",
       "</div>"
      ],
      "text/plain": [
       "          Estimated Coefficients\n",
       "Features                        \n",
       "0                        17.7020\n",
       "1                        59.1124\n",
       "2                        78.3504\n",
       "3                        16.5398\n",
       "4                        -0.3541\n",
       "5                        38.9726"
      ]
     },
     "execution_count": 46,
     "metadata": {},
     "output_type": "execute_result"
    }
   ],
   "source": [
    "dataset = list(zip(pd.DataFrame(X_train).columns, lr.coef_))\n",
    "\n",
    "pd.DataFrame(data = dataset, columns = ['Features', 'Estimated Coefficients']).set_index('Features')"
   ]
  },
  {
   "cell_type": "markdown",
   "metadata": {},
   "source": [
    "## 14. Evaluate model performance\n",
    "\n",
    "\n",
    "I have built the linear regression model and use it to predict the results. Now, it is the time to evaluate the model performance. We want to understand the outcome of our model and we want to know whether the performance is acceptable or not. \n",
    "For regression problems, there are several ways to evaluate the model performance. These are listed below:-\n",
    "\n",
    "\n",
    "•\tRMSE (Root Mean Square Error)\n",
    "\n",
    "•\tR2 Score\n",
    "\n",
    "•\tOverfitting Vs Underfitting\n",
    "\n",
    "•\tCross validation\n",
    "\n",
    "•\tResidual analysis\n",
    "\n",
    "•\tNormality test\n",
    "\n",
    "I have described these measures in following sections:-\n"
   ]
  },
  {
   "cell_type": "markdown",
   "metadata": {},
   "source": [
    "### i.\tRMSE\n",
    "\n",
    "RMSE stands for **Root Mean Square Error**. RMSE is the standard deviation of the residuals. RMSE gives us the standard deviation of the unexplained variance by the model. It can be calculated by taking square root of Mean Squared Error.\n",
    "\n",
    "\n",
    "RMSE is an absolute measure of fit. It gives us how spread the residuals are, given by the standard deviation of the residuals. The more concentrated the data is around the regression line, the lower the residuals and hence lower the standard deviation of residuals. It results in lower values of RMSE. So, lower values of RMSE indicate better fit of data. \n",
    "\n",
    "RMSE can be calculated as follows:-"
   ]
  },
  {
   "cell_type": "code",
   "execution_count": 47,
   "metadata": {},
   "outputs": [
    {
     "name": "stdout",
     "output_type": "stream",
     "text": [
      "RMSE value : 37.99\n"
     ]
    }
   ],
   "source": [
    "# RMSE(Root Mean Square Error)\n",
    "\n",
    "from sklearn.metrics import mean_squared_error\n",
    "mse = mean_squared_error(y_test, y_pred)\n",
    "rmse = np.sqrt(mse)\n",
    "print(\"RMSE value : {:.2f}\".format(rmse))"
   ]
  },
  {
   "cell_type": "markdown",
   "metadata": {},
   "source": [
    "### Interpretation\n",
    "\n",
    "The RMSE value has been found to be 37.99. It means the standard deviation for our prediction is 37.99. So, sometimes we expect the predictions to be off by more than 37.99 and other times we expect less than 37.99. "
   ]
  },
  {
   "cell_type": "markdown",
   "metadata": {},
   "source": [
    "### ii. R2 Score\n",
    "\n",
    "R2 Score is another metric to evaluate performance of a regression model. It is also called **Coefficient of Determination**. It gives us an idea of goodness of fit for the linear regression models. It indicates the percentage of variance that is explained by the model. \n",
    "\n",
    "\n",
    "**R2 Score = Explained Variation/Total Variation**\n",
    "\n",
    "\n",
    "\n",
    "Mathematically, we have\n",
    "\n",
    "\n",
    "\n",
    "$$R^2=1-\\frac{SS_{res}}{SS_{tot}}$$\n",
    "\n",
    "\n",
    "The total sum of squares, $SS_{tot}=\\sum_i(y_i-\\bar{y})^2$\n",
    "\n",
    "The regression sum of squares (explained sum of squares), $SS_{reg}=\\sum_i(f_i-\\bar{y})^2$\n",
    "\n",
    "The sum of squares of residuals (residual sum of squares), $SS_{res}=\\sum_i(y_i-f_i)^2 = \\sum_ie^2_i$\n",
    "\n",
    "\n",
    "\n",
    "\n",
    "In general, the higher the R2 Score value, the better the model fits the data. Usually, its value ranges from 0 to 1. So, we want its value to be as close to 1. Its value can become negative if our model is wrong.\n",
    "\n",
    "\n",
    "\n",
    "R2 score value can be found as follows:-\n"
   ]
  },
  {
   "cell_type": "code",
   "execution_count": 48,
   "metadata": {},
   "outputs": [
    {
     "name": "stdout",
     "output_type": "stream",
     "text": [
      "R2 Score value: 0.92\n"
     ]
    }
   ],
   "source": [
    "# R2 Score\n",
    "\n",
    "from sklearn.metrics import r2_score\n",
    "print(\"R2 Score value: {:.2f}\".format(r2_score(y_test, y_pred)))"
   ]
  },
  {
   "cell_type": "markdown",
   "metadata": {},
   "source": [
    "### Interpretation\n",
    "\n",
    "\n",
    "In business decisions, the benchmark for the R2 score value is 0.7. It means if R2 score value >= 0.7, then the model is good enough to deploy on unseen data whereas if R2 score value < 0.7, then the model is not good enough to deploy. \n",
    "\n",
    "Our R2 score value has been found to be 0.92. It means that this model explains 92% of the variance in our dependent variable. The R2 score value points to an acceptable model. However, we need to look at residuals."
   ]
  },
  {
   "cell_type": "markdown",
   "metadata": {},
   "source": [
    "### iii. Overfitting Vs Underfitting"
   ]
  },
  {
   "cell_type": "code",
   "execution_count": 49,
   "metadata": {},
   "outputs": [
    {
     "name": "stdout",
     "output_type": "stream",
     "text": [
      "Training set score: 0.91\n"
     ]
    }
   ],
   "source": [
    "# Evaluating training set performance\n",
    "\n",
    "print(\"Training set score: {:.2f}\".format(lr.score(X_train, y_train)))"
   ]
  },
  {
   "cell_type": "code",
   "execution_count": 50,
   "metadata": {},
   "outputs": [
    {
     "name": "stdout",
     "output_type": "stream",
     "text": [
      "Test set score: 0.92\n"
     ]
    }
   ],
   "source": [
    "# Evaluating test set performance\n",
    "\n",
    "print(\"Test set score: {:.2f}\".format(lr.score(X_test, y_test)))"
   ]
  },
  {
   "cell_type": "markdown",
   "metadata": {},
   "source": [
    "### Interpretation \n",
    "\n",
    "Training set and test set performances are comparable. An R Square value of 0.92 is very good."
   ]
  },
  {
   "cell_type": "markdown",
   "metadata": {},
   "source": [
    "### iv. Cross validation\n",
    "\n",
    "\n",
    "Cross-validation is a vital step in evaluating a model. It maximizes the amount of data that is used to train the model. \n",
    "\n",
    "In cross-validation, we split the training data into several subgroups. Then we use each of them in turn to evaluate the model \n",
    "fitted on the remaining portion of the data.\n",
    "\n",
    "It helps us to obtain reliable estimates of the model's generalization performance. So, it helps us to understand how well\n",
    "the model performs on unseen data.\n",
    "\n",
    "We can perform cross validation as follows:-"
   ]
  },
  {
   "cell_type": "code",
   "execution_count": 51,
   "metadata": {},
   "outputs": [],
   "source": [
    "# import the library\n",
    "from sklearn.model_selection import cross_val_score\n",
    "\n",
    "# Compute 5-fold cross-validation scores: cv_scores\n",
    "cv_scores = cross_val_score(lr, X, y, cv=5)\n"
   ]
  },
  {
   "cell_type": "code",
   "execution_count": 52,
   "metadata": {},
   "outputs": [
    {
     "name": "stdout",
     "output_type": "stream",
     "text": [
      "[ 0.8484 -0.864   0.7149  0.8755  0.7707]\n"
     ]
    }
   ],
   "source": [
    "# print the 5-fold cross-validation scores\n",
    "print(cv_scores.round(4))"
   ]
  },
  {
   "cell_type": "code",
   "execution_count": 53,
   "metadata": {},
   "outputs": [
    {
     "name": "stdout",
     "output_type": "stream",
     "text": [
      "Average 5-Fold CV Score: 0.4691\n"
     ]
    }
   ],
   "source": [
    "# print the avarage 5-fold cross-validation scores\n",
    "print(\"Average 5-Fold CV Score: {}\".format(np.mean(cv_scores).round(4)))"
   ]
  },
  {
   "cell_type": "markdown",
   "metadata": {},
   "source": [
    "**Interpretation**\n",
    "\n",
    "There is a large fluctuation in the cross validation scores of the model. \n",
    "\n",
    "The average 5-fold cross validation score is very poor and hence the linear regression model is not a great fit to the data."
   ]
  },
  {
   "cell_type": "markdown",
   "metadata": {},
   "source": [
    "### v. Residual analysis\n",
    "\n",
    "\n",
    "A linear regression model may not represent the data appropriately. The model may be a poor fit to the data. So, we should validate our model by defining and examining residual plots. The difference between the observed value of the dependent variable (y) and the predicted value (ŷi) is called the **residual** and is denoted by e. The scatter-plot of these residuals is called **residual plot**.\n",
    "\n",
    "\n",
    "If the data points in a residual plot are randomly dispersed around horizontal axis and an approximate zero residual mean, a linear regression model may be appropriate for the data. Otherwise a non-linear model may be more appropriate.\n",
    "\n",
    "\n",
    "Now, I will plot the residual errors. "
   ]
  },
  {
   "cell_type": "code",
   "execution_count": 71,
   "metadata": {},
   "outputs": [
    {
     "data": {
      "image/png": "[encoded data removed]",
      "text/plain": [
       "<Figure size 1000x800 with 1 Axes>"
      ]
     },
     "metadata": {},
     "output_type": "display_data"
    }
   ],
   "source": [
    "\n",
    "# Plot for residual error\n",
    "%matplotlib inline\n",
    "# adjust the figure size\n",
    "plt.figure(figsize=(10,8))\n",
    "\n",
    "# plotting residual errors in training data\n",
    "plt.scatter(lr.predict(X_train), lr.predict(X_train) - y_train, c = 'g', s = 40, label = 'Train data', alpha = 0.5)\n",
    "\n",
    "\n",
    "# plotting residual errors in test data\n",
    "plt.scatter(lr.predict(X_test), lr.predict(X_test) - y_test, c = 'r', s = 40, label = 'Test data')\n",
    "\n",
    "# plotting line for zero residual error\n",
    "plt.hlines(y = 0, xmin = -100, xmax = 1000, linewidth = 3)\n",
    "\n",
    "# plotting legend\n",
    "plt.legend(loc = 'upper right')\n",
    "\n",
    "# plot title\n",
    "plt.title(\"Residual errors plot\")\n",
    "\n",
    "# function to show plot\n",
    "plt.show()"
   ]
  },
  {
   "cell_type": "markdown",
   "metadata": {},
   "source": [
    "### Interpretation of residual plots\n",
    "\n",
    "What do you think of these plots? Remember we are dealing with multivariate regression.\n",
    "We have to look at more than one set of plots!\n",
    "\n",
    "A regression model that has nicely fit the data will have its residuals display randomness (i.e., lack of any pattern). This comes from the **homoscedasticity** assumption of regression modeling. Typically scatter plots between residuals and predictors are used to confirm the assumption. Any pattern in the scatter-plot, results in a violation of this property and points towards a poor fitting model.\n",
    "\n",
    "Residual errors plot from a good model show that the data is randomly scattered around line zero. The plot does not display any pattern in the residuals. \n",
    "We see a pattern, and we see that the residuals are larger when x grows, which is a sign of heteroscedasticity.\n",
    "Hence, we can conclude that the Linear Regression model is not a good fit to these data."
   ]
  },
  {
   "cell_type": "markdown",
   "metadata": {},
   "source": [
    "### vi. Normality test (Q-Q Plot)\n",
    "\n",
    "This is a visual or graphical test to check for normality of the data. This test helps us identify outliers and skewness. The test is performed by plotting the data verses theoretical quartiles. The same data is also plotted on a histogram to confirm normality.\n",
    "\n",
    "Any deviation from the straight line in normal plot or skewness/multi-modality in histogram shows that the data does not pass the normality test.\n",
    "\n",
    "\n",
    "Now, I will plot the Q-Q Plot as follows:-\n"
   ]
  },
  {
   "cell_type": "code",
   "execution_count": 46,
   "metadata": {},
   "outputs": [
    {
     "data": {
      "image/png": "[encoded data removed]",
      "text/plain": [
       "<Figure size 1080x432 with 2 Axes>"
      ]
     },
     "metadata": {
      "needs_background": "light"
     },
     "output_type": "display_data"
    },
    {
     "data": {
      "image/png": "[encoded data removed]",
      "text/plain": [
       "<Figure size 1080x432 with 2 Axes>"
      ]
     },
     "metadata": {
      "needs_background": "light"
     },
     "output_type": "display_data"
    },
    {
     "data": {
      "image/png": "[encoded data removed]",
      "text/plain": [
       "<Figure size 1080x432 with 2 Axes>"
      ]
     },
     "metadata": {
      "needs_background": "light"
     },
     "output_type": "display_data"
    },
    {
     "data": {
      "image/png": "[encoded data removed]",
      "text/plain": [
       "<Figure size 1080x432 with 2 Axes>"
      ]
     },
     "metadata": {
      "needs_background": "light"
     },
     "output_type": "display_data"
    },
    {
     "data": {
      "image/png": "[encoded data removed]",
      "text/plain": [
       "<Figure size 1080x432 with 2 Axes>"
      ]
     },
     "metadata": {
      "needs_background": "light"
     },
     "output_type": "display_data"
    },
    {
     "data": {
      "image/png": "[encoded data removed]",
      "text/plain": [
       "<Figure size 1080x432 with 2 Axes>"
      ]
     },
     "metadata": {
      "needs_background": "light"
     },
     "output_type": "display_data"
    }
   ],
   "source": [
    "# plotting the Q-Q plot\n",
    "\n",
    "import pylab \n",
    "import scipy.stats as stats\n",
    "\n",
    "\n",
    "for var in ['MYCT', 'MMIN', 'MMAX', 'CACH', 'CHMIN', 'CHMAX']:\n",
    "    \n",
    "    plt.figure(figsize=(15,6))\n",
    "\n",
    "    plt.subplot(1, 2, 1)\n",
    "    df[var].hist()\n",
    "    plt.title('Distribution of '+ var)\n",
    "\n",
    "    plt.subplot(1, 2, 2)\n",
    "    stats.probplot(df[var], dist=\"norm\", plot=pylab)\n",
    "    plt.title('Q-Q plot of '+ var)\n",
    "\n",
    "    plt.show() \n"
   ]
  },
  {
   "cell_type": "markdown",
   "metadata": {},
   "source": [
    "**Interpretation**\n",
    "\n",
    "\n",
    "From the distribution plots, we can see that all the above variables are positively skewed. The Q-Q plot of all the variables confirm that the variables are not normally distributed.\n",
    "\n",
    "Hence, the variables do not pass the normality test."
   ]
  },
  {
   "cell_type": "markdown",
   "metadata": {},
   "source": [
    "## 15. Conclusion\n",
    "\n",
    "\n",
    "\n",
    "I carry out residual analysis to check for homoscedasticity assumption. Residual errors plot show that the data is randomly scattered around line zero. The plot does not display any pattern in the residuals.  Hence, we can conclude that the Linear Regression model is a good fit to the data.\n",
    "\n",
    "\n",
    "The r-squared or the coefficient of determination is 0.4691 on an average for 5-fold cross validation. It means that the predictor is only able to explain 46.91% of the variance in the target variable. This indicates that the model is not a good fit to the data.\n",
    "\n",
    "\n",
    "I carry out normality test to check for distribution of the variables. We can see that the variables do not follow the normal distribution. The Q-Q plots confirm the same.\n",
    "\n",
    "\n",
    "So, we can conclude that the linear regression model is unable to model the data to generate decent results. It should be noted that the model is performing equally on both training and testing datasets. It seems like a case where we would need to model this data using methods that can model non-linear relationships. Also variables need to be transformed to satisfy the normality assumption.\n",
    "\n",
    "\n"
   ]
  }
 ],
 "metadata": {
  "kernelspec": {
   "display_name": "Python 3 (ipykernel)",
   "language": "python",
   "name": "python3"
  },
  "language_info": {
   "codemirror_mode": {
    "name": "ipython",
    "version": 3
   },
   "file_extension": ".py",
   "mimetype": "text/x-python",
   "name": "python",
   "nbconvert_exporter": "python",
   "pygments_lexer": "ipython3",
   "version": "3.10.9"
  }
 },
 "nbformat": 4,
 "nbformat_minor": 2
}
