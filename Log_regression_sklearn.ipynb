{
 "cells": [
  {
   "cell_type": "code",
   "execution_count": 106,
   "id": "eb09567e",
   "metadata": {},
   "outputs": [],
   "source": [
    "#import pandas\n",
    "import pandas as pd\n",
    "col_names = ['pregnant', 'glucose', 'bp', 'skin', 'insulin', 'bmi', 'pedigree', 'age', 'label']\n",
    "# load dataset\n",
    "pima = pd.read_csv(\"diabetes.csv\", header=None, names=col_names)\n"
   ]
  },
  {
   "cell_type": "markdown",
   "id": "db4e7d06",
   "metadata": {},
   "source": [
    "We would like to predict if diabetes test will be positive or negative, given various data about the patients."
   ]
  },
  {
   "cell_type": "code",
   "execution_count": 107,
   "id": "888c222c",
   "metadata": {},
   "outputs": [
    {
     "data": {
      "text/html": [
       "<div>\n",
       "<style scoped>\n",
       "    .dataframe tbody tr th:only-of-type {\n",
       "        vertical-align: middle;\n",
       "    }\n",
       "\n",
       "    .dataframe tbody tr th {\n",
       "        vertical-align: top;\n",
       "    }\n",
       "\n",
       "    .dataframe thead th {\n",
       "        text-align: right;\n",
       "    }\n",
       "</style>\n",
       "<table border=\"1\" class=\"dataframe\">\n",
       "  <thead>\n",
       "    <tr style=\"text-align: right;\">\n",
       "      <th></th>\n",
       "      <th>pregnant</th>\n",
       "      <th>glucose</th>\n",
       "      <th>bp</th>\n",
       "      <th>skin</th>\n",
       "      <th>insulin</th>\n",
       "      <th>bmi</th>\n",
       "      <th>pedigree</th>\n",
       "      <th>age</th>\n",
       "      <th>label</th>\n",
       "    </tr>\n",
       "  </thead>\n",
       "  <tbody>\n",
       "    <tr>\n",
       "      <th>0</th>\n",
       "      <td>Pregnancies</td>\n",
       "      <td>Glucose</td>\n",
       "      <td>BloodPressure</td>\n",
       "      <td>SkinThickness</td>\n",
       "      <td>Insulin</td>\n",
       "      <td>BMI</td>\n",
       "      <td>DiabetesPedigreeFunction</td>\n",
       "      <td>Age</td>\n",
       "      <td>Outcome</td>\n",
       "    </tr>\n",
       "    <tr>\n",
       "      <th>1</th>\n",
       "      <td>6</td>\n",
       "      <td>148</td>\n",
       "      <td>72</td>\n",
       "      <td>35</td>\n",
       "      <td>0</td>\n",
       "      <td>33.6</td>\n",
       "      <td>0.627</td>\n",
       "      <td>50</td>\n",
       "      <td>1</td>\n",
       "    </tr>\n",
       "    <tr>\n",
       "      <th>2</th>\n",
       "      <td>1</td>\n",
       "      <td>85</td>\n",
       "      <td>66</td>\n",
       "      <td>29</td>\n",
       "      <td>0</td>\n",
       "      <td>26.6</td>\n",
       "      <td>0.351</td>\n",
       "      <td>31</td>\n",
       "      <td>0</td>\n",
       "    </tr>\n",
       "    <tr>\n",
       "      <th>3</th>\n",
       "      <td>8</td>\n",
       "      <td>183</td>\n",
       "      <td>64</td>\n",
       "      <td>0</td>\n",
       "      <td>0</td>\n",
       "      <td>23.3</td>\n",
       "      <td>0.672</td>\n",
       "      <td>32</td>\n",
       "      <td>1</td>\n",
       "    </tr>\n",
       "    <tr>\n",
       "      <th>4</th>\n",
       "      <td>1</td>\n",
       "      <td>89</td>\n",
       "      <td>66</td>\n",
       "      <td>23</td>\n",
       "      <td>94</td>\n",
       "      <td>28.1</td>\n",
       "      <td>0.167</td>\n",
       "      <td>21</td>\n",
       "      <td>0</td>\n",
       "    </tr>\n",
       "  </tbody>\n",
       "</table>\n",
       "</div>"
      ],
      "text/plain": [
       "      pregnant  glucose             bp           skin  insulin   bmi  \\\n",
       "0  Pregnancies  Glucose  BloodPressure  SkinThickness  Insulin   BMI   \n",
       "1            6      148             72             35        0  33.6   \n",
       "2            1       85             66             29        0  26.6   \n",
       "3            8      183             64              0        0  23.3   \n",
       "4            1       89             66             23       94  28.1   \n",
       "\n",
       "                   pedigree  age    label  \n",
       "0  DiabetesPedigreeFunction  Age  Outcome  \n",
       "1                     0.627   50        1  \n",
       "2                     0.351   31        0  \n",
       "3                     0.672   32        1  \n",
       "4                     0.167   21        0  "
      ]
     },
     "execution_count": 107,
     "metadata": {},
     "output_type": "execute_result"
    }
   ],
   "source": [
    "pima.head()"
   ]
  },
  {
   "cell_type": "code",
   "execution_count": null,
   "id": "4401f76d",
   "metadata": {},
   "outputs": [],
   "source": []
  },
  {
   "cell_type": "code",
   "execution_count": 108,
   "id": "4b9bd618",
   "metadata": {},
   "outputs": [],
   "source": [
    "#split dataset in features and target variable\n",
    "feature_cols = ['pregnant', 'insulin', 'bmi', 'age','glucose','bp','pedigree']\n",
    "X = pd.get_dummies(pima[feature_cols]) # Features\n",
    "y = pima.label # Target variable\n"
   ]
  },
  {
   "cell_type": "code",
   "execution_count": null,
   "id": "e2fbfe30",
   "metadata": {},
   "outputs": [],
   "source": []
  },
  {
   "cell_type": "code",
   "execution_count": 127,
   "id": "ede8ee03",
   "metadata": {},
   "outputs": [],
   "source": [
    "# split X and y into training and testing sets\n",
    "from sklearn.model_selection import train_test_split\n",
    "\n",
    "X_train, X_test, y_train, y_test = train_test_split(X, y, test_size=0.25, random_state=16)"
   ]
  },
  {
   "cell_type": "code",
   "execution_count": null,
   "id": "82095896",
   "metadata": {},
   "outputs": [],
   "source": []
  },
  {
   "cell_type": "code",
   "execution_count": 128,
   "id": "71fe2c53",
   "metadata": {},
   "outputs": [],
   "source": [
    "# import the class\n",
    "from sklearn.linear_model import LogisticRegression\n",
    "\n",
    "# instantiate the model (using the default parameters)\n",
    "logreg = LogisticRegression(random_state=16) # in order to fix the splitting\n",
    "\n",
    "# fit the model with data\n",
    "logreg.fit(X_train, y_train)\n",
    "\n",
    "y_pred = logreg.predict(X_test)"
   ]
  },
  {
   "cell_type": "code",
   "execution_count": 129,
   "id": "28ad6f25",
   "metadata": {},
   "outputs": [
    {
     "data": {
      "text/plain": [
       "array([[101,  30],\n",
       "       [ 30,  32]])"
      ]
     },
     "execution_count": 129,
     "metadata": {},
     "output_type": "execute_result"
    }
   ],
   "source": [
    "# import the metrics class\n",
    "from sklearn import metrics\n",
    "\n",
    "cnf_matrix = metrics.confusion_matrix(y_test, y_pred)\n",
    "cnf_matrix # not really good so far..."
   ]
  },
  {
   "cell_type": "markdown",
   "id": "9448a8c0",
   "metadata": {},
   "source": [
    "The confusion matrix is a table that summarizes the performance of a classification algorithm by comparing the predicted and actual class labels for a set of test data. We see thet for the second class (second row) our model predicts around half of the data wrongly (the false negatives FN are almost as many as the true negatives TN).\n",
    "The confusion matrix order is \"TP, FP\" on row 1, and \"FN, TN\" on row 2, where TP means \"true positive\" and FP is \"false positive\"."
   ]
  },
  {
   "cell_type": "code",
   "execution_count": 130,
   "id": "44a3cb7f",
   "metadata": {},
   "outputs": [
    {
     "name": "stdout",
     "output_type": "stream",
     "text": [
      "                  precision    recall  f1-score   support\n",
      "\n",
      "without diabetes       0.77      0.77      0.77       131\n",
      "   with diabetes       0.52      0.52      0.52        62\n",
      "\n",
      "        accuracy                           0.69       193\n",
      "       macro avg       0.64      0.64      0.64       193\n",
      "    weighted avg       0.69      0.69      0.69       193\n",
      "\n"
     ]
    }
   ],
   "source": [
    "from sklearn.metrics import classification_report\n",
    "target_names = ['without diabetes', 'with diabetes']\n",
    "print(classification_report(y_test, y_pred, target_names=target_names)) # works also with multi class classification"
   ]
  },
  {
   "cell_type": "markdown",
   "id": "db3bd10b",
   "metadata": {},
   "source": [
    "This code snippet shows the performance metrics of a binary classification model. The model has predicted whether a person has diabetes or not, and the metrics are calculated based on the comparison of the predicted values with the actual values. The precision, recall, and f1-score are three commonly used metrics to evaluate the performance of a binary classification model. Precision measures the proportion of true positives among all the positive predictions, while recall measures the proportion of true positives among all the actual positives. \n",
    "\n",
    "F1-score is the harmonic mean of precision and recall. The support column shows the number of samples in each class. In this case, there are 123 samples without diabetes and 69 samples with diabetes. The accuracy is the proportion of correct predictions among all the predictions. The macro avg and weighted avg are the average metrics across all the classes, with the former giving equal weight to each class and the latter giving more weight to the class with more samples.\n",
    "\n",
    "You got a classification rate of 0.69%, considered as not so good accuracy. How can you improve?"
   ]
  },
  {
   "cell_type": "code",
   "execution_count": 121,
   "id": "f93bc5c4",
   "metadata": {},
   "outputs": [],
   "source": [
    "logreg1 = LogisticRegression(random_state=16, penalty=\"l2\", C=1) #change regularization parameter C, does not much regulasize... change to C = 10...\n",
    "logreg1.fit(X_train, y_train) # it does not get better with different C\n",
    "# default of C is 1\n",
    "# C is 1/lambda as in slides\n",
    "\n",
    "y_pred1 = logreg1.predict(X_test)\n",
    "\n",
    "# sparse modell take L1\n",
    "# otherwise L2, is usually a good choice"
   ]
  },
  {
   "cell_type": "code",
   "execution_count": 122,
   "id": "82336da6",
   "metadata": {},
   "outputs": [
    {
     "name": "stdout",
     "output_type": "stream",
     "text": [
      "                  precision    recall  f1-score   support\n",
      "\n",
      "without diabetes       0.77      0.77      0.77       131\n",
      "   with diabetes       0.52      0.52      0.52        62\n",
      "\n",
      "        accuracy                           0.69       193\n",
      "       macro avg       0.64      0.64      0.64       193\n",
      "    weighted avg       0.69      0.69      0.69       193\n",
      "\n"
     ]
    }
   ],
   "source": [
    "target_names = ['without diabetes', 'with diabetes']\n",
    "print(classification_report(y_test, y_pred1, target_names=target_names))"
   ]
  },
  {
   "cell_type": "markdown",
   "id": "d7de7c19",
   "metadata": {},
   "source": [
    "Regularization parameter C is defined such that a large parameters corresponds to small regularization effect. Furthermore, the model is not sensitive to this parameter.\n",
    "The only way to improve classification accuracy is to increase the training data, or to change the distribution of the training data (reshuffle)."
   ]
  },
  {
   "cell_type": "code",
   "execution_count": null,
   "id": "0de05250",
   "metadata": {},
   "outputs": [],
   "source": []
  },
  {
   "cell_type": "code",
   "execution_count": null,
   "id": "0c601515",
   "metadata": {},
   "outputs": [],
   "source": []
  }
 ],
 "metadata": {
  "kernelspec": {
   "display_name": "Python 3 (ipykernel)",
   "language": "python",
   "name": "python3"
  },
  "language_info": {
   "codemirror_mode": {
    "name": "ipython",
    "version": 3
   },
   "file_extension": ".py",
   "mimetype": "text/x-python",
   "name": "python",
   "nbconvert_exporter": "python",
   "pygments_lexer": "ipython3",
   "version": "3.11.5"
  }
 },
 "nbformat": 4,
 "nbformat_minor": 5
}
