{
 "cells": [
  {
   "cell_type": "markdown",
   "id": "66180b12",
   "metadata": {},
   "source": [
    "This notebook demonstrates the process of implementing logistic regression from scratch using gradient descent.\n",
    "The dataset used is the Wine Dataset from the UCI Machine Learning Repository. This dataset contains the results of\n",
    "a chemical analysis of wines grown in the same region in Italy by three different cultivators. There are 13 different\n",
    "measurements taken for different constituents found in the three types of wine.\n",
    "\n",
    "We will be focusing on using 'alcohol' and 'ash' as features to predict the 'class' of the wine.\n",
    "However, the implementation will be generalizable to use any number of features."
   ]
  },
  {
   "cell_type": "code",
   "execution_count": 6,
   "id": "a460b321",
   "metadata": {},
   "outputs": [],
   "source": [
    "# Import necessary libraries\n",
    "\n",
    "import numpy as np\n",
    "import pandas as pd\n",
    "import matplotlib.pyplot as plt\n",
    "from matplotlib.colors import ListedColormap\n"
   ]
  },
  {
   "cell_type": "code",
   "execution_count": 7,
   "id": "e325bdfb-f805-4156-bb9e-6dfac433010d",
   "metadata": {},
   "outputs": [
    {
     "data": {
      "application/javascript": [
       "IPython.notebook.set_autosave_interval(5000)"
      ]
     },
     "metadata": {},
     "output_type": "display_data"
    },
    {
     "name": "stdout",
     "output_type": "stream",
     "text": [
      "Autosaving every 5 seconds\n"
     ]
    }
   ],
   "source": [
    "%autosave 5 # did work before...??? - Javascript Error: IPython is not defined"
   ]
  },
  {
   "cell_type": "code",
   "execution_count": null,
   "id": "87b329fb-3100-472e-a972-536a10b1177c",
   "metadata": {},
   "outputs": [],
   "source": []
  },
  {
   "cell_type": "markdown",
   "id": "80cd710c",
   "metadata": {},
   "source": [
    "First, we will load the wine dataset using Pandas, selecting 'alcohol' and 'ash' as our features and 'class' as our target.\n"
   ]
  },
  {
   "cell_type": "code",
   "execution_count": 8,
   "id": "74e59ce5",
   "metadata": {},
   "outputs": [
    {
     "name": "stdout",
     "output_type": "stream",
     "text": [
      "   class  alcohol  malic_acid   ash  alcalinity  magnesium  total_phenols  \\\n",
      "0      1    14.23        1.71  2.43        15.6        127           2.80   \n",
      "1      1    13.20        1.78  2.14        11.2        100           2.65   \n",
      "2      1    13.16        2.36  2.67        18.6        101           2.80   \n",
      "3      1    14.37        1.95  2.50        16.8        113           3.85   \n",
      "4      1    13.24        2.59  2.87        21.0        118           2.80   \n",
      "\n",
      "   flavanoids  nonflavanoid_phenols  proanthocyanins  color   hue    od  \\\n",
      "0        3.06                  0.28             2.29   5.64  1.04  3.92   \n",
      "1        2.76                  0.26             1.28   4.38  1.05  3.40   \n",
      "2        3.24                  0.30             2.81   5.68  1.03  3.17   \n",
      "3        3.49                  0.24             2.18   7.80  0.86  3.45   \n",
      "4        2.69                  0.39             1.82   4.32  1.04  2.93   \n",
      "\n",
      "   proline  \n",
      "0     1065  \n",
      "1     1050  \n",
      "2     1185  \n",
      "3     1480  \n",
      "4      735  \n"
     ]
    }
   ],
   "source": [
    "# Load dataset\n",
    "\n",
    "df = pd.read_csv('wine_data.txt')\n",
    "print(df.head())\n",
    "\n",
    "\n"
   ]
  },
  {
   "cell_type": "code",
   "execution_count": 16,
   "id": "5249894c-0689-4b09-b2a5-b80ed5a07957",
   "metadata": {},
   "outputs": [],
   "source": [
    "# Separate features and target\n",
    "X = df[['alcohol', 'ash']].values\n",
    "y = df['class'].values\n",
    "\n",
    "# Convert class labels to binary (class 1 vs others class)\n",
    "y = (y == 1).astype(int) # 1 ff class = 1"
   ]
  },
  {
   "cell_type": "code",
   "execution_count": 17,
   "id": "c41e467c-df51-4b1f-87f3-1d9f2761a6b8",
   "metadata": {},
   "outputs": [
    {
     "name": "stdout",
     "output_type": "stream",
     "text": [
      "[[14.23  2.43]\n",
      " [13.2   2.14]\n",
      " [13.16  2.67]\n",
      " [14.37  2.5 ]\n",
      " [13.24  2.87]\n",
      " [14.2   2.45]\n",
      " [14.39  2.45]\n",
      " [14.06  2.61]\n",
      " [14.83  2.17]\n",
      " [13.86  2.27]\n",
      " [14.1   2.3 ]\n",
      " [14.12  2.32]\n",
      " [13.75  2.41]\n",
      " [14.75  2.39]\n",
      " [14.38  2.38]\n",
      " [13.63  2.7 ]\n",
      " [14.3   2.72]\n",
      " [13.83  2.62]\n",
      " [14.19  2.48]\n",
      " [13.64  2.56]\n",
      " [14.06  2.28]\n",
      " [12.93  2.65]\n",
      " [13.71  2.36]\n",
      " [12.85  2.52]\n",
      " [13.5   2.61]\n",
      " [13.05  3.22]\n",
      " [13.39  2.62]\n",
      " [13.3   2.14]\n",
      " [13.87  2.8 ]\n",
      " [14.02  2.21]\n",
      " [13.73  2.7 ]\n",
      " [13.58  2.36]\n",
      " [13.68  2.36]\n",
      " [13.76  2.7 ]\n",
      " [13.51  2.65]\n",
      " [13.48  2.41]\n",
      " [13.28  2.84]\n",
      " [13.05  2.55]\n",
      " [13.07  2.1 ]\n",
      " [14.22  2.51]\n",
      " [13.56  2.31]\n",
      " [13.41  2.12]\n",
      " [13.88  2.59]\n",
      " [13.24  2.29]\n",
      " [13.05  2.1 ]\n",
      " [14.21  2.44]\n",
      " [14.38  2.28]\n",
      " [13.9   2.12]\n",
      " [14.1   2.4 ]\n",
      " [13.94  2.27]\n",
      " [13.05  2.04]\n",
      " [13.83  2.6 ]\n",
      " [13.82  2.42]\n",
      " [13.77  2.68]\n",
      " [13.74  2.25]\n",
      " [13.56  2.46]\n",
      " [14.22  2.3 ]\n",
      " [13.29  2.68]\n",
      " [13.72  2.5 ]\n",
      " [12.37  1.36]\n",
      " [12.33  2.28]\n",
      " [12.64  2.02]\n",
      " [13.67  1.92]\n",
      " [12.37  2.16]\n",
      " [12.17  2.53]\n",
      " [12.37  2.56]\n",
      " [13.11  1.7 ]\n",
      " [12.37  1.92]\n",
      " [13.34  2.36]\n",
      " [12.21  1.75]\n",
      " [12.29  2.21]\n",
      " [13.86  2.67]\n",
      " [13.49  2.24]\n",
      " [12.99  2.6 ]\n",
      " [11.96  2.3 ]\n",
      " [11.66  1.92]\n",
      " [13.03  1.71]\n",
      " [11.84  2.23]\n",
      " [12.33  1.95]\n",
      " [12.7   2.4 ]\n",
      " [12.    2.  ]\n",
      " [12.72  2.2 ]\n",
      " [12.08  2.51]\n",
      " [13.05  2.32]\n",
      " [11.84  2.58]\n",
      " [12.67  2.24]\n",
      " [12.16  2.31]\n",
      " [11.65  2.62]\n",
      " [11.64  2.46]\n",
      " [12.08  2.3 ]\n",
      " [12.08  2.32]\n",
      " [12.    2.42]\n",
      " [12.69  2.26]\n",
      " [12.29  2.22]\n",
      " [11.62  2.28]\n",
      " [12.47  2.2 ]\n",
      " [11.81  2.74]\n",
      " [12.29  1.98]\n",
      " [12.37  2.1 ]\n",
      " [12.29  2.21]\n",
      " [12.08  1.7 ]\n",
      " [12.6   1.9 ]\n",
      " [12.34  2.46]\n",
      " [11.82  1.88]\n",
      " [12.51  1.98]\n",
      " [12.42  2.27]\n",
      " [12.25  2.12]\n",
      " [12.72  2.28]\n",
      " [12.22  1.94]\n",
      " [11.61  2.7 ]\n",
      " [11.46  1.82]\n",
      " [12.52  2.17]\n",
      " [11.76  2.92]\n",
      " [11.41  2.5 ]\n",
      " [12.08  2.5 ]\n",
      " [11.03  2.2 ]\n",
      " [11.82  1.99]\n",
      " [12.42  2.19]\n",
      " [12.77  1.98]\n",
      " [12.    2.  ]\n",
      " [11.45  2.42]\n",
      " [11.56  3.23]\n",
      " [12.42  2.73]\n",
      " [13.05  2.13]\n",
      " [11.87  2.39]\n",
      " [12.07  2.17]\n",
      " [12.43  2.29]\n",
      " [11.79  2.78]\n",
      " [12.37  2.3 ]\n",
      " [12.04  2.38]\n",
      " [12.86  2.32]\n",
      " [12.88  2.4 ]\n",
      " [12.81  2.4 ]\n",
      " [12.7   2.36]\n",
      " [12.51  2.25]\n",
      " [12.6   2.2 ]\n",
      " [12.25  2.54]\n",
      " [12.53  2.64]\n",
      " [13.49  2.19]\n",
      " [12.84  2.61]\n",
      " [12.93  2.7 ]\n",
      " [13.36  2.35]\n",
      " [13.52  2.72]\n",
      " [13.62  2.35]\n",
      " [12.25  2.2 ]\n",
      " [13.16  2.15]\n",
      " [13.88  2.23]\n",
      " [12.87  2.48]\n",
      " [13.32  2.38]\n",
      " [13.08  2.36]\n",
      " [13.5   2.62]\n",
      " [12.79  2.48]\n",
      " [13.11  2.75]\n",
      " [13.23  2.28]\n",
      " [12.58  2.1 ]\n",
      " [13.17  2.32]\n",
      " [13.84  2.38]\n",
      " [12.45  2.64]\n",
      " [14.34  2.7 ]\n",
      " [13.48  2.64]\n",
      " [12.36  2.38]\n",
      " [13.69  2.54]\n",
      " [12.85  2.58]\n",
      " [12.96  2.35]\n",
      " [13.78  2.3 ]\n",
      " [13.73  2.26]\n",
      " [13.45  2.6 ]\n",
      " [12.82  2.3 ]\n",
      " [13.58  2.69]\n",
      " [13.4   2.86]\n",
      " [12.2   2.32]\n",
      " [12.77  2.28]\n",
      " [14.16  2.48]\n",
      " [13.71  2.45]\n",
      " [13.4   2.48]\n",
      " [13.27  2.26]\n",
      " [13.17  2.37]\n",
      " [14.13  2.74]]\n"
     ]
    }
   ],
   "source": [
    "print(X)"
   ]
  },
  {
   "cell_type": "code",
   "execution_count": 20,
   "id": "e778e6c4-a8bf-400b-9526-15ca7b8ead98",
   "metadata": {},
   "outputs": [],
   "source": [
    "# Add intercept term --> a '1' to be multiplied by the constant, it is not the intercept itself...\n",
    "X = np.concatenate([np.ones((X.shape[0], 1)), X], axis=1)\n",
    "# probably sklearn needs this format..."
   ]
  },
  {
   "cell_type": "code",
   "execution_count": 13,
   "id": "354b606d-3a80-49e3-90e7-b46bfd1b2eff",
   "metadata": {},
   "outputs": [
    {
     "name": "stdout",
     "output_type": "stream",
     "text": [
      "[[ 1.   14.23  2.43]\n",
      " [ 1.   13.2   2.14]\n",
      " [ 1.   13.16  2.67]\n",
      " [ 1.   14.37  2.5 ]\n",
      " [ 1.   13.24  2.87]\n",
      " [ 1.   14.2   2.45]\n",
      " [ 1.   14.39  2.45]\n",
      " [ 1.   14.06  2.61]\n",
      " [ 1.   14.83  2.17]\n",
      " [ 1.   13.86  2.27]\n",
      " [ 1.   14.1   2.3 ]\n",
      " [ 1.   14.12  2.32]\n",
      " [ 1.   13.75  2.41]\n",
      " [ 1.   14.75  2.39]\n",
      " [ 1.   14.38  2.38]\n",
      " [ 1.   13.63  2.7 ]\n",
      " [ 1.   14.3   2.72]\n",
      " [ 1.   13.83  2.62]\n",
      " [ 1.   14.19  2.48]\n",
      " [ 1.   13.64  2.56]\n",
      " [ 1.   14.06  2.28]\n",
      " [ 1.   12.93  2.65]\n",
      " [ 1.   13.71  2.36]\n",
      " [ 1.   12.85  2.52]\n",
      " [ 1.   13.5   2.61]\n",
      " [ 1.   13.05  3.22]\n",
      " [ 1.   13.39  2.62]\n",
      " [ 1.   13.3   2.14]\n",
      " [ 1.   13.87  2.8 ]\n",
      " [ 1.   14.02  2.21]\n",
      " [ 1.   13.73  2.7 ]\n",
      " [ 1.   13.58  2.36]\n",
      " [ 1.   13.68  2.36]\n",
      " [ 1.   13.76  2.7 ]\n",
      " [ 1.   13.51  2.65]\n",
      " [ 1.   13.48  2.41]\n",
      " [ 1.   13.28  2.84]\n",
      " [ 1.   13.05  2.55]\n",
      " [ 1.   13.07  2.1 ]\n",
      " [ 1.   14.22  2.51]\n",
      " [ 1.   13.56  2.31]\n",
      " [ 1.   13.41  2.12]\n",
      " [ 1.   13.88  2.59]\n",
      " [ 1.   13.24  2.29]\n",
      " [ 1.   13.05  2.1 ]\n",
      " [ 1.   14.21  2.44]\n",
      " [ 1.   14.38  2.28]\n",
      " [ 1.   13.9   2.12]\n",
      " [ 1.   14.1   2.4 ]\n",
      " [ 1.   13.94  2.27]\n",
      " [ 1.   13.05  2.04]\n",
      " [ 1.   13.83  2.6 ]\n",
      " [ 1.   13.82  2.42]\n",
      " [ 1.   13.77  2.68]\n",
      " [ 1.   13.74  2.25]\n",
      " [ 1.   13.56  2.46]\n",
      " [ 1.   14.22  2.3 ]\n",
      " [ 1.   13.29  2.68]\n",
      " [ 1.   13.72  2.5 ]\n",
      " [ 1.   12.37  1.36]\n",
      " [ 1.   12.33  2.28]\n",
      " [ 1.   12.64  2.02]\n",
      " [ 1.   13.67  1.92]\n",
      " [ 1.   12.37  2.16]\n",
      " [ 1.   12.17  2.53]\n",
      " [ 1.   12.37  2.56]\n",
      " [ 1.   13.11  1.7 ]\n",
      " [ 1.   12.37  1.92]\n",
      " [ 1.   13.34  2.36]\n",
      " [ 1.   12.21  1.75]\n",
      " [ 1.   12.29  2.21]\n",
      " [ 1.   13.86  2.67]\n",
      " [ 1.   13.49  2.24]\n",
      " [ 1.   12.99  2.6 ]\n",
      " [ 1.   11.96  2.3 ]\n",
      " [ 1.   11.66  1.92]\n",
      " [ 1.   13.03  1.71]\n",
      " [ 1.   11.84  2.23]\n",
      " [ 1.   12.33  1.95]\n",
      " [ 1.   12.7   2.4 ]\n",
      " [ 1.   12.    2.  ]\n",
      " [ 1.   12.72  2.2 ]\n",
      " [ 1.   12.08  2.51]\n",
      " [ 1.   13.05  2.32]\n",
      " [ 1.   11.84  2.58]\n",
      " [ 1.   12.67  2.24]\n",
      " [ 1.   12.16  2.31]\n",
      " [ 1.   11.65  2.62]\n",
      " [ 1.   11.64  2.46]\n",
      " [ 1.   12.08  2.3 ]\n",
      " [ 1.   12.08  2.32]\n",
      " [ 1.   12.    2.42]\n",
      " [ 1.   12.69  2.26]\n",
      " [ 1.   12.29  2.22]\n",
      " [ 1.   11.62  2.28]\n",
      " [ 1.   12.47  2.2 ]\n",
      " [ 1.   11.81  2.74]\n",
      " [ 1.   12.29  1.98]\n",
      " [ 1.   12.37  2.1 ]\n",
      " [ 1.   12.29  2.21]\n",
      " [ 1.   12.08  1.7 ]\n",
      " [ 1.   12.6   1.9 ]\n",
      " [ 1.   12.34  2.46]\n",
      " [ 1.   11.82  1.88]\n",
      " [ 1.   12.51  1.98]\n",
      " [ 1.   12.42  2.27]\n",
      " [ 1.   12.25  2.12]\n",
      " [ 1.   12.72  2.28]\n",
      " [ 1.   12.22  1.94]\n",
      " [ 1.   11.61  2.7 ]\n",
      " [ 1.   11.46  1.82]\n",
      " [ 1.   12.52  2.17]\n",
      " [ 1.   11.76  2.92]\n",
      " [ 1.   11.41  2.5 ]\n",
      " [ 1.   12.08  2.5 ]\n",
      " [ 1.   11.03  2.2 ]\n",
      " [ 1.   11.82  1.99]\n",
      " [ 1.   12.42  2.19]\n",
      " [ 1.   12.77  1.98]\n",
      " [ 1.   12.    2.  ]\n",
      " [ 1.   11.45  2.42]\n",
      " [ 1.   11.56  3.23]\n",
      " [ 1.   12.42  2.73]\n",
      " [ 1.   13.05  2.13]\n",
      " [ 1.   11.87  2.39]\n",
      " [ 1.   12.07  2.17]\n",
      " [ 1.   12.43  2.29]\n",
      " [ 1.   11.79  2.78]\n",
      " [ 1.   12.37  2.3 ]\n",
      " [ 1.   12.04  2.38]\n",
      " [ 1.   12.86  2.32]\n",
      " [ 1.   12.88  2.4 ]\n",
      " [ 1.   12.81  2.4 ]\n",
      " [ 1.   12.7   2.36]\n",
      " [ 1.   12.51  2.25]\n",
      " [ 1.   12.6   2.2 ]\n",
      " [ 1.   12.25  2.54]\n",
      " [ 1.   12.53  2.64]\n",
      " [ 1.   13.49  2.19]\n",
      " [ 1.   12.84  2.61]\n",
      " [ 1.   12.93  2.7 ]\n",
      " [ 1.   13.36  2.35]\n",
      " [ 1.   13.52  2.72]\n",
      " [ 1.   13.62  2.35]\n",
      " [ 1.   12.25  2.2 ]\n",
      " [ 1.   13.16  2.15]\n",
      " [ 1.   13.88  2.23]\n",
      " [ 1.   12.87  2.48]\n",
      " [ 1.   13.32  2.38]\n",
      " [ 1.   13.08  2.36]\n",
      " [ 1.   13.5   2.62]\n",
      " [ 1.   12.79  2.48]\n",
      " [ 1.   13.11  2.75]\n",
      " [ 1.   13.23  2.28]\n",
      " [ 1.   12.58  2.1 ]\n",
      " [ 1.   13.17  2.32]\n",
      " [ 1.   13.84  2.38]\n",
      " [ 1.   12.45  2.64]\n",
      " [ 1.   14.34  2.7 ]\n",
      " [ 1.   13.48  2.64]\n",
      " [ 1.   12.36  2.38]\n",
      " [ 1.   13.69  2.54]\n",
      " [ 1.   12.85  2.58]\n",
      " [ 1.   12.96  2.35]\n",
      " [ 1.   13.78  2.3 ]\n",
      " [ 1.   13.73  2.26]\n",
      " [ 1.   13.45  2.6 ]\n",
      " [ 1.   12.82  2.3 ]\n",
      " [ 1.   13.58  2.69]\n",
      " [ 1.   13.4   2.86]\n",
      " [ 1.   12.2   2.32]\n",
      " [ 1.   12.77  2.28]\n",
      " [ 1.   14.16  2.48]\n",
      " [ 1.   13.71  2.45]\n",
      " [ 1.   13.4   2.48]\n",
      " [ 1.   13.27  2.26]\n",
      " [ 1.   13.17  2.37]\n",
      " [ 1.   14.13  2.74]]\n"
     ]
    }
   ],
   "source": [
    "print(X)"
   ]
  },
  {
   "cell_type": "code",
   "execution_count": 21,
   "id": "ba5b51c3-2633-4da4-91a1-99a936e4e785",
   "metadata": {},
   "outputs": [],
   "source": [
    "from sklearn.model_selection import train_test_split\n",
    "X_train, X_test, y_train, y_test = train_test_split(X, y)"
   ]
  },
  {
   "cell_type": "markdown",
   "id": "6076fcd6",
   "metadata": {},
   "source": [
    "With our data loaded, we now define the necessary functions for logistic regression:\n",
    "\n",
    "- **Sigmoid Function**: This function maps any real-valued number into the range of 0 to 1, which is useful when our outcome is binary.\n",
    "\n",
    "- **Cost Function**: Also known as the log-loss or binary cross-entropy loss, measures the performance of our model. It quantifies the difference between the predicted values and the actual values.\n",
    "\n",
    "- **Gradient Function**: This computes the gradient of the cost function. The gradient is used to update the parameters.\n",
    "\n",
    "- **Gradient Descent Function**: This function iteratively adjusts the parameters to minimize the cost function.\n",
    "\n",
    "- **Prediction Function**: Generates predictions based on learned model parameters by applying a threshold of 0.5.\n",
    "\"\"\""
   ]
  },
  {
   "cell_type": "code",
   "execution_count": 22,
   "id": "18aae63e",
   "metadata": {},
   "outputs": [],
   "source": [
    "def sigmoid(z):\n",
    "    return 1 / (1 + np.exp(-z))\n",
    "\n"
   ]
  },
  {
   "cell_type": "code",
   "execution_count": 23,
   "id": "87ad8c4a-5ec2-4fa1-8b5c-a1f2dc36039e",
   "metadata": {},
   "outputs": [
    {
     "name": "stdout",
     "output_type": "stream",
     "text": [
      "[[ 1.    1.    1.    1.   14.23  2.43]\n",
      " [ 1.    1.    1.    1.   13.2   2.14]\n",
      " [ 1.    1.    1.    1.   13.16  2.67]\n",
      " ...\n",
      " [ 1.    1.    1.    1.   13.27  2.26]\n",
      " [ 1.    1.    1.    1.   13.17  2.37]\n",
      " [ 1.    1.    1.    1.   14.13  2.74]]\n"
     ]
    }
   ],
   "source": [
    "X_with_intercept = np.insert(X, 0, 1, axis=1)\n",
    "print(X_with_intercept) \n",
    "# warum 3 Spalten? woher kommt die 3?\n",
    "# warum brauchen wir noch mehr intercept terms, wir hatten doch schon eine 1er Spalte?"
   ]
  },
  {
   "cell_type": "code",
   "execution_count": 24,
   "id": "0a47da24",
   "metadata": {},
   "outputs": [],
   "source": [
    "from scipy.optimize import fmin_tnc\n",
    "from sklearn import metrics\n",
    "\n",
    "# Define the logistic regression cost function. Note that we use vectorization, and theta includes theta_0, theta_1, etc.\n",
    "def log_reg_cost_function(theta, X, y): # 'dot'? because they are vectors\n",
    "    m = X.shape[0]  # number of training examples\n",
    "    h = sigmoid(X.dot(theta))\n",
    "    cost = (-1 / m) * (y.T.dot(np.log(h)) + (1 - y).T.dot(np.log(1 - h)))\n",
    "    return cost\n",
    "\n",
    "# Define the gradient of the logistic regression cost function\n",
    "def log_reg_gradient_function(theta, X, y):\n",
    "    m = X.shape[0]  # number of training examples\n",
    "    h = sigmoid(X.dot(theta))\n",
    "    gradient = (1 / m) * (X.T.dot(h - y))\n",
    "    return gradient\n",
    "\n",
    "# Define the function to train logistic regression model\n",
    "def log_reg_train_function(X, y):\n",
    "    # Add intercept term to X\n",
    "    X_with_intercept = np.insert(X, 0, 1, axis=1)\n",
    "    # Initial theta is 0 (n+1) dimensions, where n is number of features\n",
    "    initial_theta = np.zeros(X_with_intercept.shape[1])\n",
    "    # Optimize the cost function (note that we use a solver, or optimizer, called fmin_tnc)\n",
    "    theta, _, _ = fmin_tnc(func=log_reg_cost_function, x0=initial_theta,\n",
    "                            fprime=log_reg_gradient_function, args=(X_with_intercept, y))\n",
    "    return theta"
   ]
  },
  {
   "cell_type": "code",
   "execution_count": 26,
   "id": "e6a903ff",
   "metadata": {},
   "outputs": [
    {
     "name": "stdout",
     "output_type": "stream",
     "text": [
      "[-9.74791256 -9.74791256 -9.74791256 -9.74791256  2.64421948  1.39100953]\n"
     ]
    },
    {
     "name": "stderr",
     "output_type": "stream",
     "text": [
      "  NIT   NF   F                       GTG\n",
      "    0    1  6.931471805599452E-01   3.29511241E+00\n",
      "tnc: stepmx = 1000\n",
      "    1    5  4.306114914056288E-01   2.76363664E-01\n",
      "    2   12  3.848354367695200E-01   2.01040634E-04\n",
      "tnc: fscale = 70.5274\n",
      "    3   16  3.817481541217297E-01   1.01690062E-04\n",
      "    4   20  3.816257216765258E-01   3.07063295E-07\n",
      "tnc: fscale = 1804.62\n",
      "    5   24  3.816255939147631E-01   6.21676646E-10\n",
      "tnc: fscale = 40106.8\n",
      "tnc: |fn-fn-1] = 1.35311e-11 -> convergence\n",
      "    6   27  3.816255939012320E-01   5.68466110E-16\n",
      "tnc: Converged (|f_n-f_(n-1)| ~= 0)\n"
     ]
    }
   ],
   "source": [
    "# Train the model using the defined function\n",
    "theta = log_reg_train_function(X_train, y_train)\n",
    "\n",
    "print(theta) # 6 thetas..., denn n = 5??? yes there are 5 classes"
   ]
  },
  {
   "cell_type": "code",
   "execution_count": 27,
   "id": "b7bdf3b1-d934-45aa-8e4d-e72040ba05a6",
   "metadata": {},
   "outputs": [
    {
     "data": {
      "text/plain": [
       "(0.8222222222222222,\n",
       " 0.8325925925925927,\n",
       " 0.8222222222222222,\n",
       " 0.8257040450588838,\n",
       " array([[27,  5],\n",
       "        [ 3, 10]]))"
      ]
     },
     "execution_count": 27,
     "metadata": {},
     "output_type": "execute_result"
    }
   ],
   "source": [
    "# Make predictions on the test set by using the optimal theta resulting from running gradient descent on the cost gradients\n",
    "X_test_with_intercept = np.insert(X_test, 0, 1, axis=1)\n",
    "y_pred = (sigmoid(X_test_with_intercept.dot(theta)) >= 0.5).astype(int) # add a threshhold in order to get a predicted class instead of a distribution\n",
    "\n",
    "# Calculate performance metrics\n",
    "accuracy = metrics.accuracy_score(y_test, y_pred)\n",
    "precision = metrics.precision_score(y_test, y_pred, average='weighted', zero_division=1)\n",
    "recall = metrics.recall_score(y_test, y_pred, average='weighted', zero_division=1)\n",
    "f1 = metrics.f1_score(y_test, y_pred, average='weighted', zero_division=1)\n",
    "cm = metrics.confusion_matrix(y_test, y_pred)\n",
    "\n",
    "accuracy, precision, recall, f1, cm"
   ]
  },
  {
   "cell_type": "markdown",
   "id": "7d66a03d",
   "metadata": {},
   "source": [
    "Before training our model, let's visualize the data. We will plot the two features on a scatter plot, \n",
    "color-coding them by their respective class labels."
   ]
  },
  {
   "cell_type": "code",
   "execution_count": 30,
   "id": "acb7ed41",
   "metadata": {},
   "outputs": [
    {
     "data": {
      "image/png": "[encoded data removed]",
      "text/plain": [
       "<Figure size 1000x600 with 1 Axes>"
      ]
     },
     "metadata": {},
     "output_type": "display_data"
    }
   ],
   "source": [
    "def plot_data(X, y, labels):\n",
    "    plt.figure(figsize=(10, 6))\n",
    "    plt.scatter(X[y == 1, 1], X[y == 1, 2], color='blue', label=labels[0], edgecolors='k')\n",
    "    plt.scatter(X[y == 0, 1], X[y == 0, 2], color='red', label=labels[1], edgecolors='k')\n",
    "    \n",
    "    plt.xlabel('Alcohol')\n",
    "    plt.ylabel('Ash')\n",
    "    plt.legend()\n",
    "    plt.grid(True)\n",
    "    plt.title('Wine Dataset Visualization')\n",
    "    plt.show()\n",
    "\n",
    "plot_data(X_train, y_train, labels=['Class 1', 'Not Class 1'])"
   ]
  },
  {
   "cell_type": "code",
   "execution_count": 31,
   "id": "7433423a",
   "metadata": {},
   "outputs": [
    {
     "data": {
      "image/png": "[encoded data removed]",
      "text/plain": [
       "<Figure size 1000x600 with 1 Axes>"
      ]
     },
     "metadata": {},
     "output_type": "display_data"
    },
    {
     "data": {
      "text/plain": [
       "Text(0.5, 1.0, 'wrong predictions')"
      ]
     },
     "execution_count": 31,
     "metadata": {},
     "output_type": "execute_result"
    },
    {
     "data": {
      "image/png": "[encoded data removed]",
      "text/plain": [
       "<Figure size 640x480 with 1 Axes>"
      ]
     },
     "metadata": {},
     "output_type": "display_data"
    }
   ],
   "source": [
    "plot_data(X_test, y_test, labels=['Class 1', 'Not Class 1'])\n",
    "\n",
    "\n",
    "plt.plot(y_test-y_pred,'o')\n",
    "plt.title('wrong predictions')\n",
    "\n"
   ]
  },
  {
   "cell_type": "markdown",
   "id": "5b31c74d",
   "metadata": {},
   "source": [
    "How can the model be improved? An easy way would be to add more features. Try this and report the accuracy."
   ]
  },
  {
   "cell_type": "code",
   "execution_count": null,
   "id": "6b56a8b2",
   "metadata": {},
   "outputs": [],
   "source": [
    "# these are the residuals, != 0 means error"
   ]
  },
  {
   "cell_type": "code",
   "execution_count": null,
   "id": "a21d20a6",
   "metadata": {},
   "outputs": [],
   "source": [
    "X = df[['alcohol', 'ash', 'flavanoids', 'alcalinity']].values\n",
    "# if you have no idea, just add everythin oder make a loop where you add iteratively\n",
    "\n",
    "# look again at the confusion matrix\n",
    "# more features helped a lot\n",
    "# maybe with more features it would get worse, try it out,\n",
    "# for sure it the parameters are not predictive...\n",
    "\n",
    "# if you make a resampling, so do not use the same splitting every time, the variation could also come from this.\n",
    "# so if you compare the effect of different features, make sure to use the sampling"
   ]
  },
  {
   "cell_type": "code",
   "execution_count": null,
   "id": "291b7dde",
   "metadata": {},
   "outputs": [],
   "source": [
    "\n"
   ]
  },
  {
   "cell_type": "code",
   "execution_count": null,
   "id": "e87e986d",
   "metadata": {},
   "outputs": [],
   "source": []
  },
  {
   "cell_type": "code",
   "execution_count": null,
   "id": "f15f845e",
   "metadata": {},
   "outputs": [],
   "source": []
  }
 ],
 "metadata": {
  "kernelspec": {
   "display_name": "Python 3 (ipykernel)",
   "language": "python",
   "name": "python3"
  },
  "language_info": {
   "codemirror_mode": {
    "name": "ipython",
    "version": 3
   },
   "file_extension": ".py",
   "mimetype": "text/x-python",
   "name": "python",
   "nbconvert_exporter": "python",
   "pygments_lexer": "ipython3",
   "version": "3.11.5"
  }
 },
 "nbformat": 4,
 "nbformat_minor": 5
}
